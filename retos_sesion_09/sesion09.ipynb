{
 "cells": [
  {
   "cell_type": "markdown",
   "metadata": {},
   "source": [
    "# **Listas**\n",
    "\n",
    "**Estructura de datos**\n",
    "\n",
    "Una estructura de datos es una forma de organizar y almacenar datos\n",
    "\n",
    "De manera eficiente para su uso y manipulación\n",
    "\n",
    "Las más comunes son tuplas, listas, conjuntos y diccionarios\n",
    "***\n",
    "|Estructura|Caracteristicas|Ejemplo|\n",
    "|:-|:-|:-:|\n",
    "|Tupla|Inmutable, ordenada, indexada|(1, 2, 3)|\n",
    "|Lista|Inmutable, ordenada, indexada|[1, 2, 3]|\n",
    "|Conjunto|Mutable, no ordenado, no indexado|{1, 2, 3}|\n",
    "|Diccionarios|Mutable, ordenado, indexado|{'a':1, 'b':2, 'c':3}|\n",
    "***\n",
    "## **¿que es una lista?**\n",
    "\n",
    "Una lista es una estructura de datos, así como una tupla y una cadena es una secuencia de valores.\n",
    "\n",
    "Al igual que la tupla almacena objetos o items que pueden ser de cualquier tipo\n",
    "***\n",
    "Una lista es una secuencia de objetos **MUTABLES**\n",
    "\n",
    "Ordenados e indexados\n",
    "***\n",
    "* **Mutable:** Los elementos de una lista pueden ser modificados después de creación"
   ]
  },
  {
   "cell_type": "code",
   "execution_count": 1,
   "metadata": {},
   "outputs": [
    {
     "name": "stdout",
     "output_type": "stream",
     "text": [
      "[4, 2, 3]\n"
     ]
    }
   ],
   "source": [
    "lista = [1,2,3]\n",
    "lista[0] = 4 \n",
    "print (lista) # [4,2,3]"
   ]
  },
  {
   "cell_type": "markdown",
   "metadata": {},
   "source": [
    "* **Ordenada:** Los elementos tienen un orden definido y no cambian a no ser que sean reordenados explicitamente modificando la lista"
   ]
  },
  {
   "cell_type": "code",
   "execution_count": 2,
   "metadata": {},
   "outputs": [
    {
     "name": "stdout",
     "output_type": "stream",
     "text": [
      "False\n"
     ]
    }
   ],
   "source": [
    "lista1 = [1,2,3]\n",
    "lista2 = [3,2,1]\n",
    "print (lista1 == lista2) # False"
   ]
  },
  {
   "cell_type": "markdown",
   "metadata": {},
   "source": [
    "* **Indexada:** Cada elemento tiene un índice asociado a su posición en la lista para acceder a él."
   ]
  },
  {
   "cell_type": "code",
   "execution_count": 3,
   "metadata": {},
   "outputs": [
    {
     "data": {
      "text/plain": [
       "3"
      ]
     },
     "execution_count": 3,
     "metadata": {},
     "output_type": "execute_result"
    }
   ],
   "source": [
    "lista = [1,2,3]\n",
    "lista[0] # 1\n",
    "lista[1] # 2\n",
    "lista[2] # 3"
   ]
  },
  {
   "cell_type": "markdown",
   "metadata": {},
   "source": [
    "**¿Cómo declarar una lista**\n",
    "\n",
    "En Python se declara una lista utilizando corchetes `[]` y separando los elementos con comas `,`\n",
    "\n",
    "```\n",
    "mi_lista = [elemento1, elemento2, elemento3, ...]\n",
    "```\n",
    "* `mi_lista` es el nombre de la variable\n",
    "* `elemento1, elemento2, elemento3,` son los objetos que se almacenarán en la lista\n",
    "***\n",
    "También se puede declarar una lisata utilizando la función `list()`\n",
    "y mediante listas por comprensión\n",
    "***\n",
    "Crearemos un archivos para la sesion09.py en nuestro proyecto y empecemos a crear listas\n",
    "***\n",
    "Lista de enteros"
   ]
  },
  {
   "cell_type": "code",
   "execution_count": 4,
   "metadata": {},
   "outputs": [
    {
     "name": "stdout",
     "output_type": "stream",
     "text": [
      "Lista de enteros\n",
      "[1, 2, 3, 4, 5]\n"
     ]
    }
   ],
   "source": [
    "print (\"Lista de enteros\")\n",
    "mi_lista = [1,2,3,4,5]\n",
    "print (mi_lista)"
   ]
  },
  {
   "cell_type": "markdown",
   "metadata": {},
   "source": [
    "Lista de cadenas"
   ]
  },
  {
   "cell_type": "code",
   "execution_count": 5,
   "metadata": {},
   "outputs": [
    {
     "name": "stdout",
     "output_type": "stream",
     "text": [
      "Lista de cadenas\n",
      "['hola', 'mundo', 'python']\n"
     ]
    }
   ],
   "source": [
    "print (\"Lista de cadenas\")\n",
    "mi_lista = [\"hola\", \"mundo\", \"python\"]\n",
    "print (mi_lista)"
   ]
  },
  {
   "cell_type": "markdown",
   "metadata": {},
   "source": [
    "lista mixta"
   ]
  },
  {
   "cell_type": "code",
   "execution_count": 6,
   "metadata": {},
   "outputs": [
    {
     "name": "stdout",
     "output_type": "stream",
     "text": [
      "Lista mixta\n",
      "[1, 'hola', 3.14, 'mundo', 5]\n"
     ]
    }
   ],
   "source": [
    "print (\"Lista mixta\")\n",
    "mi_lista = [1, \"hola\", 3.14, \"mundo\", 5]\n",
    "print (mi_lista)"
   ]
  },
  {
   "cell_type": "markdown",
   "metadata": {},
   "source": [
    "lista vacia"
   ]
  },
  {
   "cell_type": "code",
   "execution_count": 7,
   "metadata": {},
   "outputs": [
    {
     "name": "stdout",
     "output_type": "stream",
     "text": [
      "Lista vacía\n",
      "[]\n"
     ]
    }
   ],
   "source": [
    "print (\"Lista vacía\")\n",
    "mi_lista = []\n",
    "print (mi_lista)"
   ]
  },
  {
   "cell_type": "markdown",
   "metadata": {},
   "source": [
    "Se usa la función `list()` para crear una lista a partir de una secuencia\n",
    "\n",
    "Su utilidad es convertir una tupla, cadena o conjunto en una lista\n",
    "***\n",
    "Lista a partir de una cadena"
   ]
  },
  {
   "cell_type": "code",
   "execution_count": 8,
   "metadata": {},
   "outputs": [
    {
     "name": "stdout",
     "output_type": "stream",
     "text": [
      "Lista a partir de una cadena\n",
      "['h', 'o', 'l', 'a', ' ', 'm', 'u', 'n', 'd', 'o']\n"
     ]
    }
   ],
   "source": [
    "print (\"Lista a partir de una cadena\")\n",
    "mi_lista = list(\"hola mundo\")\n",
    "print (mi_lista)"
   ]
  },
  {
   "cell_type": "markdown",
   "metadata": {},
   "source": [
    "Lista a partir de una tupla"
   ]
  },
  {
   "cell_type": "code",
   "execution_count": 9,
   "metadata": {},
   "outputs": [
    {
     "name": "stdout",
     "output_type": "stream",
     "text": [
      "Lista a partir de una tupla\n",
      "(1, 2, 3, 4, 5)\n",
      "[1, 2, 3, 4, 5]\n"
     ]
    }
   ],
   "source": [
    "print (\"Lista a partir de una tupla\")\n",
    "mi_tupla = (1,2,3,4,5)\n",
    "print (mi_tupla)\n",
    "mi_lista = list(mi_tupla)\n",
    "print (mi_lista)"
   ]
  },
  {
   "cell_type": "markdown",
   "metadata": {},
   "source": [
    "Una lista por comprensión es una forma de crear listas a partir de una expresión o secuancia\n",
    "\n",
    "es una forma más compacta y eficiente de crear listas"
   ]
  },
  {
   "cell_type": "code",
   "execution_count": 10,
   "metadata": {},
   "outputs": [
    {
     "name": "stdout",
     "output_type": "stream",
     "text": [
      "Lista por comprensión\n",
      "[0, 1, 2, 3, 4, 5, 6, 7, 8, 9]\n"
     ]
    }
   ],
   "source": [
    "print (\"Lista por comprensión\")\n",
    "mi_lista = [x for x in range(10)]\n",
    "print (mi_lista)"
   ]
  },
  {
   "cell_type": "markdown",
   "metadata": {},
   "source": [
    "**Indexación y slicing**\n",
    "\n",
    "Se puede acceder a los diferentes valores de la lista utilizando indexación\n",
    "\n",
    "Obtener solo una parte de la lista utilizando slicing\n",
    "\n",
    "Similar a las cadenas de texto y tuplas\n",
    "***\n",
    "Se accede a los elementos de la lista de forma positiva de izquierda a derecha\n",
    "\n",
    "Empezando en el índice 0\n",
    "\n",
    "Hasta la `longitud-1` de la lista\n",
    "\n",
    "![longitud](https://github.com/python-la-paz/python-study-group-fundamentals/blob/main/content/sesion09/img/37.png?raw=true)\n",
    "***\n",
    "Acceso utilizando índices positivos"
   ]
  },
  {
   "cell_type": "code",
   "execution_count": 11,
   "metadata": {},
   "outputs": [
    {
     "name": "stdout",
     "output_type": "stream",
     "text": [
      "Indexación positivo de una lista\n",
      "1 <class 'int'>\n",
      "hola <class 'str'>\n",
      "3.14 <class 'float'>\n",
      "(1, 2) <class 'tuple'>\n"
     ]
    }
   ],
   "source": [
    "print (\"Indexación positivo de una lista\")\n",
    "lista = [1, \"hola\", 3.14, (1,2)]\n",
    "print (lista[0], type(lista[0])) \n",
    "print (lista[1], type(lista[1])) \n",
    "print (lista[2], type(lista[2])) \n",
    "print (lista[3], type(lista[3])) "
   ]
  },
  {
   "cell_type": "markdown",
   "metadata": {},
   "source": [
    "Se accede a los elementos de la lista de forma negativa de derecha a izquierda\n",
    "\n",
    "Empezando en el índice-1\n",
    "\n",
    "Hasta la `-longitud` de la lista\n",
    "\n",
    "![negativa](https://github.com/python-la-paz/python-study-group-fundamentals/blob/main/content/sesion09/img/38.png?raw=true)\n",
    "***\n",
    "Acceso utilizando índices negativos"
   ]
  },
  {
   "cell_type": "code",
   "execution_count": 12,
   "metadata": {},
   "outputs": [
    {
     "name": "stdout",
     "output_type": "stream",
     "text": [
      "Indexación negativo de una lista\n",
      "(1, 2) <class 'tuple'>\n",
      "3.14 <class 'float'>\n",
      "hola <class 'str'>\n",
      "1 <class 'int'>\n"
     ]
    }
   ],
   "source": [
    "print (\"Indexación negativo de una lista\")\n",
    "lista = [1, \"hola\", 3.14, (1,2)]\n",
    "print (lista[-1], type(lista[-1]))\n",
    "print (lista[-2], type(lista[-2]))\n",
    "print (lista[-3], type(lista[-3]))\n",
    "print (lista[-4], type(lista[-4]))"
   ]
  },
  {
   "cell_type": "markdown",
   "metadata": {},
   "source": [
    "La indexación no se limita a obtener los valores de la lista\n",
    "También se puede modifica los valores de la lista original utilizando la idexación"
   ]
  },
  {
   "cell_type": "code",
   "execution_count": 13,
   "metadata": {},
   "outputs": [
    {
     "name": "stdout",
     "output_type": "stream",
     "text": [
      "Modificación de una lista\n",
      "[1, 'hola', 3.14, (1, 2)]\n",
      "[2, 'mundo', 3.14, (1, 2)]\n"
     ]
    }
   ],
   "source": [
    "print (\"Modificación de una lista\")\n",
    "lista = [1, \"hola\", 3.14, (1,2)]\n",
    "print (lista)\n",
    "lista[0] = 2\n",
    "lista[1] = \"mundo\"\n",
    "print (lista)"
   ]
  },
  {
   "cell_type": "markdown",
   "metadata": {},
   "source": [
    "El slicing se utiliza para obtener una porción de la lista\n",
    "Permite extraer una porción de la lista utilizando dos índices de inicio y fin\n",
    "\n",
    "El resultado es una nueva lista\n",
    "***\n",
    "La sintaxis para el slicing es\n",
    "\n",
    "![slicing](https://github.com/python-la-paz/python-study-group-fundamentals/blob/main/content/sesion09/img/10.png?raw=true)\n",
    "\n",
    "* `inicio` es el índice donde inicia (incluido)\n",
    "* `fin` es el indice donde termina (excluido)\n",
    "* `paso` es el incremento o decremento entre los índices(default 1)\n",
    "***\n",
    "Slicing positivo y negativo\n",
    "\n",
    "![slicing positivo y negativo](https://github.com/python-la-paz/python-study-group-fundamentals/blob/main/content/sesion09/img/39.png?raw=true)\n",
    "***\n",
    "Slicing de una lista"
   ]
  },
  {
   "cell_type": "code",
   "execution_count": 14,
   "metadata": {},
   "outputs": [
    {
     "name": "stdout",
     "output_type": "stream",
     "text": [
      "Slicing de una lista\n",
      "['P', 'y', 't', 'h', 'o', 'n', 'L', 'a', 'P', 'a', 'z']\n",
      "['t', 'h', 'o', 'n', 'L']\n",
      "<class 'list'>\n"
     ]
    }
   ],
   "source": [
    "print (\"Slicing de una lista\")\n",
    "lista = [\"P\", \"y\", \"t\", \"h\", \"o\", \"n\", \"L\", \"a\", \"P\", \"a\", \"z\"]\n",
    "print (lista)\n",
    "sub_lista = lista[2:7]\n",
    "print (sub_lista)\n",
    "print (type(sub_lista))"
   ]
  },
  {
   "cell_type": "markdown",
   "metadata": {},
   "source": [
    "Slicing con paso positivo"
   ]
  },
  {
   "cell_type": "code",
   "execution_count": 17,
   "metadata": {},
   "outputs": [
    {
     "name": "stdout",
     "output_type": "stream",
     "text": [
      "Slicing con paso positivo\n",
      "['P', 'y', 't', 'h', 'o', 'n', 'L', 'a', 'P', 'a', 'z']\n",
      "['P', 'h', 'L']\n"
     ]
    }
   ],
   "source": [
    "print (\"Slicing con paso positivo\")\n",
    "lista = [\"P\", \"y\", \"t\", \"h\", \"o\", \"n\", \"L\", \"a\", \"P\", \"a\", \"z\"]\n",
    "print (lista)\n",
    "sub_lista = lista[0:9:3]\n",
    "print (sub_lista)"
   ]
  },
  {
   "cell_type": "markdown",
   "metadata": {},
   "source": [
    "Slicing con paso negativo"
   ]
  },
  {
   "cell_type": "code",
   "execution_count": null,
   "metadata": {},
   "outputs": [],
   "source": [
    "print (\"Slicing con paso negativo\")\n",
    "lista = [\"P\", \"y\", \"t\", \"h\", \"o\", \"n\", \"L\", \"a\", \"P\", \"a\", \"z\"]\n",
    "print (lista)\n",
    "sub_lista = lista[8:2:-4]\n",
    "print (sub_lista)"
   ]
  },
  {
   "cell_type": "markdown",
   "metadata": {},
   "source": [
    "Slicing negativo con paso negativo"
   ]
  },
  {
   "cell_type": "code",
   "execution_count": 18,
   "metadata": {},
   "outputs": [
    {
     "name": "stdout",
     "output_type": "stream",
     "text": [
      "Slicing negativo con paso negativo\n",
      "['P', 'y', 't', 'h', 'o', 'n', 'L', 'a', 'P', 'a', 'z']\n",
      "['z', 'P', 'L', 'o']\n"
     ]
    }
   ],
   "source": [
    "print (\"Slicing negativo con paso negativo\")\n",
    "lista = [\"P\", \"y\", \"t\", \"h\", \"o\", \"n\", \"L\", \"a\", \"P\", \"a\", \"z\"]\n",
    "print (lista)\n",
    "sub_lista = lista[-1:-8:-2]\n",
    "print (sub_lista)"
   ]
  },
  {
   "cell_type": "markdown",
   "metadata": {},
   "source": [
    "Slicing negativo con paso positivo"
   ]
  },
  {
   "cell_type": "code",
   "execution_count": 19,
   "metadata": {},
   "outputs": [
    {
     "name": "stdout",
     "output_type": "stream",
     "text": [
      "Slicing negativo con paso positivo\n",
      "['P', 'y', 't', 'h', 'o', 'n', 'L', 'a', 'P', 'a', 'z']\n",
      "['h', 'n', 'a', 'a']\n"
     ]
    }
   ],
   "source": [
    "print (\"Slicing negativo con paso positivo\")\n",
    "lista = [\"P\", \"y\", \"t\", \"h\", \"o\", \"n\", \"L\", \"a\", \"P\", \"a\", \"z\"]\n",
    "print (lista)\n",
    "sub_lista = lista[-8:-1:2]\n",
    "print (sub_lista)"
   ]
  },
  {
   "cell_type": "markdown",
   "metadata": {},
   "source": [
    "Concatenación de listas\n",
    "\n",
    "Las lista se pueden concatenar utilizando el operador\n",
    "El resultado es nueva lista con los elementos de lalistas originales\n",
    "\n",
    "```[a, b, c] + [d, e, f] = [a, b, c, d, e, f]```\n",
    "***\n",
    "Concatenación de listas"
   ]
  },
  {
   "cell_type": "code",
   "execution_count": 20,
   "metadata": {},
   "outputs": [
    {
     "name": "stdout",
     "output_type": "stream",
     "text": [
      "Concatenación de listas\n",
      "[1, 2, 3] ['a', 'b', 'c']\n",
      "[1, 2, 3, 'a', 'b', 'c']\n",
      "<class 'list'>\n"
     ]
    }
   ],
   "source": [
    "print (\"Concatenación de listas\")\n",
    "lista1 = [1,2,3]\n",
    "lista2 = [\"a\",\"b\",\"c\"]\n",
    "concatenar = lista1 + lista2\n",
    "print (lista1, lista2)\n",
    "print (concatenar)\n",
    "print (type(concatenar))"
   ]
  },
  {
   "cell_type": "markdown",
   "metadata": {},
   "source": [
    "**Repetición de listas**\n",
    "\n",
    "Las listas se pueden repetir utilizando el operador `*` y un número entero `n`\n",
    "El resultado es una nueva lista con los elementos de la lista original repetidos `n` veces\n",
    "\n",
    "```\n",
    "[a, b, c] * n = [a, b, c,...a, b, c] # nveces\n",
    "```\n",
    "***\n",
    "Repetición de listas"
   ]
  },
  {
   "cell_type": "code",
   "execution_count": 21,
   "metadata": {},
   "outputs": [
    {
     "name": "stdout",
     "output_type": "stream",
     "text": [
      "Repetición de listas\n",
      "[True, False]\n",
      "[True, False, True, False, True, False]\n",
      "<class 'list'>\n"
     ]
    }
   ],
   "source": [
    "print (\"Repetición de listas\")\n",
    "lista = [True, False]\n",
    "repetir = lista * 3\n",
    "print (lista)\n",
    "print (repetir)\n",
    "print (type(repetir))"
   ]
  },
  {
   "cell_type": "markdown",
   "metadata": {},
   "source": [
    "**Métodos de las listas**\n",
    "\n",
    "Las listas al ser mutables tiene una mayor cantidad de métodos que las tuplas\n",
    "\n",
    "* Métodos de busqueda\n",
    "* Métodos de adición\n",
    "* Métodos de eliminación\n",
    "* Métodos de ordenamiento\n",
    "* Métodos de copia\n",
    "***\n",
    "Se utiliza la notación de punto `.`\n",
    "\n",
    "`lista.metodo()`\n",
    "`lista.metodo(valor)`\n",
    "***\n",
    "**Métodos de búsqueda**\n",
    "Los métodos de búsqueda nos permiten buscar información en la lista.\n",
    "\n",
    "* `index()`\n",
    "* `count()`\n",
    "***\n",
    "`index(valor)` recibe un valor y devuelve el índice de la primera aparición en la lista, si no existe lanza un error.\n",
    "\n",
    "![index](https://github.com/python-la-paz/python-study-group-fundamentals/blob/main/content/sesion09/img/40.png?raw=true)\n",
    "***\n",
    "`index(valor)`\n",
    "\n",
    "\n"
   ]
  },
  {
   "cell_type": "code",
   "execution_count": 22,
   "metadata": {},
   "outputs": [
    {
     "name": "stdout",
     "output_type": "stream",
     "text": [
      "Método index(valor)\n",
      "hola 3\n",
      "3.14 2\n"
     ]
    }
   ],
   "source": [
    "print (\"Método index(valor)\")\n",
    "lista = [1,True,3.14,\"hola\",5]\n",
    "valor = \"hola\"\n",
    "print (valor, lista.index(valor))\n",
    "valor = 3.14\n",
    "print (valor, lista.index(valor))"
   ]
  },
  {
   "cell_type": "markdown",
   "metadata": {},
   "source": [
    "`count(valor)` recibe un valor y devuelve el número de veces que aparece en la lista\n",
    "\n",
    "![count](https://github.com/python-la-paz/python-study-group-fundamentals/blob/main/content/sesion09/img/41.png?raw=true)"
   ]
  },
  {
   "cell_type": "markdown",
   "metadata": {},
   "source": [
    "`count(valor)`"
   ]
  },
  {
   "cell_type": "code",
   "execution_count": 23,
   "metadata": {},
   "outputs": [
    {
     "name": "stdout",
     "output_type": "stream",
     "text": [
      "Método count(valor)\n",
      "True 4\n",
      "3.14 2\n"
     ]
    }
   ],
   "source": [
    "print (\"Método count(valor)\")\n",
    "lista = [1,True,3.14,\"hola\",5, True, True, 3.140]\n",
    "valor = True\n",
    "print (valor, lista.count(valor))\n",
    "valor = 3.14\n",
    "print (valor, lista.count(valor))"
   ]
  },
  {
   "cell_type": "markdown",
   "metadata": {},
   "source": [
    "**Métodos de adición**\n",
    "\n",
    "Los métodos de adición nos permiten agregar elementos a la lista\n",
    "\n",
    "* `insert()`\n",
    "* `append()`\n",
    "* `extend()`\n",
    "  \n",
    "No retornan un valor, modifican la lista original\n",
    "***\n",
    "`insert(i, valor)` recibe un índice y un valor, inserta el valor en la posición del índice"
   ]
  },
  {
   "cell_type": "code",
   "execution_count": 24,
   "metadata": {},
   "outputs": [
    {
     "name": "stdout",
     "output_type": "stream",
     "text": [
      "Método insert(i, valor)\n",
      "[1, 2, 3, 4, 5]\n",
      "[1, 2, 'OwO', 3, 4, 5]\n"
     ]
    }
   ],
   "source": [
    "print (\"Método insert(i, valor)\")\n",
    "lista = [1,2,3,4,5]\n",
    "print (lista)\n",
    "lista.insert(2, \"OwO\")\n",
    "print (lista)"
   ]
  },
  {
   "cell_type": "markdown",
   "metadata": {},
   "source": [
    "`append(valor)` recibe un valor y lo agrega al final de la lista"
   ]
  },
  {
   "cell_type": "code",
   "execution_count": 25,
   "metadata": {},
   "outputs": [
    {
     "name": "stdout",
     "output_type": "stream",
     "text": [
      "Método append(valor)\n",
      "[1, 2, 3, 4, 5]\n",
      "[1, 2, 3, 4, 5, '(OwO=)']\n"
     ]
    }
   ],
   "source": [
    "print (\"Método append(valor)\")\n",
    "lista = [1,2,3,4,5]\n",
    "print (lista)\n",
    "lista.append(\"(OwO=)\")\n",
    "print (lista)"
   ]
  },
  {
   "cell_type": "markdown",
   "metadata": {},
   "source": [
    "`extend(iterable)` recibe una secuencia y agrega sus elementos al final de la lista como otra lista, tupla y cadena"
   ]
  },
  {
   "cell_type": "code",
   "execution_count": 26,
   "metadata": {},
   "outputs": [
    {
     "name": "stdout",
     "output_type": "stream",
     "text": [
      "Método extend(iterable)\n",
      "[1, 2, 3]\n",
      "[1, 2, 3, ':', '3']\n",
      "[1, 2, 3, ':', '3', '(¬_¬ )', '(O_O=)']\n",
      "[1, 2, 3, ':', '3', '(¬_¬ )', '(O_O=)', '😅', '😎']\n"
     ]
    }
   ],
   "source": [
    "print (\"Método extend(iterable)\")\n",
    "lista = [1,2,3]\n",
    "print (lista)\n",
    "lista.extend(\":3\")\n",
    "print (lista)\n",
    "lista.extend([\"(¬_¬ )\", \"(O_O=)\"])\n",
    "print (lista)\n",
    "lista.extend((\"😅\", \"😎\"))\n",
    "print (lista)"
   ]
  },
  {
   "cell_type": "markdown",
   "metadata": {},
   "source": [
    "# **Métodos de eliminación**\n",
    "\n",
    "Los metodos de eliminación nos permiten eliminar elementos de la lista\n",
    "\n",
    "* `remove()`\n",
    "* `clear()`\n",
    "\n",
    "No retornan un valor, modifican la lista original\n",
    "\n",
    "* `pop()`\n",
    "\n",
    "Retorna el valor eliminado y modifica la lista original\n",
    "***\n",
    "`remove(valor)` recibe un valor y elimina la primera aparición de ese valor en la lista si no existe lanza un error\n",
    "\n",
    "![remove](https://github.com/python-la-paz/python-study-group-fundamentals/blob/main/content/sesion09/img/42.png?raw=true)\n",
    "***\n",
    "`remove(valor)`"
   ]
  },
  {
   "cell_type": "code",
   "execution_count": 27,
   "metadata": {},
   "outputs": [
    {
     "name": "stdout",
     "output_type": "stream",
     "text": [
      "Método remove(valor)\n",
      "[1, 2, 'UwU', 4, 5, 'UwU']\n",
      "[1, 2, 4, 5, 'UwU']\n"
     ]
    }
   ],
   "source": [
    "print (\"Método remove(valor)\")\n",
    "lista = [1,2,\"UwU\",4,5, \"UwU\"]\n",
    "print (lista)\n",
    "lista.remove(\"UwU\")\n",
    "print (lista)"
   ]
  },
  {
   "cell_type": "markdown",
   "metadata": {},
   "source": [
    "`pop(i)` o `pop()` recibe un index o índice y elimina el elemento en esa posición\n",
    "\n",
    "Si no se especifica el índice elimina el último elemento\n",
    "\n",
    "![pop](https://github.com/python-la-paz/python-study-group-fundamentals/blob/main/content/sesion09/img/43.png?raw=true)\n",
    "***\n",
    "* `pop(i)` o `pop()`"
   ]
  },
  {
   "cell_type": "code",
   "execution_count": 28,
   "metadata": {},
   "outputs": [
    {
     "name": "stdout",
     "output_type": "stream",
     "text": [
      "Método pop(i)\n",
      "['OwO', 3, 'UwU', 5]\n",
      "['OwO', 'UwU', 5]\n",
      "Método pop()\n",
      "['OwO', 'UwU']\n"
     ]
    }
   ],
   "source": [
    "print (\"Método pop(i)\")\n",
    "lista = [\"OwO\",3,\"UwU\",5]\n",
    "print (lista)\n",
    "lista.pop(1)\n",
    "print (lista)\n",
    "print (\"Método pop()\")\n",
    "lista.pop()\n",
    "print (lista)"
   ]
  },
  {
   "cell_type": "markdown",
   "metadata": {},
   "source": [
    "`clear()` elimina todos los elementos de la lista dejándola vacía"
   ]
  },
  {
   "cell_type": "code",
   "execution_count": 29,
   "metadata": {},
   "outputs": [
    {
     "name": "stdout",
     "output_type": "stream",
     "text": [
      "Método clear()\n",
      "['ewe', 'OwO', 'UwU']\n",
      "[]\n"
     ]
    }
   ],
   "source": [
    "print (\"Método clear()\")\n",
    "lista = [\"ewe\",\"OwO\",\"UwU\"]\n",
    "print (lista)\n",
    "lista.clear()\n",
    "print (lista)"
   ]
  },
  {
   "cell_type": "markdown",
   "metadata": {},
   "source": [
    "**Métodos de ordenamiento**\n",
    "\n",
    "Los metodos de reordenar nos permiten ordenar los elementos de la lista\n",
    "\n",
    "* `sort()`\n",
    "* `reverse()`\n",
    "\n",
    "No retornan un valor, modifican la lista original\n",
    "***\n",
    "`sort()` ordena los elementos de la lista de menor y mayor"
   ]
  },
  {
   "cell_type": "code",
   "execution_count": 31,
   "metadata": {},
   "outputs": [
    {
     "name": "stdout",
     "output_type": "stream",
     "text": [
      "Método sort()\n",
      "[3, 1, 5, 2, 4]\n",
      "[1, 2, 3, 4, 5]\n"
     ]
    }
   ],
   "source": [
    "print (\"Método sort()\")\n",
    "lista = [3,1,5,2,4]\n",
    "print (lista)\n",
    "lista.sort()\n",
    "print (lista)"
   ]
  },
  {
   "cell_type": "markdown",
   "metadata": {},
   "source": [
    "`sort(reverse=True)` ordena los elementos de la lista de mayor a menor"
   ]
  },
  {
   "cell_type": "code",
   "execution_count": 30,
   "metadata": {},
   "outputs": [
    {
     "name": "stdout",
     "output_type": "stream",
     "text": [
      "Método sort()\n",
      "[3, 1, 5, 2, 4]\n",
      "[5, 4, 3, 2, 1]\n"
     ]
    }
   ],
   "source": [
    "print (\"Método sort()\")\n",
    "lista = [3,1,5,2,4]\n",
    "print (lista)\n",
    "lista.sort(reverse=True)\n",
    "print (lista)"
   ]
  },
  {
   "cell_type": "markdown",
   "metadata": {},
   "source": [
    "`reverse()` invierte el orden de los elementos de la lista"
   ]
  },
  {
   "cell_type": "code",
   "execution_count": 32,
   "metadata": {},
   "outputs": [
    {
     "name": "stdout",
     "output_type": "stream",
     "text": [
      "Método reverse()\n",
      "[3, 1, 5, 2, 4]\n",
      "[4, 2, 5, 1, 3]\n"
     ]
    }
   ],
   "source": [
    "print (\"Método reverse()\")\n",
    "lista = [3,1,5,2,4]\n",
    "print (lista)\n",
    "lista.reverse()\n",
    "print (lista)"
   ]
  },
  {
   "cell_type": "markdown",
   "metadata": {},
   "source": [
    "**Métodos de copia**\n",
    "\n",
    "Los metodos de copia nos permiten copiar los elementos de la lista\n",
    "\n",
    "* `copy()`\n",
    "***\n",
    "Cuando se asigna una lista a otra variable se crea una referencia a la lista original\n",
    "No se crea una copia de la lista, si se modifica esta se modifica la original"
   ]
  },
  {
   "cell_type": "code",
   "execution_count": 33,
   "metadata": {},
   "outputs": [
    {
     "name": "stdout",
     "output_type": "stream",
     "text": [
      "Asignación de lista\n",
      "[1, 2, 3, 4, 5]\n",
      "[6, 2, 3, 4, 5]\n",
      "[6, 2, 3, 4, 5]\n"
     ]
    }
   ],
   "source": [
    "print (\"Asignación de lista\")\n",
    "lista = [1,2,3,4,5]\n",
    "print (lista)\n",
    "copia = lista\n",
    "copia[0] = 6\n",
    "print (copia)\n",
    "print (lista)"
   ]
  },
  {
   "cell_type": "markdown",
   "metadata": {},
   "source": [
    "Para crear una copia de la lista se debe utilizar el método `copy()` o el slicing[:]"
   ]
  },
  {
   "cell_type": "code",
   "execution_count": 34,
   "metadata": {},
   "outputs": [
    {
     "name": "stdout",
     "output_type": "stream",
     "text": [
      "Método copia con slicing\n",
      "[1, 2, 3, 4, 5]\n",
      "[6, 2, 3, 4, 5]\n",
      "[1, 2, 3, 4, 5]\n"
     ]
    }
   ],
   "source": [
    "print (\"Método copia con slicing\")\n",
    "lista = [1,2,3,4,5]\n",
    "print (lista)\n",
    "copia = lista[:]\n",
    "copia[0] = 6\n",
    "print (copia)\n",
    "print (lista)"
   ]
  },
  {
   "cell_type": "markdown",
   "metadata": {},
   "source": [
    "`copy()` devuelve una copia de la lista es equivalente al slicing `[:]`"
   ]
  },
  {
   "cell_type": "code",
   "execution_count": 35,
   "metadata": {},
   "outputs": [
    {
     "name": "stdout",
     "output_type": "stream",
     "text": [
      "Método copy()\n",
      "[3, 1, 5, 2, 4]\n",
      "[3, 1, 5, 2, 4]\n",
      "True\n"
     ]
    }
   ],
   "source": [
    "print (\"Método copy()\")\n",
    "lista = [3,1,5,2,4]\n",
    "print (lista)\n",
    "copia = lista.copy()\n",
    "print (copia)\n",
    "print (copia == lista)"
   ]
  },
  {
   "cell_type": "markdown",
   "metadata": {},
   "source": [
    "Método copia con slicing"
   ]
  },
  {
   "cell_type": "code",
   "execution_count": 36,
   "metadata": {},
   "outputs": [
    {
     "name": "stdout",
     "output_type": "stream",
     "text": [
      "Método copia con slicing\n",
      "[1, 2, 3, 4, 5]\n",
      "[6, 2, 3, 4, 5]\n",
      "[1, 2, 3, 4, 5]\n"
     ]
    }
   ],
   "source": [
    "print (\"Método copia con slicing\")\n",
    "lista = [1,2,3,4,5]\n",
    "print (lista)\n",
    "copia = lista.copy()\n",
    "copia[0] = 6\n",
    "print (copia)\n",
    "print (lista)"
   ]
  },
  {
   "cell_type": "markdown",
   "metadata": {},
   "source": [
    "**Funciones con listas**\n",
    "\n",
    "Las listas interactúan con funciones propias de python que acepten secuencias de datos\n",
    "\n",
    "* `len()`\n",
    "* `max()`\n",
    "* `min()`\n",
    "* `sum()`\n",
    "\n",
    "Existen otras funciones pueden encontrarse en la [documentación](https://docs.python.org/3/library/stdtypes.html#common-sequence-operations) y [funciones incorporadas](https://python-reference.readthedocs.io/en/latest/docs/list/#functions)\n",
    "***\n",
    "`len()` devuelve la logitud de la lista o el número de elementos que contiene\n",
    "***\n",
    "`len()`"
   ]
  },
  {
   "cell_type": "code",
   "execution_count": 37,
   "metadata": {},
   "outputs": [
    {
     "name": "stdout",
     "output_type": "stream",
     "text": [
      "Función len()\n",
      "[1, True, 3.14, '🐍', 5]\n",
      "5\n"
     ]
    }
   ],
   "source": [
    "print (\"Función len()\")\n",
    "lista = [1,True,3.14,\"🐍\",5]\n",
    "print (lista)\n",
    "print (len(lista))"
   ]
  },
  {
   "cell_type": "markdown",
   "metadata": {},
   "source": [
    "`max()` devuelve el valor máximo de la lista o el elemento más grande\n",
    "\n",
    "Si la lista contiene cadenas devuelve el valor máximo en orden alfabético\n",
    "\n",
    "Si la lista contiene enteros y flotantes devuelve el valor máximo numérico\n",
    "***\n",
    "`max()`"
   ]
  },
  {
   "cell_type": "code",
   "execution_count": 38,
   "metadata": {},
   "outputs": [
    {
     "name": "stdout",
     "output_type": "stream",
     "text": [
      "Función max()\n",
      "[1, 2, 3, 4, 5]\n",
      "5\n",
      "['a', 'b', 'c', 'd', 'e']\n",
      "e\n"
     ]
    }
   ],
   "source": [
    "print (\"Función max()\")\n",
    "lista = [1,2,3,4,5]\n",
    "print (lista)\n",
    "print (max(lista))\n",
    "lista = [\"a\",\"b\",\"c\",\"d\",\"e\"]\n",
    "print (lista)\n",
    "print (max(lista))"
   ]
  },
  {
   "cell_type": "markdown",
   "metadata": {},
   "source": [
    "`min()` devuelve el valor mínimo de la lista o el elemento más pequeño\n",
    "\n",
    "Si la lista contiene cadenas devuelve el valor minimo en orden alfabético\n",
    "\n",
    "Si la lista contiene enteros y flotantes devuelve el valor minímo numérico\n",
    "***\n",
    "`min()`"
   ]
  },
  {
   "cell_type": "code",
   "execution_count": 39,
   "metadata": {},
   "outputs": [
    {
     "name": "stdout",
     "output_type": "stream",
     "text": [
      "Función min()\n",
      "[1, 2, 3, 4, 5]\n",
      "1\n",
      "['a', 'b', 'c', 'd', 'e']\n",
      "a\n"
     ]
    }
   ],
   "source": [
    "print (\"Función min()\")\n",
    "lista = [1,2,3,4,5]\n",
    "print (lista)\n",
    "print (min(lista))\n",
    "lista = [\"a\",\"b\",\"c\",\"d\",\"e\"]\n",
    "print (lista)\n",
    "print (min(lista))"
   ]
  },
  {
   "cell_type": "markdown",
   "metadata": {},
   "source": [
    "`sum()` devuelve la suma de los elementos de la lista\n",
    "\n",
    "Se debe asegurar que los elementos de la lista sean numéricos\n",
    "***\n",
    "`sum()`"
   ]
  },
  {
   "cell_type": "code",
   "execution_count": 40,
   "metadata": {},
   "outputs": [
    {
     "name": "stdout",
     "output_type": "stream",
     "text": [
      "Función sum()\n",
      "[1, 2, 3, 4, 5]\n",
      "15\n"
     ]
    }
   ],
   "source": [
    "print (\"Función sum()\")\n",
    "lista = [1,2,3,4,5]\n",
    "print (lista)\n",
    "print (sum(lista))"
   ]
  },
  {
   "cell_type": "markdown",
   "metadata": {},
   "source": [
    "**Comparación de listas**\n",
    "Podemos consultar si una lista contiene un elelmento especifico utilizando el operador `in`, `not in`\n",
    "\n",
    "Si una variable hace referencia a otra variable podemos utilizar el `is`, `is not`, para comparar si son la misma lista\n",
    "***\n",
    "`in`-`not in`"
   ]
  },
  {
   "cell_type": "code",
   "execution_count": 41,
   "metadata": {},
   "outputs": [
    {
     "name": "stdout",
     "output_type": "stream",
     "text": [
      "Comparación de listas\n",
      "[1, 2, 3, 4, 5]\n",
      "True\n",
      "False\n",
      "False\n",
      "True\n",
      "False\n"
     ]
    }
   ],
   "source": [
    "print (\"Comparación de listas\")\n",
    "lista = [1,2,3,4,5]\n",
    "print (lista)\n",
    "print (3 in lista)\n",
    "print (6 in lista)\n",
    "print (3 not in lista)\n",
    "print (6 not in lista)\n",
    "print ([1,2,3] in lista)"
   ]
  },
  {
   "cell_type": "markdown",
   "metadata": {},
   "source": [
    "***\n",
    "`is`-`is not`"
   ]
  },
  {
   "cell_type": "code",
   "execution_count": 42,
   "metadata": {},
   "outputs": [
    {
     "name": "stdout",
     "output_type": "stream",
     "text": [
      "Comparación de listas\n",
      "[1, 2, 3, 4, 5] [1, 2, 3, 4, 5] [1, 2]\n",
      "False\n",
      "True\n",
      "False\n"
     ]
    }
   ],
   "source": [
    "print (\"Comparación de listas\")\n",
    "lista1 = [1,2,3,4,5]\n",
    "lista2 = [1,2,3,4,5]\n",
    "lista3 = [1,2]\n",
    "print (lista1, lista2, lista3)\n",
    "print (lista1 is lista2)\n",
    "print (lista1 is not lista2)\n",
    "print (lista3 is lista1)"
   ]
  },
  {
   "cell_type": "markdown",
   "metadata": {},
   "source": [
    "**Operadores de comparación**\n",
    "\n",
    "Podemos comparar listas utilizando los operadores de comparación, estos comparan los elementos de las listas uno a uno\n",
    "\n",
    "* `==` - igualdad\n",
    "* `!=` - Desigualdad\n",
    "* `>` - Mayor que\n",
    "* `<` - Menor que\n",
    "* `>=` - Mayor o igual que\n",
    "* `<=` - Menor o igual que\n",
    "***\n",
    "`<` y `<=`\n",
    "\n",
    "* Comienza comparando el primer elemento de cada lista\n",
    "* Si son iguales pasa al siguiente elemento de cada lista\n",
    "* Si el primer elemento de la primera lista es menor que el de la segunda lista, el resultado es `True`\n",
    "* Si el primer elemento de la primera lista es mayor qeu el de la segunda lista el resultado es `False`"
   ]
  },
  {
   "cell_type": "code",
   "execution_count": 43,
   "metadata": {},
   "outputs": [
    {
     "name": "stdout",
     "output_type": "stream",
     "text": [
      "Menor y Menor Igual que\n",
      "True\n",
      "False\n",
      "True\n",
      "False\n",
      "True\n"
     ]
    }
   ],
   "source": [
    "print (\"Menor y Menor Igual que\")\n",
    "print ([1,2,3] <= [1,2,4])\n",
    "print ([1,2,3] <= [1,2,2,2])\n",
    "print ([1,2,3] <= [2])\n",
    "print ([1,2,3] < [1,2,3])\n",
    "print ([1,2,3] <= [1,2,3])"
   ]
  },
  {
   "cell_type": "markdown",
   "metadata": {},
   "source": [
    "`==` y `!=`\n",
    "\n",
    "* Compara si los elementos de las listas son iguales\n",
    "* Si todos los elementos son iguales el resultado es `True`\n",
    "* Si al menos un elemento es diferente el resultado es `False`\n",
    "***\n"
   ]
  },
  {
   "cell_type": "code",
   "execution_count": 44,
   "metadata": {},
   "outputs": [
    {
     "name": "stdout",
     "output_type": "stream",
     "text": [
      "Igual y Desigual que\n",
      "True\n",
      "False\n",
      "False\n",
      "True\n"
     ]
    }
   ],
   "source": [
    "print (\"Igual y Desigual que\")\n",
    "print ([1,2,3] == [1,2,3])\n",
    "print ([1,2,3] == [1,2,4])\n",
    "print ([1,2,3] != [1,2,3])\n",
    "print ([1,2,3] != [1,2,4])"
   ]
  },
  {
   "cell_type": "markdown",
   "metadata": {},
   "source": [
    "**Listas anidadas**\n",
    "\n",
    "Las listas anidadas son listas que contiene otras listas como elementos\n",
    "\n",
    "Se pueden crear listas anidadas de cualquier profundidad\n",
    "***\n",
    "Listas anidadas"
   ]
  },
  {
   "cell_type": "code",
   "execution_count": 45,
   "metadata": {},
   "outputs": [
    {
     "name": "stdout",
     "output_type": "stream",
     "text": [
      "Listas anidadas\n",
      "[1, 2, 3, [4, 5, 6]]\n",
      "<class 'list'>\n",
      "[4, 5, 6]\n",
      "<class 'list'>\n",
      "5\n",
      "<class 'int'>\n"
     ]
    }
   ],
   "source": [
    "print (\"Listas anidadas\")\n",
    "lista = [1,2,3,[4,5,6]]\n",
    "print (lista)\n",
    "print (type(lista))\n",
    "valor_lista = lista[3]\n",
    "print (valor_lista)\n",
    "print (type(valor_lista))\n",
    "valor = valor_lista[1]\n",
    "print (valor)\n",
    "print (type(valor))"
   ]
  }
 ],
 "metadata": {
  "kernelspec": {
   "display_name": "Python 3",
   "language": "python",
   "name": "python3"
  },
  "language_info": {
   "codemirror_mode": {
    "name": "ipython",
    "version": 3
   },
   "file_extension": ".py",
   "mimetype": "text/x-python",
   "name": "python",
   "nbconvert_exporter": "python",
   "pygments_lexer": "ipython3",
   "version": "3.12.3"
  }
 },
 "nbformat": 4,
 "nbformat_minor": 2
}
