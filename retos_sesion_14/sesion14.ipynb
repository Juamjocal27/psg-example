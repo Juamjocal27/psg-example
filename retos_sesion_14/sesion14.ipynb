{
 "cells": [
  {
   "cell_type": "markdown",
   "metadata": {},
   "source": [
    "# **Funciones**\n",
    "***\n",
    "**¿Qué es una función?**\n",
    "***\n",
    "Una función es un bloque de código que realiza una tarea especifica\n",
    "\n",
    "Se le asigna un nombre y se puede llamar en cualquier parte del programa\n",
    "\n",
    "Solo se ejecuta cuando se llama por su nombre\n",
    "***\n",
    "Permite dividir un programa en bloques de código más pequeños\n",
    "\n",
    "Facilita la lectura y mantenimiento del código\n",
    "\n",
    "Permite reutilizar el código\n",
    "***\n",
    "Visualmente\n",
    "\n",
    "![función](https://github.com/python-la-paz/python-study-group-fundamentals/raw/main/content/sesion14/img/FUNCION-DEVOLVER-W.gif)\n",
    "\n",
    "![Principal](https://github.com/python-la-paz/python-study-group-fundamentals/raw/main/content/sesion14/img/FUNCION-LLAMAR-W.gif)\n",
    "\n",
    "***\n",
    "Hasta el momento hemos utilizado algunas funciones como:\n",
    "\n",
    "* `print()`\n",
    "* `input()`\n",
    "* `len()`\n",
    "* `max()`\n",
    "* `min()`\n",
    "* `sum()`\n",
    "* `range()`\n",
    "* `enumerate()`\n",
    "***\n",
    "* `append()`\n",
    "* `remove()`\n",
    "* `sort()`\n",
    "* `upper()`\n",
    "* `lower()`\n",
    "***\n",
    "¿Como se declara una función?\n",
    "\n",
    "Para definir un bloque de código como función se utiliza la palabra reservada `def`\n",
    "\n",
    "```python \n",
    "def nombre_funcion():\n",
    "    print(\"Bloque de código\")\n",
    "```\n",
    "* `def` es la palabra reservada\n",
    "* `nombre_funcion` es el nombre de la función\n",
    "* `()` son los paréntesis que pueden contener parámetros\n",
    "* `:` es el delimitador de inicio del bloque de código\n",
    "* `print` es el código a ejecutar\n",
    "* Posee un nivel de indentación\n",
    "***\n",
    "Una función puede recibir argumentos de entrada \n",
    "\n",
    "Una función puede no devolver ningún valor\n",
    "\n",
    "Una función puede devolver un valor o varios valores\n",
    "\n",
    "***\n",
    "\n",
    "Para devolver un valor se utiliza la palabra reservada `return`\n",
    "seguida del valor a devolver\n",
    "\n",
    "```python\n",
    "def nombre_funcion():\n",
    "    return \"Bloque de código\"\n",
    "```\n",
    "***\n",
    "Se llama a una función utilizando su nombre seguido de paréntesis y los argumentos si los tiene"
   ]
  },
  {
   "cell_type": "code",
   "execution_count": 1,
   "metadata": {},
   "outputs": [
    {
     "name": "stdout",
     "output_type": "stream",
     "text": [
      "Bloque de código\n",
      "<class 'function'>\n"
     ]
    }
   ],
   "source": [
    "def nombre_funcion():\n",
    "    print (\"Bloque de código\")\n",
    "\n",
    "nombre_funcion()\n",
    "print (type(nombre_funcion))"
   ]
  },
  {
   "cell_type": "markdown",
   "metadata": {},
   "source": [
    "***\n",
    "Funciones según PEP-8\n",
    "\n",
    "* Los nombres de la funciones deben ser en minúsculas y separados por guiones bajos\n",
    "* Los nombres de las funciones deben ser descriptivos\n",
    "***\n",
    "Ejecución de una función\n",
    "***\n",
    "Crearemos un archivo con el nombre sesion14.py\n",
    "Empezaremos a escribir funciones\n",
    "***\n",
    "Las funciones se deben definir antes de ser llamadas"
   ]
  },
  {
   "cell_type": "code",
   "execution_count": 2,
   "metadata": {},
   "outputs": [
    {
     "name": "stdout",
     "output_type": "stream",
     "text": [
      "Bloque de código\n"
     ]
    }
   ],
   "source": [
    "def nombre_funcion():\n",
    "    print (\"Bloque de código\")\n",
    "\n",
    "nombre_funcion()"
   ]
  },
  {
   "cell_type": "markdown",
   "metadata": {},
   "source": [
    "Se genera un error si se llama a una función que no ha sido definida"
   ]
  },
  {
   "cell_type": "code",
   "execution_count": 1,
   "metadata": {},
   "outputs": [
    {
     "ename": "NameError",
     "evalue": "name 'nombre_funcion' is not defined",
     "output_type": "error",
     "traceback": [
      "\u001b[1;31m---------------------------------------------------------------------------\u001b[0m",
      "\u001b[1;31mNameError\u001b[0m                                 Traceback (most recent call last)",
      "Cell \u001b[1;32mIn[1], line 1\u001b[0m\n\u001b[1;32m----> 1\u001b[0m \u001b[43mnombre_funcion\u001b[49m()\n\u001b[0;32m      3\u001b[0m \u001b[38;5;28;01mdef\u001b[39;00m \u001b[38;5;21mnombre_funcion\u001b[39m():\n\u001b[0;32m      4\u001b[0m     \u001b[38;5;28mprint\u001b[39m (\u001b[38;5;124m\"\u001b[39m\u001b[38;5;124mBloque de código\u001b[39m\u001b[38;5;124m\"\u001b[39m)\n",
      "\u001b[1;31mNameError\u001b[0m: name 'nombre_funcion' is not defined"
     ]
    }
   ],
   "source": [
    "nombre_funcion()\n",
    "\n",
    "def nombre_funcion():\n",
    "    print (\"Bloque de código\")"
   ]
  },
  {
   "cell_type": "markdown",
   "metadata": {},
   "source": [
    "***\n",
    "Funciones sin argumentos y sin retorno\n",
    "\n",
    "* No esta definido ningún parámetro\n",
    "* No recibe argumentos de entrada\n",
    "* No devuelve ningún valor"
   ]
  },
  {
   "cell_type": "code",
   "execution_count": 2,
   "metadata": {},
   "outputs": [
    {
     "name": "stdout",
     "output_type": "stream",
     "text": [
      "Bloque de código\n"
     ]
    }
   ],
   "source": [
    "def funcion():\n",
    "    print (\"Bloque de código\")\n",
    "\n",
    "funcion()"
   ]
  },
  {
   "cell_type": "markdown",
   "metadata": {},
   "source": [
    "***\n",
    "Ejemplo 1, crear una función para imprimir una lisata de 10 números pares y llamarla dos veces"
   ]
  },
  {
   "cell_type": "code",
   "execution_count": 3,
   "metadata": {},
   "outputs": [
    {
     "name": "stdout",
     "output_type": "stream",
     "text": [
      "Ejemplo 1\n",
      "1. Definir función\n",
      "2. Llamar función\n",
      "[0, 2, 4, 6, 8, 10, 12, 14, 16, 18, 20]\n",
      "[0, 2, 4, 6, 8, 10, 12, 14, 16, 18, 20]\n"
     ]
    }
   ],
   "source": [
    "print (\"Ejemplo 1\")\n",
    "print (\"1. Definir función\")\n",
    "def imprimir_pares():\n",
    "    pares = [i for i in range(0, 21, 2)]\n",
    "    print (pares)\n",
    "\n",
    "print (\"2. Llamar función\")\n",
    "imprimir_pares()\n",
    "imprimir_pares()"
   ]
  },
  {
   "cell_type": "markdown",
   "metadata": {},
   "source": [
    "***\n",
    "Ejercicio 1, crear una función que imprima un mensaje de bienvenida del siguiente conjunto de forma aleatoria"
   ]
  },
  {
   "cell_type": "code",
   "execution_count": null,
   "metadata": {},
   "outputs": [],
   "source": [
    "mensajes = {\"Bienvenido al Python Study Group 🐍\",\n",
    "\"¡Hola y bienvenido al Python Study Group! ✨\",\n",
    "\"Hola, aprendamos Python juntos 🐍\"}"
   ]
  },
  {
   "cell_type": "markdown",
   "metadata": {},
   "source": [
    "2 minutos\n",
    "\n",
    "<iframe src=\"https://time-stuff.com/embed.html\" frameborder=\"0\" scrolling=\"no\" width=\"391\" height=\"140\"></iframe> "
   ]
  },
  {
   "cell_type": "markdown",
   "metadata": {},
   "source": [
    "***\n",
    "Solucion 1"
   ]
  },
  {
   "cell_type": "code",
   "execution_count": 4,
   "metadata": {},
   "outputs": [
    {
     "name": "stdout",
     "output_type": "stream",
     "text": [
      "Bienvenido al Python Study Group 🐍\n"
     ]
    }
   ],
   "source": [
    "def bienvenida():\n",
    "    mensajes = {\"Bienvenido al Python Study Group 🐍\",\n",
    "    \"¡Hola y bienvenido al Python Study Group! ✨\",\n",
    "    \"Hola, aprendamos Python juntos 🐍\"}\n",
    "    print (mensajes.pop())\n",
    "\n",
    "bienvenida()"
   ]
  },
  {
   "cell_type": "markdown",
   "metadata": {},
   "source": [
    "***\n",
    "Funciones sin argumentos y con un retorno\n",
    "\n",
    "* No esta definido ningún parámetro\n",
    "* No recibe argumentos de entrada\n",
    "* Devuelve un valor"
   ]
  },
  {
   "cell_type": "code",
   "execution_count": 5,
   "metadata": {},
   "outputs": [
    {
     "name": "stdout",
     "output_type": "stream",
     "text": [
      "Bloque de código\n"
     ]
    }
   ],
   "source": [
    "def funcion():\n",
    "    return \"Bloque de código\"\n",
    "\n",
    "resultado = funcion()\n",
    "print (resultado)"
   ]
  },
  {
   "cell_type": "markdown",
   "metadata": {},
   "source": [
    "***\n",
    "Ejemplo 2, Crear una función que devuelva un saludo en diferentes idiomas"
   ]
  },
  {
   "cell_type": "code",
   "execution_count": 6,
   "metadata": {},
   "outputs": [
    {
     "name": "stdout",
     "output_type": "stream",
     "text": [
      "Ejemplo 2\n",
      "1. Definir función\n",
      "2. Llamar función\n",
      "Ciao\n"
     ]
    }
   ],
   "source": [
    "print (\"Ejemplo 2\")\n",
    "print (\"1. Definir función\")\n",
    "def saludo():\n",
    "    saludos = {\"Hola\", \"Hello\", \"Bonjour\", \"Ciao\"}\n",
    "    return saludos.pop()\n",
    "\n",
    "print (\"2. Llamar función\")\n",
    "resultado = saludo()\n",
    "print (resultado)"
   ]
  },
  {
   "cell_type": "markdown",
   "metadata": {},
   "source": [
    "___\n",
    "Ejercio 2, devolver una fruta aleatoria del siguiente conjunto\n",
    "\n",
    "`frutas = {'🍅','🍌','🍎','🍇','🍉'}`\n",
    "\n",
    "2 minutos\n",
    "\n",
    "<iframe src=\"https://time-stuff.com/embed.html\" frameborder=\"0\" scrolling=\"no\" width=\"391\" height=\"140\"></iframe> "
   ]
  },
  {
   "cell_type": "markdown",
   "metadata": {},
   "source": [
    "***\n",
    "Solución 2"
   ]
  },
  {
   "cell_type": "code",
   "execution_count": 8,
   "metadata": {},
   "outputs": [
    {
     "name": "stdout",
     "output_type": "stream",
     "text": [
      "🍇\n"
     ]
    }
   ],
   "source": [
    "def devolver_fruta():\n",
    "    frutas = {'🍅','🍌','🍎','🍇','🍉'}\n",
    "    return frutas.pop()\n",
    "\n",
    "fruta = devolver_fruta()\n",
    "print (fruta)"
   ]
  },
  {
   "cell_type": "markdown",
   "metadata": {},
   "source": [
    "***\n",
    "Funciones sin argumentos y con múltiple retorno\n",
    "\n",
    "* No recibe argumentos de entrada\n",
    "* Devuelve múltiples valores\n",
    "* Devuelve una tupla en Python"
   ]
  },
  {
   "cell_type": "code",
   "execution_count": 9,
   "metadata": {},
   "outputs": [
    {
     "name": "stdout",
     "output_type": "stream",
     "text": [
      "('Bloque', 'de', 'código')\n"
     ]
    }
   ],
   "source": [
    "def funcion():\n",
    "    return \"Bloque\", \"de\", \"código\"\n",
    "\n",
    "resultado = funcion()\n",
    "print (resultado)"
   ]
  },
  {
   "cell_type": "markdown",
   "metadata": {},
   "source": [
    "___\n",
    "Ejemplo 3, Crear una función que devuelva un saludo en dos idiomas"
   ]
  },
  {
   "cell_type": "code",
   "execution_count": 10,
   "metadata": {},
   "outputs": [
    {
     "name": "stdout",
     "output_type": "stream",
     "text": [
      "Ejemplo 3\n",
      "1. Definir función\n",
      "2. Llamar función\n",
      "('Holi', 'Good morning')\n"
     ]
    }
   ],
   "source": [
    "print (\"Ejemplo 3\")\n",
    "print (\"1. Definir función\")\n",
    "def saludo():\n",
    "    saludos_es = {\"Hola\", \"Holi\", \"Buenos días\"}\n",
    "    saludos_en = {\"Hello\", \"Hi\", \"Good morning\"}\n",
    "    return saludos_es.pop(), saludos_en.pop()\n",
    "\n",
    "print (\"2. Llamar función\")\n",
    "resultado = saludo()\n",
    "print (resultado)"
   ]
  },
  {
   "cell_type": "markdown",
   "metadata": {},
   "source": [
    "___\n",
    "Ejercicio 3, devolver una fruta y un color aleatorio de los siguientes conjuntos\n",
    "\n",
    "`frutas = {'🍅','🍌','🍎','🍇','🍉'}\n",
    "colores = {'🔴','🟠','🟡','🟢','🔵'}`\n",
    "\n",
    "2 minutos\n",
    "\n",
    "<iframe src=\"https://time-stuff.com/embed.html\" frameborder=\"0\" scrolling=\"no\" width=\"391\" height=\"140\"></iframe>"
   ]
  },
  {
   "cell_type": "markdown",
   "metadata": {},
   "source": [
    "___\n",
    "Solución 3"
   ]
  },
  {
   "cell_type": "code",
   "execution_count": 11,
   "metadata": {},
   "outputs": [
    {
     "name": "stdout",
     "output_type": "stream",
     "text": [
      "🍇 🔴\n"
     ]
    }
   ],
   "source": [
    "def devolver_fruta_color():\n",
    "    frutas = {'🍅','🍌','🍎','🍇','🍉'}\n",
    "    colores = {'🔴','🟠','🟡','🟢','🔵'}\n",
    "    return frutas.pop(), colores.pop()\n",
    "\n",
    "fruta, color = devolver_fruta_color()\n",
    "print (fruta, color)"
   ]
  },
  {
   "cell_type": "markdown",
   "metadata": {},
   "source": [
    "***\n",
    "Funciones con un argumento y sin retorno\n",
    "\n",
    "* Tiene definido un parámetro de entrada\n",
    "* Recibe un argumento de entrada\n",
    "* No devuelve ningún valor"
   ]
  },
  {
   "cell_type": "code",
   "execution_count": 12,
   "metadata": {},
   "outputs": [
    {
     "name": "stdout",
     "output_type": "stream",
     "text": [
      "Bloque de código\n"
     ]
    }
   ],
   "source": [
    "def funcion(parametro):\n",
    "    print (parametro)\n",
    "\n",
    "funcion(\"Bloque de código\") #1 Argumento"
   ]
  },
  {
   "cell_type": "markdown",
   "metadata": {},
   "source": [
    "El parametro es una variable de la función puede ser de cualquier tipo\n",
    "\n",
    "Números, cadenas, listas, diccionarios, tuplas, conjuntos, etc.\n",
    "***\n",
    "Ejemplo 4, crear una función que imprima el cuadrado de un número"
   ]
  },
  {
   "cell_type": "code",
   "execution_count": 13,
   "metadata": {},
   "outputs": [
    {
     "name": "stdout",
     "output_type": "stream",
     "text": [
      "Ejemplo 4\n",
      "1. Definir función\n",
      "2. Llamar función\n",
      "25\n",
      "100\n"
     ]
    }
   ],
   "source": [
    "print (\"Ejemplo 4\")\n",
    "print (\"1. Definir función\")\n",
    "def cuadrado(numero):\n",
    "    print (numero**2)\n",
    "\n",
    "print (\"2. Llamar función\")\n",
    "cuadrado(5)\n",
    "cuadrado(10)"
   ]
  },
  {
   "cell_type": "markdown",
   "metadata": {},
   "source": [
    "___\n",
    "Ejercicio 4, crear una función que imprima el mensaje de bienvenida de acuerdo al un idioma enviado como argumento , si no existe imprimir un mensaje por defecto\n",
    "\n",
    "`mensajes = {\"es\":\"Bienvenido al Python Study Group 🐍\",\n",
    "\"en\": \"Hello and welcome to the Python Study Group! ✨\",\n",
    "}`\n",
    "\n",
    "2 minutos\n",
    "\n",
    "<iframe src=\"https://time-stuff.com/embed.html\" frameborder=\"0\" scrolling=\"no\" width=\"391\" height=\"140\"></iframe> \n",
    "\n",
    "***\n",
    "Solución 4"
   ]
  },
  {
   "cell_type": "code",
   "execution_count": 14,
   "metadata": {},
   "outputs": [
    {
     "name": "stdout",
     "output_type": "stream",
     "text": [
      "Bienvenido al Python Study Group 🐍\n",
      "Hello and welcome to the Python Study Group! ✨\n",
      "¡Hola!\n"
     ]
    }
   ],
   "source": [
    "def bienvenida(idioma):\n",
    "    mensajes = {\n",
    "        \"es\":\"Bienvenido al Python Study Group 🐍\",\n",
    "        \"en\": \"Hello and welcome to the Python Study Group! ✨\",\n",
    "    }\n",
    "    print (mensajes.get(idioma, \"¡Hola!\"))\n",
    "\n",
    "bienvenida(\"es\")\n",
    "bienvenida(\"en\")\n",
    "bienvenida(\"fr\")"
   ]
  },
  {
   "cell_type": "markdown",
   "metadata": {},
   "source": [
    "***\n",
    "Funciones con múltiples argumentos y sin retorno\n",
    "\n",
    "* Tiene definido múltiples parámetros de entrada\n",
    "* Recibe múltiples argumentos de entrada separados por coma\n",
    "* No devuelve ningún valor\n",
    "* Los argumentos son variables de la función\n",
    "* El orden de los argumentos debe coincidir con los parametros\n",
    "\n",
    "```python\n",
    "def funcion(param1, param2, ...,  paramN):\n",
    "    print (param1, param2, ..., paramN)\n",
    "\n",
    "funcion(\"Bloque\", \"de\", \"código\")\n",
    "\n",
    "Bloque de código\n",
    "```\n",
    "Los parámetros definidos pueden ser de cualquier tipo y cantidad\n",
    "***\n",
    "Ejemplo 5, Crear una función que reciba una cadena y un entero y repita la cadena el número de veces"
   ]
  },
  {
   "cell_type": "code",
   "execution_count": 16,
   "metadata": {},
   "outputs": [
    {
     "name": "stdout",
     "output_type": "stream",
     "text": [
      "Ejemplo 5\n",
      "1. Definir función\n",
      "2. Llamar función\n",
      "✨🎉✨🎉✨🎉✨🎉✨🎉✨🎉✨🎉✨🎉✨🎉✨🎉\n"
     ]
    }
   ],
   "source": [
    "print (\"Ejemplo 5\")\n",
    "print (\"1. Definir función\")\n",
    "def repetir(cadena, veces):\n",
    "    print (cadena*veces)\n",
    "\n",
    "print (\"2. Llamar función\")\n",
    "repetir(\"✨🎉\", 10)"
   ]
  },
  {
   "cell_type": "markdown",
   "metadata": {},
   "source": [
    "___\n",
    "Ejercicio 5, crear una función que reciba una lisata de animales, un entero  e imprima una lista con los animales repetidos el número de veces\n",
    "\n",
    "```python\n",
    "# Entrada\n",
    "animales = ['🐶','🐱','🐭','🐹','🐰']\n",
    "# Salida\n",
    "animales = ['🐶🐶🐶', '🐱🐱🐱', '🐭🐭🐭', '🐹🐹🐹', '🐰🐰🐰']\n",
    "```\n",
    "\n",
    "2 minutos\n",
    "\n",
    "<iframe src=\"https://time-stuff.com/embed.html\" frameborder=\"0\" scrolling=\"no\" width=\"391\" height=\"140\"></iframe> \n",
    "\n",
    "***\n",
    "Solución 5"
   ]
  },
  {
   "cell_type": "code",
   "execution_count": 17,
   "metadata": {},
   "outputs": [
    {
     "name": "stdout",
     "output_type": "stream",
     "text": [
      "['🐶🐶🐶', '🐱🐱🐱', '🐭🐭🐭', '🐹🐹🐹', '🐰🐰🐰']\n",
      "('Holi', 'Good morning')\n"
     ]
    }
   ],
   "source": [
    "def repetir_animales(animales, veces):\n",
    "    lista = [animal*veces for animal in animales]\n",
    "    print (lista)\n",
    "\n",
    "animales = ['🐶','🐱','🐭','🐹','🐰']\n",
    "repetir_animales(animales, 3)\n",
    "\n",
    "print (resultado)"
   ]
  },
  {
   "cell_type": "markdown",
   "metadata": {},
   "source": [
    "___\n",
    "Funciones con múltiples argumentos y con un retorno\n",
    "\n",
    "* Tiene definido múltiples parámetros de entrada\n",
    "* Recibe múltiples argumentos de entrada separados por coma\n",
    "* Devuelve un valor\n",
    "* El orden de los argumentos debe coincidir con los parámetros"
   ]
  },
  {
   "cell_type": "code",
   "execution_count": 18,
   "metadata": {},
   "outputs": [
    {
     "name": "stdout",
     "output_type": "stream",
     "text": [
      "Bloque\n"
     ]
    }
   ],
   "source": [
    "def funcion(param1, param2, paramN):\n",
    "    return param1\n",
    "\n",
    "resultado = funcion(\"Bloque\", \"de\", \"código\")\n",
    "print (resultado)"
   ]
  },
  {
   "cell_type": "markdown",
   "metadata": {},
   "source": [
    "___\n",
    "Ejemplo 6, crear una función que reciba dos números y devuelva una lista con la suma, resta, mutiplicación y división de los números"
   ]
  },
  {
   "cell_type": "code",
   "execution_count": 19,
   "metadata": {},
   "outputs": [
    {
     "name": "stdout",
     "output_type": "stream",
     "text": [
      "Ejemplo 6\n",
      "1. Definir función\n",
      "2. Llamar función\n",
      "[15, 5, 50, 2.0]\n"
     ]
    }
   ],
   "source": [
    "print (\"Ejemplo 6\")\n",
    "print (\"1. Definir función\")\n",
    "def operaciones(numero1, numero2):\n",
    "    suma = numero1 + numero2\n",
    "    resta = numero1 - numero2\n",
    "    multiplicacion = numero1 * numero2\n",
    "    division = numero1 / numero2\n",
    "    return [suma, resta, multiplicacion, division]\n",
    "\n",
    "print (\"2. Llamar función\")\n",
    "resultado = operaciones(10, 5)\n",
    "print (resultado)"
   ]
  },
  {
   "cell_type": "markdown",
   "metadata": {},
   "source": [
    "***\n",
    "Ejercicio 6, crar una función que reciba dos enteros y una cadena devolver el resultado de la operación de los números según la cadena puede ser suma, resta, multiplicación o división\n",
    "\n",
    "3 minutos\n",
    "\n",
    "<iframe src=\"https://time-stuff.com/embed.html\" frameborder=\"0\" scrolling=\"no\" width=\"391\" height=\"140\"></iframe> \n",
    "\n",
    "___\n",
    "Solución 6"
   ]
  },
  {
   "cell_type": "code",
   "execution_count": 21,
   "metadata": {},
   "outputs": [
    {
     "name": "stdout",
     "output_type": "stream",
     "text": [
      "15\n"
     ]
    }
   ],
   "source": [
    "def operacion(numero1, numero2, operacion):\n",
    "    if operacion == \"suma\":\n",
    "        return numero1 + numero2\n",
    "    elif operacion == \"resta\":\n",
    "        return numero1 - numero2\n",
    "    elif operacion == \"multiplicacion\":\n",
    "        return numero1 * numero2\n",
    "    elif operacion == \"division\":\n",
    "        return numero1 / numero2\n",
    "    else:\n",
    "        return \"Operación no válida\"\n",
    "\n",
    "resultado = operacion(10, 5, \"suma\")\n",
    "print (resultado)"
   ]
  },
  {
   "cell_type": "markdown",
   "metadata": {},
   "source": [
    "___\n",
    "Funciones con múltiples argumentos y con múltiple retorno\n",
    "\n",
    "* Tiene definido múltiples parámetros de entrada\n",
    "* Recibe múltiples argumentos de entrada separados por coma\n",
    "* Devuelve múltiples valores\n",
    "* Devuelve una tupla de Python\n",
    "\n",
    "```python\n",
    "def funcion(param1, param2, ..., paramN):\n",
    "    return param1, param2, ..., paramN\n",
    "\n",
    "resultado = funcion(\"Bloque\", \"de\", \"código\")\n",
    "print (resultado)\n",
    "```\n",
    "\n",
    "```python\n",
    "('Bloque', 'de', 'código')\n",
    "```\n",
    "\n",
    "***\n",
    "\n",
    "Ejemplo 7, crear una función que reciba dos números y devuelva la suma, resta, multiplicación y división de los dos números"
   ]
  },
  {
   "cell_type": "code",
   "execution_count": 23,
   "metadata": {},
   "outputs": [
    {
     "name": "stdout",
     "output_type": "stream",
     "text": [
      "Ejemplo 7\n",
      "1. Definir función\n",
      "2. Llamar función\n",
      "15 5 50 2.0\n"
     ]
    }
   ],
   "source": [
    "print (\"Ejemplo 7\")\n",
    "print (\"1. Definir función\")\n",
    "def operaciones(numero1, numero2):\n",
    "    suma = numero1 + numero2\n",
    "    resta = numero1 - numero2\n",
    "    multiplicacion = numero1 * numero2\n",
    "    division = numero1 / numero2\n",
    "    return suma, resta, multiplicacion, division\n",
    "\n",
    "print (\"2. Llamar función\")\n",
    "suma, resta, multiplicacion, division = operaciones(10, 5)\n",
    "print (suma, resta, multiplicacion, division)"
   ]
  },
  {
   "cell_type": "markdown",
   "metadata": {},
   "source": [
    "***\n",
    "Ejercicio 7, crear un juego de piedra, papel o tijera, donde reciba dos jugadas por teclado\n",
    "\n",
    "y devuelva las jugadas y el resultado, si ingresa salir terminar el juego\n",
    "\n",
    "3 minutos\n",
    "\n",
    "<iframe src=\"https://time-stuff.com/embed.html\" frameborder=\"0\" scrolling=\"no\" width=\"391\" height=\"140\"></iframe>\n",
    "\n",
    "___\n",
    "Solución 7"
   ]
  },
  {
   "cell_type": "code",
   "execution_count": 1,
   "metadata": {},
   "outputs": [
    {
     "name": "stdout",
     "output_type": "stream",
     "text": [
      "('1', '2', 'Jugador 2 gana')\n",
      "('1', '2', 'Jugador 2 gana')\n",
      "('piedra', 'papel', 'Jugador 2 gana')\n"
     ]
    }
   ],
   "source": [
    "def jugar_piedra_papel_tijera(jugada1, jugada2):\n",
    "    if jugada1 == jugada2:\n",
    "        resultado = \"Empate\"\n",
    "    elif jugada1 == \"piedra\" and jugada2 == \"tijera\":\n",
    "        resultado = \"Jugador 1 gana\"\n",
    "    elif jugada1 == \"papel\" and jugada2 == \"piedra\":\n",
    "        resultado = \"Jugador 1 gana\"\n",
    "    elif jugada1 == \"tijera\" and jugada2 == \"papel\":\n",
    "        resultado = \"Jugador 1 gana\"\n",
    "    else:\n",
    "        resultado = \"Jugador 2 gana\"\n",
    "    return jugada1, jugada2, resultado\n",
    "\n",
    "while True:\n",
    "    jugador1 = input(\"Jugador 1: \")\n",
    "    if jugador1 == \"salir\":\n",
    "        break\n",
    "    jugador2 = input(\"Jugador 2: \")\n",
    "    if jugador2 == \"salir\":\n",
    "        break\n",
    "    resultado = jugar_piedra_papel_tijera(jugador1, jugador2)\n",
    "    print (resultado)"
   ]
  },
  {
   "cell_type": "markdown",
   "metadata": {},
   "source": [
    "___\n",
    "Variables globales y locales\n",
    "\n",
    "* Las variables globales son accesibles desde cualquier parte del programa\n",
    "* Las variables locales son accesibles solo dentro de un bloque de código como una función\n",
    "* Si hay una variable local y una global con el mismo nombre, la variable local tendrá prioridad donde está definida\n",
    "***"
   ]
  },
  {
   "cell_type": "code",
   "execution_count": 2,
   "metadata": {},
   "outputs": [
    {
     "name": "stdout",
     "output_type": "stream",
     "text": [
      "✨ Variable global\n",
      "✨ Variable local\n",
      "🎈 Variable global\n"
     ]
    },
    {
     "ename": "NameError",
     "evalue": "name 'variable_local' is not defined",
     "output_type": "error",
     "traceback": [
      "\u001b[1;31m---------------------------------------------------------------------------\u001b[0m",
      "\u001b[1;31mNameError\u001b[0m                                 Traceback (most recent call last)",
      "Cell \u001b[1;32mIn[2], line 10\u001b[0m\n\u001b[0;32m      8\u001b[0m funcion()\n\u001b[0;32m      9\u001b[0m \u001b[38;5;28mprint\u001b[39m (\u001b[38;5;124m\"\u001b[39m\u001b[38;5;124m🎈\u001b[39m\u001b[38;5;124m\"\u001b[39m,variable_global)\n\u001b[1;32m---> 10\u001b[0m \u001b[38;5;28mprint\u001b[39m (\u001b[38;5;124m\"\u001b[39m\u001b[38;5;124m🎈\u001b[39m\u001b[38;5;124m\"\u001b[39m,\u001b[43mvariable_local\u001b[49m)\n",
      "\u001b[1;31mNameError\u001b[0m: name 'variable_local' is not defined"
     ]
    }
   ],
   "source": [
    "variable_global = \"Variable global\"\n",
    "\n",
    "def funcion():\n",
    "    variable_local = \"Variable local\"\n",
    "    print (\"✨\",variable_global)\n",
    "    print (\"✨\",variable_local)\n",
    "\n",
    "funcion()\n",
    "print (\"🎈\",variable_global)\n",
    "print (\"🎈\",variable_local)"
   ]
  },
  {
   "cell_type": "markdown",
   "metadata": {},
   "source": [
    "___\n",
    "Prioridad"
   ]
  },
  {
   "cell_type": "code",
   "execution_count": 3,
   "metadata": {},
   "outputs": [
    {
     "name": "stdout",
     "output_type": "stream",
     "text": [
      "0. Variable global\n",
      "1. Variable local\n",
      "2. Variable global\n"
     ]
    }
   ],
   "source": [
    "variable = \"Variable global\"\n",
    "print ('0.',variable)\n",
    "\n",
    "def funcion():\n",
    "    variable = \"Variable local\"\n",
    "    print ('1.',variable)\n",
    "\n",
    "funcion()\n",
    "print ('2.',variable)"
   ]
  },
  {
   "cell_type": "markdown",
   "metadata": {},
   "source": [
    "***\n",
    "Ejemplo 8, de la siguiente lista de números obtener el mayor y menor número con una función"
   ]
  },
  {
   "cell_type": "code",
   "execution_count": 4,
   "metadata": {},
   "outputs": [
    {
     "name": "stdout",
     "output_type": "stream",
     "text": [
      "(30, 5)\n"
     ]
    }
   ],
   "source": [
    "numeros = [10, 5, 20, 15, 25, 30] #Global\n",
    "\n",
    "def mayor_menor(): #No recibe argumentos\n",
    "    mayor = max(numeros) #Local\n",
    "    menor = min(numeros) #Local\n",
    "    return mayor, menor #Devuelve dos valores\n",
    "\n",
    "resultado = mayor_menor()\n",
    "print (resultado)"
   ]
  },
  {
   "cell_type": "markdown",
   "metadata": {},
   "source": [
    "___\n",
    "Ejercicio 8, de la siguiente cadena global convertir en formato título y contar las vocales `aeiou` con una función\n",
    "\n",
    "```python\n",
    "cadena = \"python es un lenguaje de programación\"\n",
    "```\n",
    "\n",
    "2 minutos\n",
    "\n",
    "<iframe src=\"https://time-stuff.com/embed.html\" frameborder=\"0\" scrolling=\"no\" width=\"391\" height=\"140\"></iframe>\n",
    "\n",
    "___\n",
    "Solución 8"
   ]
  },
  {
   "cell_type": "code",
   "execution_count": 5,
   "metadata": {},
   "outputs": [
    {
     "name": "stdout",
     "output_type": "stream",
     "text": [
      "('Python Es Un Lenguaje De Programación', 10)\n"
     ]
    }
   ],
   "source": [
    "def formato_vocales():\n",
    "    titulo = cadena.title()\n",
    "    vocales = sum([1 for letra in titulo if letra in \"aeiou\"])\n",
    "    return titulo, vocales\n",
    "\n",
    "cadena = \"python es un lenguaje de programación\"\n",
    "resultado = formato_vocales()\n",
    "\n",
    "print (resultado)"
   ]
  },
  {
   "cell_type": "markdown",
   "metadata": {},
   "source": [
    "___\n",
    "Arcgs y Kwargs\n",
    "\n",
    "* `*args` es una linea de parámetros sin clave\n",
    "* `*kwargs` es un diccionario de parámetros con clave\n",
    "***\n",
    "**Args**\n",
    "* Los argumentos utilizando `*args` son enviados como una tupla\n",
    "* Los `*args` se escriben después de los parámetros de la función\n",
    "* Se utiliza cuando no se sabe la cantidad de argumentos que se enviaran\n",
    "* Puede ser iterados\n",
    "___\n",
    "Estructura de `args`"
   ]
  },
  {
   "cell_type": "code",
   "execution_count": 6,
   "metadata": {},
   "outputs": [
    {
     "name": "stdout",
     "output_type": "stream",
     "text": [
      "('Bloque', 'de', 'código')\n",
      "<class 'tuple'>\n"
     ]
    }
   ],
   "source": [
    "def funcion(*args):\n",
    "    print (args)\n",
    "    print (type(args))\n",
    "\n",
    "funcion(\"Bloque\", \"de\", \"código\")"
   ]
  },
  {
   "cell_type": "markdown",
   "metadata": {},
   "source": [
    "___\n",
    "Ejemplo 9 crear una función que reciba un número y una cantidad de cadenas, concatene las cadenas y la devuelva repetida N veces"
   ]
  },
  {
   "cell_type": "code",
   "execution_count": 7,
   "metadata": {},
   "outputs": [
    {
     "name": "stdout",
     "output_type": "stream",
     "text": [
      "Ejemplo 9\n",
      "1. Definir función\n",
      "2. Llamar función\n",
      "🍎🍌🍍🍎🍌🍍🍎🍌🍍\n"
     ]
    }
   ],
   "source": [
    "print (\"Ejemplo 9\")\n",
    "print (\"1. Definir función\")\n",
    "def concatenar(numero, *cadenas):\n",
    "    concatenado = \"\"\n",
    "    for cadena in cadenas:\n",
    "        concatenado += cadena\n",
    "    return concatenado*numero\n",
    "\n",
    "print (\"2. Llamar función\")\n",
    "resultado = concatenar(3, \"🍎\", \"🍌\", \"🍍\")\n",
    "print (resultado)"
   ]
  },
  {
   "cell_type": "markdown",
   "metadata": {},
   "source": [
    "___\n",
    "Ejercicio 9, crear una función que reciba N objetos y genere una tupla y una lista con los objetos usando `args`\n",
    "\n",
    "```python\n",
    "1, 1.1, True, \"🍎\"\n",
    "```\n",
    "\n",
    "2 minutos\n",
    "\n",
    "<iframe src=\"https://time-stuff.com/embed.html\" frameborder=\"0\" scrolling=\"no\" width=\"391\" height=\"140\"></iframe> \n",
    "\n",
    "___\n",
    "Solución 9"
   ]
  },
  {
   "cell_type": "code",
   "execution_count": 8,
   "metadata": {},
   "outputs": [
    {
     "name": "stdout",
     "output_type": "stream",
     "text": [
      "(1, 1.1, True, '🍎')\n",
      "[1, 1.1, True, '🍎']\n"
     ]
    }
   ],
   "source": [
    "def tupla_lista(*args):\n",
    "    tupla = tuple(args)\n",
    "    lista = list(args)\n",
    "    return tupla, lista\n",
    "\n",
    "lista, tupla = tupla_lista(1, 1.1, True, \"🍎\")\n",
    "\n",
    "print (lista)\n",
    "print (tupla)"
   ]
  },
  {
   "cell_type": "markdown",
   "metadata": {},
   "source": [
    "***\n",
    "Kwargs\n",
    "\n",
    "* Los argumentos utilizando `**kwargs` son enviados como un diccionario\n",
    "* Los `**kwargs` se escriben después de los parámetros de la función\n",
    "* Se utiliza cuando no se sabe la cantidad de argumentos que se enviarán con clave\n",
    "* Pueden ser iterados\n",
    "* Se accede a los valores con la clave del diccionario\n",
    "***\n",
    "Estructura de `**kwargs`\n"
   ]
  },
  {
   "cell_type": "code",
   "execution_count": 9,
   "metadata": {},
   "outputs": [
    {
     "name": "stdout",
     "output_type": "stream",
     "text": [
      "{'nombre': 'Jhon', 'apellido': 'Doe', 'genero': 'M'}\n",
      "<class 'dict'>\n"
     ]
    }
   ],
   "source": [
    "def funcion(**kwargs):\n",
    "    print (kwargs)\n",
    "    print (type(kwargs))\n",
    "\n",
    "funcion(nombre=\"Jhon\", apellido=\"Doe\", genero=\"M\")"
   ]
  },
  {
   "cell_type": "markdown",
   "metadata": {},
   "source": [
    "___\n",
    "Ejemplo 10, crear una función que reciba los datos de una persona y devuelva un mensaje con los datos"
   ]
  },
  {
   "cell_type": "code",
   "execution_count": 10,
   "metadata": {},
   "outputs": [
    {
     "name": "stdout",
     "output_type": "stream",
     "text": [
      "Ejemplo 10\n",
      "1. Definir función\n",
      "2. Llamar función\n",
      "Nombre: JHON\n",
      "Apellido: DOE\n",
      "Edad: 20\n",
      "Boliviano: TRUE\n",
      "\n"
     ]
    }
   ],
   "source": [
    "print (\"Ejemplo 10\")\n",
    "print (\"1. Definir función\")\n",
    "def datos_persona(**datos):\n",
    "    mensaje = \"\"\n",
    "    for clave, valor in datos.items():\n",
    "        mensaje += f\"{str(clave).title()}: {str(valor).upper()}\\n\"\n",
    "    return mensaje\n",
    "print (\"2. Llamar función\")\n",
    "resultado = datos_persona(nombre=\"Jhon\", apellido=\"Doe\", edad=20, boliviano=True)\n",
    "print (resultado)"
   ]
  },
  {
   "cell_type": "markdown",
   "metadata": {},
   "source": [
    "___\n",
    "Ejercicio 10, Crea un simulador de lavar platos con una función que reciba los objetos a lavar y el tiempo de lavado de cada objeto\n",
    "devuelva un mensaje con los objetos lavados y el tiempo total de lavado\n",
    "\n",
    "```python\n",
    "Plato: 5 minutos, Vaso: 3 minutos, Tenedor: 1 minuto, Cuchara: 0.5 minutos\n",
    "```\n",
    "\n",
    "3 minutos\n",
    "\n",
    "<iframe src=\"https://time-stuff.com/embed.html\" frameborder=\"0\" scrolling=\"no\" width=\"391\" height=\"140\"></iframe> \n",
    "\n",
    "***\n",
    "Solución 10"
   ]
  },
  {
   "cell_type": "code",
   "execution_count": 11,
   "metadata": {},
   "outputs": [
    {
     "name": "stdout",
     "output_type": "stream",
     "text": [
      "plato: 5 minutos\n",
      "vaso: 3 minutos\n",
      "tenedor: 1 minutos\n",
      "cuchara: 0.5 minutos\n",
      "Tiempo total: 9.5 minutos\n"
     ]
    }
   ],
   "source": [
    "def lavar(**objetos):\n",
    "    tiempo_total = 0\n",
    "    mensaje = \"\"\n",
    "    for objeto, tiempo in objetos.items():\n",
    "        tiempo_total += tiempo\n",
    "        mensaje += f\"{objeto}: {tiempo} minutos\\n\"\n",
    "    mensaje += f\"Tiempo total: {tiempo_total} minutos\"\n",
    "    return mensaje\n",
    "\n",
    "resultado = lavar(plato=5, vaso=3, tenedor=1, cuchara=0.5)\n",
    "print (resultado)"
   ]
  },
  {
   "cell_type": "markdown",
   "metadata": {},
   "source": [
    "___\n",
    "Documentación de funciones\n",
    "\n",
    "Es importante documentar las funciones para que otros programadores puedan entender su funcionamiento\n",
    "___\n",
    "* Se puede documentar una función con un comentario de varias lineas\n",
    "* Se accede con la función `.__doc__`\n",
    "***\n",
    "Documentación de una funciónes\n",
    "\n",
    "Es importante documentar la funciones para que otros programadores puedan entender su funcionamiento\n",
    "***\n",
    "* Se puede documentar una función con un comentario de varias lineas\n",
    "* Se accede con la función `.__doc__`\n",
    "***\n",
    "Documentación de una función\n",
    "\n",
    "```python\n",
    "def funcion():\n",
    "    \"\"\"\n",
    "    Documentación aquí\n",
    "    \"\"\"\n",
    "    print (\"Bloque de código\")\n",
    "```\n",
    "\n",
    "* `def funcion():` es la definición de la función\n",
    "* `\"\"\"` es el inicio de la documentación\n",
    "* `Documentación aquí` es el texto de la documentación\n",
    "* `\"\"\"` es el fin de la documentación\n",
    "* `print` es el bloque de código indentado\n",
    "\n",
    "***\n",
    "Acceso a la documentación con `.__doc__`"
   ]
  },
  {
   "cell_type": "code",
   "execution_count": 12,
   "metadata": {},
   "outputs": [
    {
     "name": "stdout",
     "output_type": "stream",
     "text": [
      "Acceso a la documentación\n",
      "\n",
      "    Documentación aquí\n",
      "    \n",
      "Fin de la ejecución\n"
     ]
    }
   ],
   "source": [
    "print (\"Acceso a la documentación\")\n",
    "def funcion():\n",
    "    \"\"\"\n",
    "    Documentación aquí\n",
    "    \"\"\"\n",
    "    print (\"Bloque de código\")\n",
    "print (funcion.__doc__)\n",
    "print (\"Fin de la ejecución\")"
   ]
  },
  {
   "cell_type": "markdown",
   "metadata": {},
   "source": [
    "____\n",
    "Llamado de funciones dentro de funciones\n",
    "\n",
    "* Se pueden llamar funciones dentro de otras funciones \n",
    "* Se utiliza para dividir una función en bloques de código más pequeños\n",
    "* Se pueden llamar una función dentro de un bloque o condicional\n",
    "***\n",
    "Visualmente\n",
    "\n",
    "![funciónes](https://github.com/python-la-paz/python-study-group-fundamentals/raw/main/content/sesion14/img/FUNCION-ANIDADA-W.gif)\n",
    "\n",
    "___\n",
    "Ejemplo 11, crear tres funciones una principal que reciba un número y dos funciones anidadas que devuelvan el cuadrado y el cubo del número"
   ]
  },
  {
   "cell_type": "code",
   "execution_count": 13,
   "metadata": {},
   "outputs": [
    {
     "name": "stdout",
     "output_type": "stream",
     "text": [
      "Ejemplo 11\n",
      "1. Definir función Principal\n",
      "2. Definir función Cuadrado\n",
      "3. Definir función Cubo\n",
      "4. Llamar función Principal\n",
      "5 (25, 125)\n"
     ]
    }
   ],
   "source": [
    "print (\"Ejemplo 11\")\n",
    "print (\"1. Definir función Principal\")\n",
    "def principal(numero):\n",
    "    cuadrado = cuadrado_numero(numero)\n",
    "    cubo = cubo_numero(numero)\n",
    "    return cuadrado, cubo\n",
    "\n",
    "print (\"2. Definir función Cuadrado\")\n",
    "def cuadrado_numero(numero):\n",
    "    return numero**2\n",
    "\n",
    "print (\"3. Definir función Cubo\")\n",
    "def cubo_numero(numero):\n",
    "    return numero**3\n",
    "\n",
    "print (\"4. Llamar función Principal\")\n",
    "numero = 5\n",
    "resultado = principal(numero)\n",
    "print (numero, resultado)"
   ]
  },
  {
   "cell_type": "markdown",
   "metadata": {},
   "source": [
    "***\n",
    "Ejercicio 11, crear funciones de limpieza de una cadena para obtener las letras y convertir todo en mayúsculas crea funciones de limpieza y función una principal\n",
    "\n",
    "```python\n",
    "cadena = \"Python es un lenguaje de programación 🎈. Feliz Aprendizaje el 2024\"\n",
    "```\n",
    "\n",
    "3 minutos\n",
    "\n",
    "<iframe src=\"https://time-stuff.com/embed.html\" frameborder=\"0\" scrolling=\"no\" width=\"391\" height=\"140\"></iframe>\n",
    "\n",
    "***\n",
    "Solución 11 "
   ]
  },
  {
   "cell_type": "code",
   "execution_count": 14,
   "metadata": {},
   "outputs": [
    {
     "name": "stdout",
     "output_type": "stream",
     "text": [
      "Python es un lenguaje de programación 🎈. Feliz Aprendizaje el 2024\n",
      "PYTHONESUNLENGUAJEDEPROGRAMACIÓNFELIZAPRENDIZAJEEL\n"
     ]
    }
   ],
   "source": [
    "def limpiar_letras(cadena):\n",
    "    \"\"\"\n",
    "    Elimina los números de una cadena y espacios\n",
    "    \"\"\"\n",
    "    return \"\".join([letra for letra in cadena if letra.isalpha()])\n",
    "def limpiar_mayusculas(cadena):\n",
    "    \"\"\"\n",
    "    Convierte una cadena en mayúsculas\n",
    "    \"\"\"\n",
    "    return cadena.upper()\n",
    "\n",
    "def limpiar(cadena):\n",
    "    cadena = limpiar_letras(cadena)\n",
    "    cadena = limpiar_mayusculas(cadena)\n",
    "    return cadena\n",
    "\n",
    "cadena = \"Python es un lenguaje de programación 🎈. Feliz Aprendizaje el 2024\"\n",
    "resultado = limpiar(cadena)\n",
    "print (cadena)\n",
    "print (resultado)"
   ]
  },
  {
   "cell_type": "markdown",
   "metadata": {},
   "source": [
    "___\n",
    "Funciones Recursivas\n",
    "* Una función recursiva es una función que se llama a sí misma\n",
    "* Se utiliza para reprocesar un bloque de código\n",
    "* Se debe tener un caso base para evitar un buble infinito\n",
    "***\n",
    "Se utiliza para resolver problemas matemáticos, grafos, árboles, etc.\n",
    "***\n",
    "Visualmente\n",
    "\n",
    "![Recursividad](https://github.com/python-la-paz/python-study-group-fundamentals/raw/main/content/sesion14/img/FUNCION-RECURSIVA-W.gif)\n",
    "\n",
    "***\n",
    "\n",
    "Estructura de una función recursiva\n",
    "\n",
    "```python\n",
    "def funcion_recursiva(valor):\n",
    "    if caso_base:\n",
    "        return valor\n",
    "    else:\n",
    "        return funcion_recursiva(valor)\n",
    "```\n",
    "\n",
    "* `def funcion_recursiva(valor):` es la defincición de la función\n",
    "* `if caso_base:` es la condición para terminar la recursividad\n",
    "* `returna valor` es el valor a devolver\n",
    "* `else:` es el bloque de código recursivo\n",
    "* `return funcion_recursiva(valor)` es la llamada recursiva\n",
    "***\n",
    "Ejemplo 12, crear una función recursiva para obtener el 10 número par"
   ]
  },
  {
   "cell_type": "code",
   "execution_count": 15,
   "metadata": {},
   "outputs": [
    {
     "name": "stdout",
     "output_type": "stream",
     "text": [
      "Ejemplo 12\n",
      "1. Definir función\n",
      "2. Llamar función\n",
      "20\n"
     ]
    }
   ],
   "source": [
    "print (\"Ejemplo 12\")\n",
    "print (\"1. Definir función\")\n",
    "def numero_par(numero):\n",
    "    if numero == 0:\n",
    "        return 0\n",
    "    else:\n",
    "        return numero_par(numero-1) + 2\n",
    "\n",
    "print (\"2. Llamar función\")\n",
    "resultado = numero_par(10)\n",
    "print (resultado)"
   ]
  },
  {
   "cell_type": "markdown",
   "metadata": {},
   "source": [
    "<iframe width=\"850\" height=\"450\" frameborder=\"0\" src=\"https://pythontutor.com/iframe-embed.html#code=print%20%28%22Ejemplo%2012%22%29%0Aprint%20%28%221.%20Definir%20funci%C3%B3n%22%29%0Adef%20numero_par%28numero%29%3A%0A%20%20%20%20if%20numero%20%3D%3D%200%3A%0A%20%20%20%20%20%20%20%20return%200%0A%20%20%20%20else%3A%0A%20%20%20%20%20%20%20%20return%20numero_par%28numero-1%29%20%2B%202%0A%0Aprint%20%28%222.%20Llamar%20funci%C3%B3n%22%29%0Aresultado%20%3D%20numero_par%2810%29%0Aprint%20%28resultado%29&codeDivHeight=400&codeDivWidth=350&cumulative=false&curInstr=1&heapPrimitives=nevernest&origin=opt-frontend.js&py=3&rawInputLstJSON=%5B%5D&textReferences=false\"> </iframe>\n",
    "\n"
   ]
  },
  {
   "cell_type": "markdown",
   "metadata": {},
   "source": [
    "***\n",
    "Ejercio 12, Crear una función recursiva para obtener el factorial de un número\n",
    "\n",
    "$5! = 5*4*3*2*1 = 120$\n",
    "\n",
    "2 minutos\n",
    "\n",
    "<iframe src=\"https://time-stuff.com/embed.html\" frameborder=\"0\" scrolling=\"no\" width=\"391\" height=\"140\"></iframe> \n",
    "\n",
    "***\n",
    "Solución 12"
   ]
  },
  {
   "cell_type": "code",
   "execution_count": 16,
   "metadata": {},
   "outputs": [
    {
     "name": "stdout",
     "output_type": "stream",
     "text": [
      "120\n"
     ]
    }
   ],
   "source": [
    "def factorial(numero):\n",
    "    if numero == 0:\n",
    "        return 1\n",
    "    else:\n",
    "        return numero*factorial(numero-1)\n",
    "\n",
    "resultado = factorial(5)\n",
    "print (resultado)"
   ]
  },
  {
   "cell_type": "markdown",
   "metadata": {},
   "source": [
    "***\n",
    "Funciones anónimas o lambda\n",
    "\n",
    "* Una función anónima es una función sin nombre\n",
    "* Se utiliza para funciones pequeñas y simples\n",
    "* Se utiliza para funciones que se van a pasar como argumento\n",
    "* Se realiza en una sola linea\n",
    "* Se puede asignar a una variable\n",
    "***\n",
    "Se recomienda utilizar para funciones pequeñas y simples\n",
    "\n",
    "Según PEP-8 no se recomienda utilizar lambda sino crear una función definida\n",
    "\n",
    "Se puede utilizar en funciones como `map`, `filter`, `reduce`, `sorted`, etc. para procesar datos\n",
    "___\n",
    "Estructura de una función anónima\n",
    "\n",
    "```python \n",
    "lambda argumento: expresión\n",
    "```\n",
    "* `lambda` es la palabra reservada\n",
    "* `argumento` es el argumento de la función\n",
    "* `:` es el delimitador de la expresión\n",
    "* `expresion` es el bloque de código\n",
    "***\n",
    "Ejemplo 13, crear una función anónima para obtener el cuadrado de un número"
   ]
  },
  {
   "cell_type": "code",
   "execution_count": 17,
   "metadata": {},
   "outputs": [
    {
     "name": "stdout",
     "output_type": "stream",
     "text": [
      "Ejemplo 13\n",
      "25\n",
      "100\n"
     ]
    }
   ],
   "source": [
    "print (\"Ejemplo 13\")\n",
    "cuadrado = lambda numero: numero**2\n",
    "resultado = cuadrado(5)\n",
    "print (resultado)\n",
    "resultado = cuadrado(10)\n",
    "print (resultado)"
   ]
  },
  {
   "cell_type": "markdown",
   "metadata": {},
   "source": [
    "***\n",
    "Ejercicio 13, crear una función anónima para obtener de una cadena las letras solo los alfanumericos y convertir en mayúsculas\n",
    "\n",
    "```python\n",
    "cadena = \"Python es un lenguaje de programación\"\n",
    "```\n",
    "\n",
    "2 minutos\n",
    "\n",
    "<iframe src=\"https://time-stuff.com/embed.html\" frameborder=\"0\" scrolling=\"no\" width=\"391\" height=\"140\"></iframe> \n",
    "\n",
    "***\n",
    "Solución 13"
   ]
  },
  {
   "cell_type": "code",
   "execution_count": 19,
   "metadata": {},
   "outputs": [
    {
     "name": "stdout",
     "output_type": "stream",
     "text": [
      "Python es un lenguaje de programación\n",
      "PYTHONESUNLENGUAJEDEPROGRAMACIÓN\n"
     ]
    }
   ],
   "source": [
    "cadena = \"Python es un lenguaje de programación\"\n",
    "limpiar = lambda cadena: \"\".join([letra for letra in cadena if letra.isalnum()]).upper()\n",
    "resultado = limpiar(cadena)\n",
    "print (cadena)\n",
    "print (resultado)"
   ]
  },
  {
   "cell_type": "markdown",
   "metadata": {},
   "source": [
    "___\n",
    "Resumen\n",
    "* Las funciones son bloques de código que se pueden reutilizar\n",
    "* Se definen con la palabra reservada `def`\n",
    "* Se llaman después de ser definidas\n",
    "* Una función puede definirse con o sin parámetros\n",
    "* Una función puede recibir o no argumentos\n",
    "***\n",
    "* Una función puede devolver un valor o no devolver un valor\n",
    "* Puede haber funciones con multiples argumentos y múltiples retornos\n",
    "* Existen variables globales y locales en las funciones\n",
    "***\n",
    "* Se puede llamar funciones dentro de funciones\n",
    "* Existen funciones recursivas que se llaman a si mismas\n",
    "* Las funciones anónimas o lambda son funciones sin nombre\n",
    "* Lambdas se utilizan para funciones pequeñas y simples\n",
    "***\n",
    "* Se pueden documentar las funciones con `\"\"\"documentación\"\"\"`\n",
    "* Se puede acceder a la documentación con `.__doc__`\n",
    "***\n",
    "![funcion](https://github.com/python-la-paz/python-study-group-fundamentals/raw/main/content/sesion14/img/FUNCION-DEVOLVER-W.gif)\n",
    "\n",
    "![funcion](https://github.com/python-la-paz/python-study-group-fundamentals/raw/main/content/sesion14/img/FUNCION-LLAMAR-W.gif)\n",
    "\n",
    "***\n",
    "![funciones](https://github.com/python-la-paz/python-study-group-fundamentals/raw/main/content/sesion14/img/FUNCION-ANIDADA-W.gif)\n",
    "\n",
    "![recursividad](https://github.com/python-la-paz/python-study-group-fundamentals/raw/main/content/sesion14/img/FUNCION-RECURSIVA-W.gif)"
   ]
  }
 ],
 "metadata": {
  "kernelspec": {
   "display_name": "Python 3",
   "language": "python",
   "name": "python3"
  },
  "language_info": {
   "codemirror_mode": {
    "name": "ipython",
    "version": 3
   },
   "file_extension": ".py",
   "mimetype": "text/x-python",
   "name": "python",
   "nbconvert_exporter": "python",
   "pygments_lexer": "ipython3",
   "version": "3.12.4"
  }
 },
 "nbformat": 4,
 "nbformat_minor": 2
}
