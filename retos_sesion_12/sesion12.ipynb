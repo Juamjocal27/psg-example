{
 "cells": [
  {
   "cell_type": "markdown",
   "metadata": {},
   "source": [
    "# **Sentencias condicionales**\n",
    "\n",
    "**Estructura de control**\n",
    "\n",
    "Es un programa las estructuras de control son el orden en el que se ejecutan las instrucciones\n",
    "\n",
    "Python soporta las siguientes estructuras de control\n",
    "\n",
    "* Secuencial o lineal \n",
    "* Selección o condicionales\n",
    "* Repetición o ciclos\n",
    "***\n",
    "**Secuencial o lineal**\n",
    "\n",
    "Es la ejecución de las instrucciones en el orden en el que se escriben\n",
    "\n",
    "```Python\n",
    "primero = 1\n",
    "segundo = 2\n",
    "tercero = 3\n",
    "```\n",
    "***\n",
    "El problema con la secuencialidad es qeu no siempre queremos que las instrucciones se ejecuten en el orden en el que escriben\n",
    "\n",
    "Para eso existen las estructuras de control de selección y repetición\n",
    "***\n",
    "Hasta el momento hemos visto sólo ejecución secuencial de instrucciones en Python\n",
    "***\n",
    "**Selección o condicionales**\n",
    "\n",
    "Las estructuras de selección o condicionales permiten ejecutar un bloque de código si se cumple una condición\n",
    "***\n",
    "Permite a los programas tomar desiciones y ejecutar diferentes acciones dependiendo de las condiciones\n",
    "***\n",
    "En Python se utilizan las siguientes condicionales\n",
    "\n",
    "* `if`\n",
    "* `else`\n",
    "* `if` anidado\n",
    "* `elif`\n",
    "***\n",
    "Crearemos un archivo con el nombre sesion12.py\n",
    "Empezaremos a escribir condicionales\n",
    "***\n",
    "**if**\n",
    "La sentencias `if` permite ejecutar un bloque de código si se cumple una condición\n",
    "\n",
    "La condición tiene que ser un booleano\n",
    "***\n",
    "visualmente\n",
    "\n",
    "![if](https://github.com/python-la-paz/python-study-group-fundamentals/blob/main/content/sesion12/img/IF-W.gif?raw=true)\n",
    "\n",
    "***\n",
    "Como se declara un `if`\n",
    "`if` tiene la siguiente estructura\n",
    "\n",
    "```python\n",
    "if condicion:\n",
    "    print(\"Cumple\")\n",
    "```\n",
    "\n",
    "* `if0`, es la palbra reservada\n",
    "* `condicion`, es una expresión evaluada con `True` o `False`\n",
    "* `:`, es el delimitador de la condición\n",
    "* `print(\"cumple\")`, es el bloque de código con identación que se ejecuta si la condición es `True`\n",
    "  \n",
    "***\n",
    "En Python la estructura de un condicional `if` es la siguiente"
   ]
  },
  {
   "cell_type": "code",
   "execution_count": 2,
   "metadata": {},
   "outputs": [
    {
     "name": "stdout",
     "output_type": "stream",
     "text": [
      "Inicio\n",
      "Cumple condición\n",
      "Fin\n"
     ]
    }
   ],
   "source": [
    "print (\"Inicio\")\n",
    "condicion = True\n",
    "if condicion:\n",
    "    # Bloque de código\n",
    "    print (\"Cumple condición\")\n",
    "print (\"Fin\")"
   ]
  },
  {
   "cell_type": "markdown",
   "metadata": {},
   "source": [
    "***\n",
    "Ejemplo: dado un número, imprimir si es par"
   ]
  },
  {
   "cell_type": "code",
   "execution_count": 3,
   "metadata": {},
   "outputs": [
    {
     "name": "stdout",
     "output_type": "stream",
     "text": [
      "Inicio\n",
      "El número es par\n",
      "Fin\n"
     ]
    }
   ],
   "source": [
    "print (\"Inicio\")\n",
    "numero = 4\n",
    "if numero % 2 == 0: # Si el módulo de 2 es 0\n",
    "    print (\"El número es par\")\n",
    "print (\"Fin\")"
   ]
  },
  {
   "cell_type": "markdown",
   "metadata": {},
   "source": [
    "***\n",
    "`if-else`\n",
    "\n",
    "La sentencia `else` permite ejecutar un bloque de código si no se cumple la condición del `if`\n",
    "\n",
    "Si la condición es `True` se ejecuta el bloque de código de `if`\n",
    "\n",
    "Si la condición es `False` se ejecuta el bloque de código del `else`\n",
    "\n",
    "***\n",
    "Visualmente\n",
    "\n",
    "![if-else](https://github.com/python-la-paz/python-study-group-fundamentals/blob/main/content/sesion12/img/IF-ELSE-W.gif?raw=true)\n",
    "\n",
    "***\n",
    "Como se delara un `if-else`\n",
    "\n",
    "`if-else` tiene la siguiente estructura\n",
    "\n",
    "```python\n",
    "if condicion:\n",
    "    print(\"cumple\")\n",
    "else:\n",
    "    print(\"No cumple\")\n",
    "```\n",
    "\n",
    "* `if` - `else`, son palabras reservadas\n",
    "* `Condición`, es una expresión `True` o `False`\n",
    "* `:`, es el delimitador en `if` y `else`\n",
    "* `print(\"Cumple\")` bloque por `True`\n",
    "* `print(\"No cumple\")`, bloque por `False`\n",
    "\n",
    "***\n",
    "En Python la estructura de un cnndicional `if-else` es la siguiente"
   ]
  },
  {
   "cell_type": "code",
   "execution_count": 4,
   "metadata": {},
   "outputs": [
    {
     "name": "stdout",
     "output_type": "stream",
     "text": [
      "Inicio\n",
      "No cumple condición\n",
      "Fin\n"
     ]
    }
   ],
   "source": [
    "print (\"Inicio\")\n",
    "condicion = False\n",
    "if condicion:\n",
    "    # Bloque de código\n",
    "    print (\"Cumple condición\")\n",
    "else:\n",
    "    # Bloque de código\n",
    "    print (\"No cumple condición\")\n",
    "print (\"Fin\")"
   ]
  },
  {
   "cell_type": "markdown",
   "metadata": {},
   "source": [
    "***\n",
    "Ejemplo: Dado un número, imprimir si es par o impar"
   ]
  },
  {
   "cell_type": "code",
   "execution_count": 5,
   "metadata": {},
   "outputs": [
    {
     "name": "stdout",
     "output_type": "stream",
     "text": [
      "Inicio\n",
      "El número es impar\n",
      "Fin\n"
     ]
    }
   ],
   "source": [
    "print (\"Inicio\")\n",
    "numero = 3\n",
    "if numero % 2 == 0: # Si el módulo de 2 es 0\n",
    "    print (\"El número es par\")\n",
    "else:\n",
    "    print (\"El número es impar\")\n",
    "print (\"Fin\")"
   ]
  },
  {
   "cell_type": "markdown",
   "metadata": {},
   "source": [
    "***\n",
    "**if-anidado**\n",
    "\n",
    "La sentencia `if` anidado permite ejecutar un bloque de código si se cumple una condición \n",
    "\n",
    "Dentro del bloque de código del `if-else` se puede anidar otro `if-else` de manera ilimitada\n",
    "***\n",
    "Visualmente\n",
    "\n",
    "![if-else](https://github.com/python-la-paz/python-study-group-fundamentals/raw/main/content/sesion12/img/IF-ANIDADO-W.gif)\n",
    "\n",
    "***\n",
    "Como se declara un if-anidado\n",
    "\n",
    "`if-anidado` tiene la siguiente estructura\n"
   ]
  },
  {
   "cell_type": "code",
   "execution_count": null,
   "metadata": {},
   "outputs": [],
   "source": [
    "if condicion_1:\n",
    "    print (\"Cumple 1\")\n",
    "    if condicion_2:\n",
    "        print (\"Cumple 2\")\n",
    "    else:\n",
    "        print (\"No cumple 2\")\n",
    "else:\n",
    "    print (\"No cumple 1\")"
   ]
  },
  {
   "cell_type": "markdown",
   "metadata": {},
   "source": [
    "* `if`, `else`, son palabras reservadas\n",
    "* `condicion_1`, `condicion_2`, son expresiones\n",
    "* `:`, es el delimitador en `if` y `else`\n",
    "* La identación incrementa en cada nivel de anidación\n",
    "\n",
    "***\n",
    "En Python la estructura de un condicional `if-anidado` es la siguiente"
   ]
  },
  {
   "cell_type": "code",
   "execution_count": 2,
   "metadata": {},
   "outputs": [
    {
     "name": "stdout",
     "output_type": "stream",
     "text": [
      "Inicio Anidado\n",
      "Cumple condición 1\n",
      "No cumple condición 2\n",
      "Fin\n"
     ]
    }
   ],
   "source": [
    "print (\"Inicio Anidado\")\n",
    "condicion_1 = True\n",
    "condicion_2 = False\n",
    "if condicion_1:\n",
    "    print (\"Cumple condición 1\")\n",
    "    if condicion_2:\n",
    "        print (\"Cumple condición 2\")\n",
    "    else:\n",
    "        print (\"No cumple condición 2\")\n",
    "else:\n",
    "    print (\"No cumple condición 1\")\n",
    "print (\"Fin\")"
   ]
  },
  {
   "cell_type": "markdown",
   "metadata": {},
   "source": [
    "***\n",
    "Ejemplo: Dado un número, imprimir si es par, impar o cero"
   ]
  },
  {
   "cell_type": "code",
   "execution_count": null,
   "metadata": {},
   "outputs": [],
   "source": [
    "print (\"Inicio Par, Impar o Cero\")\n",
    "numero = 0  \n",
    "if numero > 0 or numero < 0:\n",
    "    if numero % 2 == 0: # Si el módulo de 2 es 0\n",
    "        print (\"El número es par\")\n",
    "    else:\n",
    "        print (\"El número es impar\")\n",
    "else:\n",
    "    print (\"El número es cero\")\n",
    "print (\"Fin\")"
   ]
  },
  {
   "cell_type": "markdown",
   "metadata": {},
   "source": [
    "***\n",
    "Una desventaja de los condicionales anidados es que pueden ser dificiles de leer y entender \n",
    "\n",
    "Tener una indentación excesiva puede hacer que el código no sea optimo\n",
    "\n",
    "***\n",
    "En Python existe una estructura de control que permite simplificar los condicionales anidados \n",
    "\n",
    "Se llama `elif`\n",
    "***\n",
    "`elif`\n",
    "\n",
    "La sentencia `elif` es la abreviatura de `else - if`\n",
    "\n",
    "Permite ejecutar un bloque de código si no se cumple la condición del `if` y sí cumple una nueva condición\n",
    "\n",
    "***\n",
    "Visualmente\n",
    "\n",
    "![elif](https://github.com/python-la-paz/python-study-group-fundamentals/raw/main/content/sesion12/img/ELIF-W.gif)\n",
    "\n",
    "***\n",
    "\n",
    "Como se declara un `elif`\n",
    "\n",
    "`elif` tiene la siguiente estructura\n",
    "\n",
    "```python\n",
    "if condicion_1:\n",
    "    print('cumple 1')\n",
    "elif condicion_2:\n",
    "    print('cumple 2')\n",
    "else:\n",
    "    print('No cumple 1 ni 2')\n",
    "```\n",
    "\n",
    "* `if`, `elif`, `else`, son palabras reservadas\n",
    "* `condicion_1`, `condicion_2`, son expresiones\n",
    "* `:`, es el delimitador en `if`, `elif` y `else`\n",
    "* La indentación solo incrementa el primer nivel\n",
    "\n",
    "***\n",
    "\n",
    "En Python la estructura de un condicional `elif` es la siguiente"
   ]
  },
  {
   "cell_type": "code",
   "execution_count": 1,
   "metadata": {},
   "outputs": [
    {
     "name": "stdout",
     "output_type": "stream",
     "text": [
      "Inicio ELIF\n",
      "Cumple condición 2\n",
      "Fin\n"
     ]
    }
   ],
   "source": [
    "print (\"Inicio ELIF\")\n",
    "condicion_1 = False\n",
    "condicion_2 = True\n",
    "if condicion_1:\n",
    "    print (\"Cumple condición 1\")\n",
    "elif condicion_2:\n",
    "    print (\"Cumple condición 2\")\n",
    "else:\n",
    "    print (\"No cumple condición 1 ni 2\")\n",
    "print (\"Fin\")"
   ]
  },
  {
   "cell_type": "markdown",
   "metadata": {},
   "source": [
    "***\n",
    "Existe una forma de compactar una condicional en una sola línea\n",
    "\n",
    "Se llama operador ternario\n",
    "\n",
    "***\n",
    "\n",
    "**Operador ternario**\n",
    "\n",
    "El operador ternario es una forma de compactar una condicional en una sol línea \n",
    "\n",
    "como su nombre lo indica, tiene tres partes\n",
    "\n",
    "```python\n",
    "resultado = verdadero if condicion else false\n",
    "```\n",
    "\n",
    "* Condición\n",
    "* Resultado verdadero si es `True`\n",
    "* Resultado falso si es `False`\n",
    "\n",
    "***\n",
    "\n",
    "En Python la estructura de un operador ternario es la siguiente"
   ]
  },
  {
   "cell_type": "code",
   "execution_count": 2,
   "metadata": {},
   "outputs": [
    {
     "name": "stdout",
     "output_type": "stream",
     "text": [
      "Inicio Ternario\n",
      "Cumple\n",
      "Fin\n"
     ]
    }
   ],
   "source": [
    "print (\"Inicio Ternario\")\n",
    "condicion = True\n",
    "resultado = \"Cumple\" if condicion else \"No cumple\"\n",
    "print (resultado)\n",
    "print (\"Fin\")"
   ]
  },
  {
   "cell_type": "markdown",
   "metadata": {},
   "source": [
    "***\n",
    "Ejemplo: Dado un número, imprimir si es par o impar"
   ]
  },
  {
   "cell_type": "code",
   "execution_count": 3,
   "metadata": {},
   "outputs": [
    {
     "name": "stdout",
     "output_type": "stream",
     "text": [
      "Inicio Ternario Par, Impar\n",
      "El número es impar\n",
      "Fin\n"
     ]
    }
   ],
   "source": [
    "print (\"Inicio Ternario Par, Impar\")\n",
    "numero = 3\n",
    "resultado = \"El número es par\" if numero % 2 == 0 else \"El número es impar\"\n",
    "print (resultado)\n",
    "print (\"Fin\")"
   ]
  },
  {
   "cell_type": "markdown",
   "metadata": {},
   "source": [
    "***\n",
    "\n",
    "**Truthiness**\n",
    "\n",
    "¿Qué es Truthiness?\n",
    "\n",
    "***\n",
    "\n",
    "Es un término que se utiliza para describir el valor de verdad de un objeto\n",
    "\n",
    "En Python, todos los objetos tienen un valor de verdad\n",
    "\n",
    "***\n",
    "\n",
    "Hay valores que se consideran `True`\n",
    "\n",
    "y otros que se consideran `False`\n",
    "\n",
    "***\n",
    "\n",
    "En enteros \n",
    "\n",
    "* `0` es `False`\n",
    "* `1` es `True`\n",
    "* `-1` es `True`\n",
    "  \n",
    "Todos los números enteros positivos y negativos son `True` excepto `0`\n",
    "\n",
    "$x \\in \\mathbb{Z} \\land x \\neq 0$\n",
    "\n",
    "***\n",
    "Se puede utilizar un entero como condición\n",
    "\n",
    "Introducir dos números enteros y dividirlos"
   ]
  },
  {
   "cell_type": "code",
   "execution_count": 6,
   "metadata": {},
   "outputs": [
    {
     "name": "stdout",
     "output_type": "stream",
     "text": [
      "Truthiness Enteros\n",
      "10 2\n",
      "5.0\n",
      "Fin\n"
     ]
    }
   ],
   "source": [
    "print (\"Truthiness Enteros\")\n",
    "dividendo = int(input(\"Dividendo: \"))\n",
    "divisor = int(input(\"Divisor: \"))\n",
    "print (dividendo,divisor)\n",
    "if divisor: #divisor != 0\n",
    "    print (dividendo / divisor)\n",
    "else:\n",
    "    print (\"No se puede dividir entre cero\")\n",
    "print (\"Fin\")"
   ]
  },
  {
   "cell_type": "markdown",
   "metadata": {},
   "source": [
    "***\n",
    "\n",
    "En las cadenas\n",
    "\n",
    "* `\"\"` es `False`\n",
    "* `\" \"` es `True`\n",
    "* `\"hola\"` es `True`\n",
    "* `0` es `True`\n",
    "\n",
    "Todas la cadenas no vacías son `True`\n",
    "\n",
    "Las cadenas vacías son `False`\n",
    "\n",
    "***\n",
    "Se puede utilizar una cadena como condición\n",
    "\n",
    "Introducir una cadena y verificar si es vacia"
   ]
  },
  {
   "cell_type": "code",
   "execution_count": 7,
   "metadata": {},
   "outputs": [
    {
     "name": "stdout",
     "output_type": "stream",
     "text": [
      "Truthiness Cadenas\n",
      "🐍\n",
      "La cadena no está vacía\n",
      "Fin\n"
     ]
    }
   ],
   "source": [
    "print (\"Truthiness Cadenas\")\n",
    "cadena = input(\"Cadena: \")\n",
    "print (cadena)\n",
    "if cadena: # len(cadena) != 0 or cadena != \"\" \n",
    "    print (\"La cadena no está vacía\")\n",
    "else:\n",
    "    print (\"La cadena está vacía\")\n",
    "print (\"Fin\")"
   ]
  },
  {
   "cell_type": "markdown",
   "metadata": {},
   "source": [
    "***\n",
    "En las tuplas\n",
    "\n",
    "* `()` es `False`\n",
    "* `(0,)` es `True`\n",
    "* `(\"0\",)` es `True`\n",
    "* `(\"♎\",)` es `True`\n",
    "\n",
    "Todas las tuplas no vacías son `True`\n",
    "\n",
    "Las tuplas vacias son `False`\n",
    "\n",
    "***\n",
    "\n",
    "Se puede utilizar una tupla como condición\n",
    "\n",
    "Introducir una tupla y verificar si es vacía\n"
   ]
  },
  {
   "cell_type": "code",
   "execution_count": 8,
   "metadata": {},
   "outputs": [
    {
     "name": "stdout",
     "output_type": "stream",
     "text": [
      "Truthiness Tuplas\n",
      "('♈', '♉', '♊', '♋')\n",
      "La tupla no está vacía\n",
      "Fin\n"
     ]
    }
   ],
   "source": [
    "print (\"Truthiness Tuplas\")\n",
    "tupla = tuple(input(\"Tupla: \"))\n",
    "print (tupla)\n",
    "if tupla: # len(tupla) != 0 or tupla != ()\n",
    "    print (\"La tupla no está vacía\")\n",
    "else:\n",
    "    print (\"La tupla está vacía\")\n",
    "print (\"Fin\")"
   ]
  },
  {
   "cell_type": "markdown",
   "metadata": {},
   "source": [
    "***\n",
    "\n",
    "En las listas\n",
    "\n",
    "* `[]` es `False`\n",
    "* `[0]` es `True`\n",
    "* `[\"\"]` es `True`\n",
    "* `[\"♎\"]` es `True`\n",
    "  \n",
    "Todas las listas no vacias son `True`\n",
    "\n",
    "Las listas vacías son `False`\n",
    "\n",
    "***\n",
    "Se puede utilizar una lisata como condición\n",
    "\n",
    "Introducir una lista y verificar si es vacia\n"
   ]
  },
  {
   "cell_type": "code",
   "execution_count": 9,
   "metadata": {},
   "outputs": [
    {
     "name": "stdout",
     "output_type": "stream",
     "text": [
      "Truthiness Listas\n",
      "['♌', '♍', '♎', '♏']\n",
      "La lista no está vacía\n",
      "Fin\n"
     ]
    }
   ],
   "source": [
    "print (\"Truthiness Listas\")\n",
    "lista = list(input(\"Lista: \"))\n",
    "print (lista)\n",
    "if lista: # len(lista) != 0 or lista != []\n",
    "    print (\"La lista no está vacía\")\n",
    "else:\n",
    "    print (\"La lista está vacía\")\n",
    "print (\"Fin\")"
   ]
  },
  {
   "cell_type": "markdown",
   "metadata": {},
   "source": [
    "***\n",
    "En conjuntos\n",
    "\n",
    "* `set()` es `False`\n",
    "* `{0}` es `True`\n",
    "* `{\"0\"}` es `True`\n",
    "* `{\"♎\"}` es `True`\n",
    "\n",
    "Todos los conjuntos no vacíos son `True`\n",
    "\n",
    "Los conjuntos vacíos son `False`\n",
    "\n",
    "***\n",
    "\n",
    "Se puede utilizar un conjunto como condición\n",
    "\n",
    "Introducir un conjunto y verificar si es vacío"
   ]
  },
  {
   "cell_type": "code",
   "execution_count": 10,
   "metadata": {},
   "outputs": [
    {
     "name": "stdout",
     "output_type": "stream",
     "text": [
      "Truthiness Conjuntos\n",
      "{'♐', '♓', '♒', '♑'}\n",
      "El conjunto no está vacío\n",
      "Fin\n"
     ]
    }
   ],
   "source": [
    "print (\"Truthiness Conjuntos\")\n",
    "conjunto = set(input(\"Conjunto: \"))\n",
    "print (conjunto)\n",
    "if conjunto: # len(conjunto) != 0 or conjunto != set()\n",
    "    print (\"El conjunto no está vacío\")\n",
    "else:\n",
    "    print (\"El conjunto está vacío\")\n",
    "print (\"Fin\")"
   ]
  },
  {
   "cell_type": "markdown",
   "metadata": {},
   "source": [
    "***\n",
    "En diccionarios\n",
    "\n",
    "* `{}` es `False`\n",
    "* `{'': ''}` es `True`\n",
    "* `{\"0\": 0}` es `True`\n",
    "* `{\"♎\":\"Libra\"}` es `True`\n",
    "  \n",
    "Todos los diccionarios no vacios son `True`\n",
    "\n",
    "Los diccionarios vacíos son `False`\n",
    "\n",
    "***\n",
    "\n",
    "Se puede utilizar un diccionairo como condición\n",
    "\n",
    "Introducir la clave y un valor y verificar si es vacío"
   ]
  },
  {
   "cell_type": "code",
   "execution_count": 11,
   "metadata": {},
   "outputs": [
    {
     "name": "stdout",
     "output_type": "stream",
     "text": [
      "Truthiness Diccionarios\n",
      "{'♈': 'Aries'}\n",
      "El diccionario no está vacío\n",
      "Fin\n"
     ]
    }
   ],
   "source": [
    "print (\"Truthiness Diccionarios\")\n",
    "diccionario = {}\n",
    "clave = input(\"Clave: \")\n",
    "valor = input(\"Valor: \")\n",
    "if clave:\n",
    "  diccionario = {clave:valor}\n",
    "print (diccionario)\n",
    "if diccionario: # diccionario != {}\n",
    "    print (\"El diccionario no está vacío\")\n",
    "else:\n",
    "    print (\"El diccionario está vacío\")\n",
    "print (\"Fin\")"
   ]
  },
  {
   "cell_type": "markdown",
   "metadata": {},
   "source": [
    "***\n",
    "None es un valor especial en Python\n",
    "\n",
    "* `None` es `False`\n",
    "\n",
    "`None` es un valor especial que representa la susencia de un valor\n",
    "\n",
    "***\n",
    "Se puede utilizar `None` como condición\n",
    "\n",
    "Introducir un valor y verificar si es `None`"
   ]
  },
  {
   "cell_type": "code",
   "execution_count": 12,
   "metadata": {},
   "outputs": [
    {
     "name": "stdout",
     "output_type": "stream",
     "text": [
      "Truthiness None\n",
      "None <class 'NoneType'>\n",
      "El valor es None\n",
      "Fin\n"
     ]
    }
   ],
   "source": [
    "print (\"Truthiness None\")\n",
    "valor = None\n",
    "print (valor, type(valor))\n",
    "if valor: # valor != None\n",
    "    print (\"El valor no es None\")\n",
    "else:\n",
    "    print (\"El valor es None\")\n",
    "print (\"Fin\")"
   ]
  },
  {
   "cell_type": "markdown",
   "metadata": {},
   "source": [
    "***\n",
    "Con operadores ternarios es bastante útil para asignar valores a variables"
   ]
  },
  {
   "cell_type": "code",
   "execution_count": 14,
   "metadata": {},
   "outputs": [
    {
     "name": "stdout",
     "output_type": "stream",
     "text": [
      "Igual a 0\n",
      "Igual a 0.0\n",
      "No está vacía\n"
     ]
    }
   ],
   "source": [
    "entero = int(input(\"Entero: \"))\n",
    "resultado = \"Diferente de 0\" if entero else \"Igual a 0\"\n",
    "print (resultado)\n",
    "flotante = float(input(\"Flotante: \"))\n",
    "resultado = \"Diferente de 0.0\" if flotante else \"Igual a 0.0\"\n",
    "print (resultado)\n",
    "cadena = input(\"Cadena: \")\n",
    "resultado = \"No está vacía\" if cadena else \"Está vacía\"\n",
    "print (resultado)"
   ]
  },
  {
   "cell_type": "markdown",
   "metadata": {},
   "source": [
    "***\n",
    "**Ejemplos de usos**\n",
    "\n",
    "***\n",
    "\n",
    "TIenes un dispositivo que mide la temperatura y si la temperatura es mayor a 30°C enciende un ventilador y si es menor a 20°C lo apaga"
   ]
  },
  {
   "cell_type": "code",
   "execution_count": 15,
   "metadata": {},
   "outputs": [
    {
     "name": "stdout",
     "output_type": "stream",
     "text": [
      "Encender ventilador\n"
     ]
    }
   ],
   "source": [
    "temperatura = float(input(\"Temperatura: \"))\n",
    "if temperatura > 30:\n",
    "    print (\"Encender ventilador\")\n",
    "elif temperatura < 20:\n",
    "    print (\"Apagar ventilador\")"
   ]
  },
  {
   "cell_type": "markdown",
   "metadata": {},
   "source": [
    "***\n",
    "Tienes una cesta de frutas y quieres saber si tiene manzanas, si hay manzanas las cuentas y si no hay compras dos manzanas"
   ]
  },
  {
   "cell_type": "code",
   "execution_count": 16,
   "metadata": {},
   "outputs": [
    {
     "name": "stdout",
     "output_type": "stream",
     "text": [
      "['🍎', '🍑', '🍓', '🍉']\n",
      "Hay 1 manzanas\n"
     ]
    }
   ],
   "source": [
    "cesta = ['🍎','🍑','🍓','🍉']\n",
    "print (cesta)\n",
    "if '🍎' in cesta:\n",
    "    print (f\"Hay {cesta.count('🍎')} manzanas\")\n",
    "else:\n",
    "    cesta.extend(['🍎','🍎'])\n",
    "    print (cesta)"
   ]
  },
  {
   "cell_type": "markdown",
   "metadata": {},
   "source": [
    "***\n",
    "Con operador ternario"
   ]
  },
  {
   "cell_type": "code",
   "execution_count": 17,
   "metadata": {},
   "outputs": [
    {
     "name": "stdout",
     "output_type": "stream",
     "text": [
      "['🍑', '🍓', '🍉']\n",
      "None\n",
      "['🍑', '🍓', '🍉', '🍎', '🍎']\n"
     ]
    }
   ],
   "source": [
    "cesta = ['🍑','🍓','🍉']\n",
    "print (cesta)\n",
    "resultado = f\"Hay {cesta.count('🍎')} manzanas\" if '🍎' in cesta else cesta.extend(['🍎','🍎'])\n",
    "print (resultado)\n",
    "print (cesta)"
   ]
  },
  {
   "cell_type": "markdown",
   "metadata": {},
   "source": [
    "***\n",
    "En un diccionario tienes almacenado un animal y quieres saber si es un mamifero\n",
    "\n",
    "```python\n",
    "animal = {'especie':'🐶', 'nombre': 'Firulais', 'mamifero': True}\n",
    "```"
   ]
  },
  {
   "cell_type": "code",
   "execution_count": 18,
   "metadata": {},
   "outputs": [
    {
     "name": "stdout",
     "output_type": "stream",
     "text": [
      "{'especie': '🐶', 'nombre': 'Firulais', 'mamifero': True}\n",
      "Es un mamífero\n"
     ]
    }
   ],
   "source": [
    "animal = {'especie':'🐶', 'nombre': 'Firulais', 'mamifero': True}\n",
    "print (animal)\n",
    "if animal.get('mamifero'): # animal['mamifero']\n",
    "    print (\"Es un mamífero\")\n",
    "else:\n",
    "    print (\"No es un mamífero\")"
   ]
  },
  {
   "cell_type": "markdown",
   "metadata": {},
   "source": [
    "***\n",
    "Dado dos conjuntos, verificar si tienen elementos en común y mostrarlos y si no, unirlos\n",
    "\n",
    "```python\n",
    "{'⚽','🏀','🏐'} , {'🏈','🏉','🏓'}\n",
    "```\n",
    "3 minutos"
   ]
  },
  {
   "cell_type": "code",
   "execution_count": 19,
   "metadata": {},
   "outputs": [
    {
     "name": "stdout",
     "output_type": "stream",
     "text": [
      "{'🏐', '🏀', '⚽'} {'🏓', '🏈', '🏉'}\n",
      "{'🏐', '⚽', '🏓', '🏈', '🏉', '🏀'}\n"
     ]
    }
   ],
   "source": [
    "conjunto_1 = {'⚽','🏀','🏐'}\n",
    "conjunto_2 = {'🏈','🏉','🏓'}\n",
    "print (conjunto_1, conjunto_2)\n",
    "if conjunto_1.isdisjoint(conjunto_2): # len(conjunto_1.intersection(conjunto_2)) == 0\n",
    "    conjunto_1.update(conjunto_2)\n",
    "    print (conjunto_1)\n",
    "else:\n",
    "    print (\"Tienen elementos en común\")\n",
    "    print (conjunto_1.intersection(conjunto_2))"
   ]
  },
  {
   "cell_type": "markdown",
   "metadata": {},
   "source": [
    "***\n",
    "Validar si un correo electronico es valido usando input\n",
    "\n",
    "* ✅: mail@domain.com, ma.il@domain.com\n",
    "* ❌: mail@domain, maildomain.com, @.\n",
    "* ❌: mail@@domain.com, mail@.com\n",
    "\n",
    "5 minutos"
   ]
  },
  {
   "cell_type": "code",
   "execution_count": 20,
   "metadata": {},
   "outputs": [
    {
     "name": "stdout",
     "output_type": "stream",
     "text": [
      "El correo no es válido\n"
     ]
    }
   ],
   "source": [
    "correo = input(\"Correo: \")\n",
    "if \"@\" in correo and \".\" in correo and correo.count(\"@\") == 1:\n",
    "    if correo.find(\"@\") < correo.rfind(\".\") and correo.find(\"@\") > 0 and correo.rfind(\".\") < len(correo) - 1:\n",
    "        if correo.rfind(\".\") - correo.find(\"@\") > 1:\n",
    "            if correo.find(\".\") - correo.find(\"@\") > 1:\n",
    "                print (\"El correo es válido\")\n",
    "            else:\n",
    "                print (\"El correo no es válido\")\n",
    "        else:\n",
    "            print (\"El correo no es válido\")\n",
    "    else:\n",
    "        print (\"El correo no es válido\")\n",
    "else:\n",
    "    print (\"El correo no es válido\")"
   ]
  },
  {
   "cell_type": "markdown",
   "metadata": {},
   "source": [
    "***\n",
    "Solución con elif"
   ]
  },
  {
   "cell_type": "code",
   "execution_count": 21,
   "metadata": {},
   "outputs": [
    {
     "name": "stdout",
     "output_type": "stream",
     "text": [
      "El correo es válido\n"
     ]
    }
   ],
   "source": [
    "correo = input(\"Correo: \")\n",
    "if \"@\" not in correo or \".\" not in correo or correo.count(\"@\") != 1:\n",
    "    print(\"El correo no es válido\")\n",
    "elif correo.find(\"@\") >= correo.rfind(\".\") or correo.find(\"@\") == 0 or correo.rfind(\".\") == len(correo) - 1:\n",
    "    print(\"El correo no es válido\")\n",
    "elif correo.rfind(\".\") - correo.find(\"@\") <= 1:\n",
    "    print(\"El correo no es válido\")\n",
    "elif correo.find(\".\") - correo.find(\"@\") == 1:\n",
    "    print(\"El correo no es válido\")\n",
    "else:\n",
    "    print(\"El correo es válido\")"
   ]
  }
 ],
 "metadata": {
  "kernelspec": {
   "display_name": "Python 3",
   "language": "python",
   "name": "python3"
  },
  "language_info": {
   "codemirror_mode": {
    "name": "ipython",
    "version": 3
   },
   "file_extension": ".py",
   "mimetype": "text/x-python",
   "name": "python",
   "nbconvert_exporter": "python",
   "pygments_lexer": "ipython3",
   "version": "3.12.3"
  }
 },
 "nbformat": 4,
 "nbformat_minor": 2
}
