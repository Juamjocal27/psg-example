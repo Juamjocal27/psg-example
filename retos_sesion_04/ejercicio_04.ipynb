{
 "cells": [
  {
   "cell_type": "markdown",
   "metadata": {},
   "source": [
    "# **Examen especial final del segundo trimestre: Prueba escrita integral cooperativa**\n",
    "\n",
    "**La clase resolvera 100 preguntas en total**"
   ]
  },
  {
   "cell_type": "markdown",
   "metadata": {},
   "source": [
    "**Sumario**\n",
    "\n",
    "- Los alumnos resolveran la cuestiones en un orden determinado.\n",
    "- Cada estudiante puede resolver 5 preguntas como maximo, pero todos tiene que resolver al menos 2 preguntas correctamente.\n",
    "- Independiententemente de si es correcta o incorrecta, la solución de un estudiante no puede ser cambiada por otro estudiante.\n",
    "- Cada estudiante dispondra de un máximo de 10 minutos, incluido el tiempo de entrada y salida de la sala.\n",
    "- Todos los estudiantes excepto aquellos que desafian el examen, deben esperar en una habitación separada.\n",
    "- El siguiente estudiante debe esperar su turno en la puerta.\n",
    "- Si un estudiante supera el limite de tiempo, reprobara y no obtendra puntos.\n",
    "- Dejar una pista escrita o verbal es una violación de las reglas.\n",
    "- Si se encuentra una violación la prueba se cancelara por la fuerza y se otorgara una puntuación de cero.\n",
    "- Se agregara una bonificación especial según el tiempo restante.\n",
    "\n"
   ]
  },
  {
   "cell_type": "code",
   "execution_count": null,
   "metadata": {},
   "outputs": [],
   "source": [
    "print(\"Dejar mas de una hora 10 puntos\")\n",
    "print(\"Dejar mas de 30 minutos 5 puntos\")\n",
    "print(\"Salir mas de 10 minutos 2 puntos\")"
   ]
  },
  {
   "cell_type": "markdown",
   "metadata": {},
   "source": [
    "Todoslos problemas se califican de acuerdo  con la capacidad del solucionador, independientemente de la dificultad.\n",
    "\n",
    "Las habilidades del solucionador se basan en la habilidad ccademica de OAA."
   ]
  },
  {
   "cell_type": "code",
   "execution_count": null,
   "metadata": {},
   "outputs": [],
   "source": [
    "print(\"Capacidad Academica A: 1 punto\")\n",
    "print(\"Capacidad Academica B: 2 punto\")\n",
    "print(\"Capacidad Academica C: 3 punto\")\n",
    "print(\"Capacidad Academica D: 4 punto\")\n",
    "print(\"Capacidad Academica E: 5 punto\")"
   ]
  }
 ],
 "metadata": {
  "language_info": {
   "name": "python"
  }
 },
 "nbformat": 4,
 "nbformat_minor": 2
}
