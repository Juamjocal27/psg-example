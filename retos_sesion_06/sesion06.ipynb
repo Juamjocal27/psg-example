{
  "nbformat": 4,
  "nbformat_minor": 0,
  "metadata": {
    "colab": {
      "provenance": []
    },
    "kernelspec": {
      "name": "python3",
      "display_name": "Python 3"
    },
    "language_info": {
      "name": "python"
    }
  },
  "cells": [
    {
      "cell_type": "markdown",
      "source": [
        "# **Datos Booleanos**\n",
        "\n",
        "Es un tipo de dato que tiene exactamente dos constantes\n",
        "\n",
        "* `False` puede ser considerado como número 0.\n",
        "* `True` puede ser considerado como número 1.\n",
        "\n"
      ],
      "metadata": {
        "id": "iiZ0p06FxnrE"
      }
    },
    {
      "cell_type": "code",
      "execution_count": null,
      "metadata": {
        "colab": {
          "base_uri": "https://localhost:8080/"
        },
        "id": "kkVPjTFOxdkt",
        "outputId": "b0463fba-5458-4ab7-c5a6-7898380bb6b8"
      },
      "outputs": [
        {
          "output_type": "stream",
          "name": "stdout",
          "text": [
            "Tipos de datos booleanos\n",
            "True\n",
            "False\n",
            "2\n",
            "1\n",
            "0\n",
            "0\n",
            "0\n"
          ]
        }
      ],
      "source": [
        "print (\"Tipos de datos booleanos\")\n",
        "print (True)\n",
        "print (False)\n",
        "print (True + True)\n",
        "print (True * True)\n",
        "print (True * False)\n",
        "print (False + False)\n",
        "print (False * False)"
      ]
    },
    {
      "cell_type": "markdown",
      "source": [
        "Al ser una subclase de los enteros se puede realizar operaciones aritmeticas entre números y booleanos."
      ],
      "metadata": {
        "id": "PqPIYmCDznBQ"
      }
    },
    {
      "cell_type": "code",
      "source": [
        "print (\"Números y booleanos\")\n",
        "print (10 + True)\n",
        "print (10 + False)\n",
        "print (10 * True)\n",
        "print (10 * False)"
      ],
      "metadata": {
        "colab": {
          "base_uri": "https://localhost:8080/"
        },
        "id": "dZ1--E7fzywy",
        "outputId": "1443d582-0622-4318-9b18-c45b18d424e4"
      },
      "execution_count": null,
      "outputs": [
        {
          "output_type": "stream",
          "name": "stdout",
          "text": [
            "Números y booleanos\n",
            "11\n",
            "10\n",
            "10\n",
            "0\n"
          ]
        }
      ]
    },
    {
      "cell_type": "markdown",
      "source": [
        "¿Comó declaro un booleano?\n",
        "\n",
        "1. Directamente en el código escribiendo True o False sin necesidad de comillas."
      ],
      "metadata": {
        "id": "MHRGgqcHz27i"
      }
    },
    {
      "cell_type": "code",
      "source": [
        "print (\"Declarar variables booleanas\")\n",
        "var_booleana = True\n",
        "print (var_booleana)\n",
        "print (type(var_booleana))\n",
        "var_booleana = False\n",
        "print (var_booleana)\n",
        "print (type(var_booleana))"
      ],
      "metadata": {
        "colab": {
          "base_uri": "https://localhost:8080/"
        },
        "id": "9aGoni2g0GK4",
        "outputId": "1aa7bb34-8785-40b2-ac57-73b388519b48"
      },
      "execution_count": null,
      "outputs": [
        {
          "output_type": "stream",
          "name": "stdout",
          "text": [
            "Declarar variables booleanas\n",
            "True\n",
            "<class 'bool'>\n",
            "False\n",
            "<class 'bool'>\n"
          ]
        }
      ]
    },
    {
      "cell_type": "markdown",
      "source": [
        "2. mediante la función `bool()`"
      ],
      "metadata": {
        "id": "TxohlLO-0H5S"
      }
    },
    {
      "cell_type": "code",
      "source": [
        "print (\"Declarar mediante función bool()\")\n",
        "var_booleana = bool(1)\n",
        "print (var_booleana)\n",
        "print (type(var_booleana))\n",
        "var_booleana = bool(0)\n",
        "print (var_booleana)\n",
        "print (type(var_booleana))\n",
        "var_booleana = bool(15)\n",
        "print (var_booleana)\n",
        "print (type(var_booleana))"
      ],
      "metadata": {
        "colab": {
          "base_uri": "https://localhost:8080/"
        },
        "id": "xgbFXHi70hD6",
        "outputId": "7b557253-7c07-4a65-fedd-6fa64ca05821"
      },
      "execution_count": null,
      "outputs": [
        {
          "output_type": "stream",
          "name": "stdout",
          "text": [
            "Declarar mediante función bool()\n",
            "True\n",
            "<class 'bool'>\n",
            "False\n",
            "<class 'bool'>\n",
            "True\n",
            "<class 'bool'>\n"
          ]
        }
      ]
    },
    {
      "cell_type": "markdown",
      "source": [
        "3. Como resultado de una operación de comparadores lógicos.\n",
        "\n",
        "**Operadores de comparación**\n",
        "\n",
        "Los operadores de comparación son utilizados para comprarar dos valores como vimos en la \"Sesión  05: Datos numéricos\"\n",
        "\n",
        "Existen operadores para realizar una comparación entre números. se adicionan dos más en total teniendo 8 operadores básicos.\n",
        "\n",
        "|Simbolo|función|\n",
        "|:-:|:-|\n",
        "|<|Estrictamente menor que|\n",
        "|>|Estrictamente mayor que|\n",
        "|<=|Menor o igual que|\n",
        "|>=|Mayor o igual que|\n",
        "|==|Estricamente igual que|\n",
        "|!=|Estrictamente diferente que|\n",
        "|is|Igualdad a nivel de identidad sin son el mismo objeto|\n",
        "|is not|Desigualdad a nivel de identidad si no son el mismo objeto|\n",
        "\n",
        "El resultado de la operación de comparación es un objeto de tipo bool puede ser True o False."
      ],
      "metadata": {
        "id": "Brq83axC18jk"
      }
    },
    {
      "cell_type": "code",
      "source": [
        "print (\"Operadores de comparación\")\n",
        "print (10 == 10)\n",
        "print (10 != 10)\n",
        "print (10 < 10)\n",
        "print (10 > 10)\n",
        "print (10 <= 10)\n",
        "print (10 >= 10)\n",
        "print (10 is 10)\n",
        "print (10 is not 10)"
      ],
      "metadata": {
        "colab": {
          "base_uri": "https://localhost:8080/"
        },
        "id": "SrU64EvA4gSQ",
        "outputId": "472fb02c-5d26-448e-f0a1-3e1925135006"
      },
      "execution_count": null,
      "outputs": [
        {
          "output_type": "stream",
          "name": "stdout",
          "text": [
            "Operadores de comparación\n",
            "True\n",
            "False\n",
            "False\n",
            "False\n",
            "True\n",
            "True\n",
            "True\n",
            "False\n"
          ]
        },
        {
          "output_type": "stream",
          "name": "stderr",
          "text": [
            "<>:8: SyntaxWarning: \"is\" with a literal. Did you mean \"==\"?\n",
            "<>:9: SyntaxWarning: \"is not\" with a literal. Did you mean \"!=\"?\n",
            "<>:8: SyntaxWarning: \"is\" with a literal. Did you mean \"==\"?\n",
            "<>:9: SyntaxWarning: \"is not\" with a literal. Did you mean \"!=\"?\n",
            "<ipython-input-6-533d5266096e>:8: SyntaxWarning: \"is\" with a literal. Did you mean \"==\"?\n",
            "  print (10 is 10)\n",
            "<ipython-input-6-533d5266096e>:9: SyntaxWarning: \"is not\" with a literal. Did you mean \"!=\"?\n",
            "  print (10 is not 10)\n"
          ]
        }
      ]
    },
    {
      "cell_type": "markdown",
      "source": [
        "Los resultados de los comparadores pueden ser asignados a variables y ser utilizados como parte también de expresiones lógicas más complejas."
      ],
      "metadata": {
        "id": "tPqPaXr86Jty"
      }
    },
    {
      "cell_type": "code",
      "source": [
        "print (\"Asignación de variables\")\n",
        "x = 10\n",
        "mayor_que_cero = x > 0\n",
        "print (mayor_que_cero)\n",
        "diferente_de_10 = x != 10\n",
        "print (diferente_de_10)"
      ],
      "metadata": {
        "colab": {
          "base_uri": "https://localhost:8080/"
        },
        "id": "tJ2J7I-K30wd",
        "outputId": "941811f5-3db6-4fd2-e298-1a8997860bc9"
      },
      "execution_count": null,
      "outputs": [
        {
          "output_type": "stream",
          "name": "stdout",
          "text": [
            "Asignación de variables\n",
            "True\n",
            "False\n"
          ]
        }
      ]
    },
    {
      "cell_type": "markdown",
      "source": [
        "**Operadores lógicos**\n",
        "\n",
        "Son operadores especiales que nos permiten realizar cálculos lógicos para agrupar, excluir y negar expresiones.\n",
        "\n",
        "Existen tres expresiones lógicas:\n",
        "\n",
        "> `Not` \"No\", esta expresión es unitaria solo necesita un operador y su objetivo es invertir la expresión.\n",
        "si el operador es True el resultado es False, si el operador es False el resultado es True.\n",
        "\n",
        "> `And` \"Y\", esta expresión necesita dos operadores.\n",
        "Si los dos operadores son Verdadero el resultado es verdadero, si alguno de los operadores es Falso entonces el resultado es Falso.\n",
        "\n",
        "> `Or` \"O\" esta expresión necesita dos operadores.\n",
        "Si al menos uno de los operadores es verdadero el resultado es Verdadero, si los dos operadores son Falsos entonces el resultado es Falso."
      ],
      "metadata": {
        "id": "j1tlUUlR7LOt"
      }
    },
    {
      "cell_type": "code",
      "source": [
        "print (\"Operadores lógicos\")\n",
        "print (True and True)\n",
        "print (True and False)\n",
        "print (False or True)\n",
        "print (False or False)\n",
        "print (not True)\n",
        "print (not False)"
      ],
      "metadata": {
        "colab": {
          "base_uri": "https://localhost:8080/"
        },
        "id": "patBdAcR86KR",
        "outputId": "a025c265-2a95-43aa-c236-e588c6a7f67a"
      },
      "execution_count": null,
      "outputs": [
        {
          "output_type": "stream",
          "name": "stdout",
          "text": [
            "Operadores lógicos\n",
            "True\n",
            "False\n",
            "True\n",
            "False\n",
            "False\n",
            "True\n"
          ]
        }
      ]
    },
    {
      "cell_type": "markdown",
      "source": [
        "Siguen un orden de proridad al momento de ser evaluados.\n",
        "\n",
        "1. Se ejecuta el operador de negación \"not\"\n",
        "2. Se evaluan las operaciones de conjuncion \"and\"\n",
        "3. Finalmente las operaciones de disyunción \"or\"\n",
        "4. Se puede utilizar parentesis para evaluar una operación antes que otra como en los operadores aritmeticos."
      ],
      "metadata": {
        "id": "Lj8-gBIN9jVl"
      }
    },
    {
      "cell_type": "code",
      "source": [
        "print (\"Operadores lógicos y prioridad\")\n",
        "print (False and False or True)\n",
        "print (False and (False or True))\n",
        "print (not True and False or True)\n",
        "print (not (True and False or False))\n",
        "print (not True and (False or False))\n",
        "print (not True and False or False)"
      ],
      "metadata": {
        "colab": {
          "base_uri": "https://localhost:8080/"
        },
        "id": "ca3OaCiG_LNp",
        "outputId": "66caff62-c793-475a-9b68-597115fb5c67"
      },
      "execution_count": null,
      "outputs": [
        {
          "output_type": "stream",
          "name": "stdout",
          "text": [
            "Operadores lógicos y prioridad\n",
            "True\n",
            "False\n",
            "True\n",
            "True\n",
            "False\n",
            "False\n"
          ]
        }
      ]
    },
    {
      "cell_type": "markdown",
      "source": [
        "Funciones lógicas básicas y Tablas de verdad\n",
        "\n",
        "Las tablas de verdad son una herramienteo que nos permite representar la lógica de los circuitos digitales.\n",
        "\n",
        "Sus combinaciones de entrada y salida en términos (1 y 0) o (Verdad y Falso).\n",
        "\n",
        "El tamaño de una tabla de verdad se determina por:\n",
        "`2^n`\n",
        "n: Es la cantidad de variables a procesar en la tabla.\n",
        "\n",
        "![una variable](https://github.com/python-la-paz/python-study-group-fundamentals/blob/main/content/sesion06/img/09.png?raw=true)\n",
        "\n",
        "Tabla de verdad para dos variables\n",
        "\n",
        "![dos variables](https://github.com/python-la-paz/python-study-group-fundamentals/blob/main/content/sesion06/img/10.png?raw=true)\n",
        "\n",
        "Tabla de verdad para tres variables\n",
        "\n",
        "![tres variables](https://github.com/python-la-paz/python-study-group-fundamentals/blob/main/content/sesion06/img/11.png?raw=true)\n",
        "\n",
        "Tabla de verdad para cuatro variables\n",
        "\n",
        "![cuatro variables](https://github.com/python-la-paz/python-study-group-fundamentals/blob/main/content/sesion06/img/12.png?raw=true)\n",
        "\n",
        "\n",
        "\n",
        "\n",
        "\n"
      ],
      "metadata": {
        "id": "jZaMfyOYFORU"
      }
    },
    {
      "cell_type": "markdown",
      "source": [
        "Las tres unidades básicas son:\n",
        "\n",
        "* AND: Producto booleano\n",
        "* OR: Suma booleana\n",
        "* NOT: Negación booleana\n",
        "\n",
        "Se puede representar sus tablas de verdad.\n",
        "\n",
        "Tabla de verdad de \"not\"\n",
        "\n",
        "|A|not A|\n",
        "|:-:|:-:|\n",
        "|V|F|\n",
        "|F|V|\n",
        "\n",
        "Tabla de verdad de \"and\"\n",
        "\n",
        "|A|B|A and B|\n",
        "|:-:|:-:|:-:|\n",
        "|V|V|V|\n",
        "|V|F|F|\n",
        "|F|V|F|\n",
        "|F|F|F|\n",
        "\n",
        "Tabla de verdad de \"or\"\n",
        "\n",
        "|A|B|A or B|\n",
        "|:-:|:-:|:-:|\n",
        "|V|V|V|\n",
        "|V|F|V|\n",
        "|F|V|V|\n",
        "|F|F|F|"
      ],
      "metadata": {
        "id": "kmbyXDrTRZ15"
      }
    },
    {
      "cell_type": "markdown",
      "source": [
        "En Python vimos que los operadores AND, OR, NOT están por defecto como palabras reservadas.\n",
        "\n",
        "El caso de NAND, NOR, XOR, XNOR no existen.\n",
        "\n",
        "Pueden ser construidads fácilmente utilizando los tres operadores fundamentales.\n",
        "\n",
        "AND"
      ],
      "metadata": {
        "id": "i4T4C89aTZ7y"
      }
    },
    {
      "cell_type": "code",
      "source": [
        "print (\"Operador AND\")\n",
        "print (True and True)\n",
        "print (True and False)\n",
        "print (False and True)\n",
        "print (False and False)"
      ],
      "metadata": {
        "colab": {
          "base_uri": "https://localhost:8080/"
        },
        "id": "e3vN42ANTv04",
        "outputId": "37c08f16-bc62-41d7-9695-c9654150115c"
      },
      "execution_count": null,
      "outputs": [
        {
          "output_type": "stream",
          "name": "stdout",
          "text": [
            "Operador AND\n",
            "True\n",
            "False\n",
            "False\n",
            "False\n"
          ]
        }
      ]
    },
    {
      "cell_type": "markdown",
      "source": [
        "**OR**"
      ],
      "metadata": {
        "id": "C59MZsncTxx5"
      }
    },
    {
      "cell_type": "code",
      "source": [
        "print (\"Operador OR\")\n",
        "print (True or True)\n",
        "print (True or False)\n",
        "print (False or True)\n",
        "print (False or False)"
      ],
      "metadata": {
        "colab": {
          "base_uri": "https://localhost:8080/"
        },
        "id": "VLnm-G_eT1Y4",
        "outputId": "0943d795-d426-40da-8b95-450007fd8da7"
      },
      "execution_count": null,
      "outputs": [
        {
          "output_type": "stream",
          "name": "stdout",
          "text": [
            "Operador OR\n",
            "True\n",
            "True\n",
            "True\n",
            "False\n"
          ]
        }
      ]
    },
    {
      "cell_type": "markdown",
      "source": [
        "**NOT**"
      ],
      "metadata": {
        "id": "kosfhgkjXylx"
      }
    },
    {
      "cell_type": "code",
      "source": [
        "print (\"Operador NOT\")\n",
        "print (not True)\n",
        "print (not False)"
      ],
      "metadata": {
        "colab": {
          "base_uri": "https://localhost:8080/"
        },
        "id": "KH59oBauX3T6",
        "outputId": "21810d1a-9038-429b-c093-4fab809261b9"
      },
      "execution_count": null,
      "outputs": [
        {
          "output_type": "stream",
          "name": "stdout",
          "text": [
            "Operador NOT\n",
            "False\n",
            "True\n"
          ]
        }
      ]
    },
    {
      "cell_type": "markdown",
      "source": [
        "**NAND**"
      ],
      "metadata": {
        "id": "qQ1RiwKdX2F7"
      }
    },
    {
      "cell_type": "code",
      "source": [
        "print (\"Operador NAND\")\n",
        "print (not (True and True))\n",
        "print (not (True and False))\n",
        "print (not (False and True))\n",
        "print (not (False and False))"
      ],
      "metadata": {
        "colab": {
          "base_uri": "https://localhost:8080/"
        },
        "id": "yUSqnTvjbSn0",
        "outputId": "2d7daba4-7583-49b4-e71b-c9c8aedacbc2"
      },
      "execution_count": null,
      "outputs": [
        {
          "output_type": "stream",
          "name": "stdout",
          "text": [
            "Operador NAND\n",
            "False\n",
            "True\n",
            "True\n",
            "True\n"
          ]
        }
      ]
    },
    {
      "cell_type": "markdown",
      "source": [
        "**NOR**"
      ],
      "metadata": {
        "id": "bN_Z57s2bY-g"
      }
    },
    {
      "cell_type": "code",
      "source": [
        "print (\"Operador NOR\")\n",
        "print (not (True or True))\n",
        "print (not (True or False))\n",
        "print (not (False or True))\n",
        "print (not (False or False))"
      ],
      "metadata": {
        "colab": {
          "base_uri": "https://localhost:8080/"
        },
        "id": "1SAwWTygcmL5",
        "outputId": "b5d00905-3cc4-4934-87fc-3d7d6e6afd5f"
      },
      "execution_count": null,
      "outputs": [
        {
          "output_type": "stream",
          "name": "stdout",
          "text": [
            "Operador NOR\n",
            "False\n",
            "False\n",
            "False\n",
            "True\n"
          ]
        }
      ]
    },
    {
      "cell_type": "markdown",
      "source": [
        "**XOR**"
      ],
      "metadata": {
        "id": "4Q8dC37Yco0e"
      }
    },
    {
      "cell_type": "code",
      "source": [
        "print (\"Operador XOR\")\n",
        "a = True\n",
        "b = False\n",
        "print ((a or b) and not (a and b))\n",
        "a = True\n",
        "b = True\n",
        "print ((a or b) and not (a and b))"
      ],
      "metadata": {
        "colab": {
          "base_uri": "https://localhost:8080/"
        },
        "id": "hV0u5NDQcsfN",
        "outputId": "b54a771a-6a29-4723-e489-c8b534d5b8df"
      },
      "execution_count": null,
      "outputs": [
        {
          "output_type": "stream",
          "name": "stdout",
          "text": [
            "Operador XOR\n",
            "True\n",
            "False\n"
          ]
        }
      ]
    },
    {
      "cell_type": "markdown",
      "source": [
        "Si un sensor detecta movimiento y tiene bateria entonces enciende la luz"
      ],
      "metadata": {
        "id": "YME1zAlreP43"
      }
    },
    {
      "cell_type": "code",
      "source": [
        "print (\"Ejemplo de uso Sensor y Batería\")\n",
        "sensor = True\n",
        "bateria = True\n",
        "print (sensor, \"and\", bateria, \"=\", sensor and bateria)\n",
        "sensor = True\n",
        "bateria = False\n",
        "print (sensor, \"and\", bateria, \"=\", sensor and bateria)\n",
        "sensor = False\n",
        "bateria = True\n",
        "print (sensor, \"and\", bateria, \"=\", sensor and bateria)\n",
        "sensor = False\n",
        "bateria = False\n",
        "print (sensor, \"and\", bateria, \"=\", sensor and bateria)"
      ],
      "metadata": {
        "colab": {
          "base_uri": "https://localhost:8080/"
        },
        "id": "yVtZ9dgqeWqW",
        "outputId": "c83701a6-f7d6-449d-9e5c-e9d8f8625c7a"
      },
      "execution_count": null,
      "outputs": [
        {
          "output_type": "stream",
          "name": "stdout",
          "text": [
            "Ejemplo de uso Sensor y Batería\n",
            "True and True = True\n",
            "True and False = False\n",
            "False and True = False\n",
            "False and False = False\n"
          ]
        }
      ]
    },
    {
      "cell_type": "markdown",
      "source": [
        "La importancia de estos operadores en el mundo real\n",
        "\n",
        "> Diseño de circuitos lógicos: **AND**, **OR**, **NOT**, **NAND**, **NOR**, **XOR**, **XNOR**, para construir circuitos digitales utilizados en todos los aparatos electrónicos.\n",
        "\n",
        "> Criptografia: **XOR** y **XNOR** para cifrado y descifrado realizando mezcla y enmascaramiento de datos.\n",
        "\n",
        "> Sistemas de control y automatización: **NAND**, **NOR** para diseño de relés en sistemas de automatización industrial.\n",
        "\n",
        "> Diseño de algoritmos: **XOR**, **XNOR** para realizar operaciones a nivel de bits o bitwise (operaciones a nivel binario).\n",
        "\n",
        "> Redes de computadoras: **NAND** y **NOR** se utilizan para la lógica de accesso permitiendo o denegando el acceso de dispositivos a una red.\n",
        "\n",
        "> Combinación de operadores de comparación, lógicos y aritméticos: Podemos combinar operadores de cmparación como lógicos para crear expresiones más complejas."
      ],
      "metadata": {
        "id": "iZrf64WBgssa"
      }
    },
    {
      "cell_type": "markdown",
      "source": [
        "Ejemplo 1\n",
        "\n",
        "Determinar si el número 20 está en el rango de 0 a 100."
      ],
      "metadata": {
        "id": "YARtcYQqjRVJ"
      }
    },
    {
      "cell_type": "code",
      "source": [
        "print(\"Ejemplo 1 - comparación y lógicos\")\n",
        "numero = 20\n",
        "print(numero >= 0 and numero <= 100)"
      ],
      "metadata": {
        "colab": {
          "base_uri": "https://localhost:8080/"
        },
        "id": "_EiX4cQgjoNn",
        "outputId": "a6999a95-64a7-49c1-b124-8b729e12729f"
      },
      "execution_count": null,
      "outputs": [
        {
          "output_type": "stream",
          "name": "stdout",
          "text": [
            "Ejemplo 1 - comparación y lógicos\n",
            "True\n"
          ]
        }
      ]
    },
    {
      "cell_type": "markdown",
      "source": [
        "Ejemplo 2\n",
        "\n",
        "Un estudiante obtuvo las siguientes notas en sus exámenes: 15, 20 , 16 determinar si el estudiante aprobó con una nota superior a 50.\n"
      ],
      "metadata": {
        "id": "u0L2VCOsjZou"
      }
    },
    {
      "cell_type": "code",
      "source": [
        "print(\"Ejemplo 2 - Aritmeticos y comparación\")\n",
        "nota1 = 15\n",
        "nota2 = 20\n",
        "nota3 = 16\n",
        "print((nota1 + nota2 + nota3) > 50)"
      ],
      "metadata": {
        "colab": {
          "base_uri": "https://localhost:8080/"
        },
        "id": "-O_c09-RkRyO",
        "outputId": "ac53a4bd-480c-45f2-8d20-ba6f78b72400"
      },
      "execution_count": null,
      "outputs": [
        {
          "output_type": "stream",
          "name": "stdout",
          "text": [
            "Ejemplo 2 - Aritmeticos y comparación\n",
            "True\n"
          ]
        }
      ]
    },
    {
      "cell_type": "markdown",
      "source": [
        "Ejemplo 3\n",
        "\n",
        "Determinar si el numero 15 es divisible por 3 y 5, pero no por 2\n",
        "\n"
      ],
      "metadata": {
        "id": "v6rA3JrWk3ZS"
      }
    },
    {
      "cell_type": "code",
      "source": [
        "print(\"Ejemplo 3 - Aritmeticos, comparación y logicos\")\n",
        "numero = 15\n",
        "print((numero % 3) == 0 and (numero % 5) == 0 and (numero % 2) != 0)"
      ],
      "metadata": {
        "colab": {
          "base_uri": "https://localhost:8080/"
        },
        "id": "llJprEp0lI8j",
        "outputId": "66c55e65-5028-40af-ed5b-66c1b506d62e"
      },
      "execution_count": null,
      "outputs": [
        {
          "output_type": "stream",
          "name": "stdout",
          "text": [
            "Ejemplo 3 - Aritmeticos, comparación y logicos\n",
            "True\n"
          ]
        }
      ]
    },
    {
      "cell_type": "markdown",
      "source": [
        "**Cortocircuitos**\n",
        "\n",
        "Es un comportamiento de los operadores lógicos \"and\" y \"or\" al momentos de evaluar expresiones booleanas.\n",
        "\n",
        "se basa en la evaluación perezosa\n",
        "\n",
        "> **Cortocircuito con \"and\"**: cuando se evalúa una expresión en la cual el primer término de la expresión es False. No importa el resultado del segundo término la expresión siempre será False. Por lo cúal no evalúa al segundo término por que ya sabe que será False el resultado."
      ],
      "metadata": {
        "id": "HMFztQpipnY5"
      }
    },
    {
      "cell_type": "code",
      "source": [
        "print (\"Cortocircuito con operador and\")\n",
        "x = 1\n",
        "y = 0\n",
        "print (x > 2 and (x/y) > 2)\n",
        "# print (x > 0 and (x/y) > 0)"
      ],
      "metadata": {
        "colab": {
          "base_uri": "https://localhost:8080/"
        },
        "id": "FXMGw1JHqqN1",
        "outputId": "ce0af158-4c5e-4e24-94da-d555a492f0e6"
      },
      "execution_count": 6,
      "outputs": [
        {
          "output_type": "stream",
          "name": "stdout",
          "text": [
            "Cortocircuito con operador and\n",
            "False\n"
          ]
        }
      ]
    },
    {
      "cell_type": "markdown",
      "source": [
        "La primera expresión tiene un cortocircuito porque x no es mayor que 2 por lo que el resultado directo es False y no necesita evaluar la segunda parte.\n",
        "\n",
        "La segunda expresión falla ya que al ser True la primera parte del and necesita de la evaluación de la segunda expresión (x/y) > 0 pero no existe la división sobre 0 por lo que la ejecución termina con un error\n",
        "\n",
        "*Comentemos la segunda expresión para evitar el error.*\n"
      ],
      "metadata": {
        "id": "E9eBDdgXsgT4"
      }
    },
    {
      "cell_type": "markdown",
      "source": [
        "> Cortocircuito con \"or\": Cuando se evalúa una expresión en la cual el primer término de la expresión es True. El resultado siempre será True por lo que Python no evalúa el segundo término. Ya que sabe cuál sera el resultado."
      ],
      "metadata": {
        "id": "yCLOz5h8wsGZ"
      }
    },
    {
      "cell_type": "code",
      "source": [
        "print (\"Cortocircuito con operador or\")\n",
        "x = 1\n",
        "y = 0\n",
        "print (x > 0 or (x/y) > 0)\n",
        "# print (x > 2 or (x/y) > 2)"
      ],
      "metadata": {
        "colab": {
          "base_uri": "https://localhost:8080/"
        },
        "id": "7YZec1LBxDBr",
        "outputId": "d81b81c8-f473-47ff-d1b5-70a02fd2e62f"
      },
      "execution_count": 3,
      "outputs": [
        {
          "output_type": "stream",
          "name": "stdout",
          "text": [
            "Cortocircuito con operador or\n",
            "True\n"
          ]
        }
      ]
    },
    {
      "cell_type": "markdown",
      "source": [
        "La primera expresión tiene un cortocircuito porque x es mayor que 0 por lo que el resultado directo es True y no necesita evaluar la segunda parte.\n",
        "\n",
        "La segunda expresión fall al ser la primera parte False depende del segundo término para el resultado por lo que se evalúa la segunda expresión (x/y) > 2 pero no existe la división sobre 0 por lo que la ejecución termina con un error.\n",
        "\n",
        "*comentemos la segunda expresión para evitar el error*"
      ],
      "metadata": {
        "id": "U2wGHlXy0I25"
      }
    }
  ]
}