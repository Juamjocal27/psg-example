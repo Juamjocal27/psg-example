{
 "cells": [
  {
   "cell_type": "markdown",
   "metadata": {},
   "source": [
    "# **Sentencias iterativas**\n",
    "\n",
    "**Estructura de control**\n",
    "***\n",
    "Es un programa las estructuras de control son el orden en el que se ejecutan las instrucciones\n",
    "\n",
    "Python soporta las siguientes estructuras de control\n",
    "\n",
    "* Secuencial o lineal\n",
    "* Selección o condicionales\n",
    "* Repetición o ciclos\n",
    "***\n",
    "**Secuencial o lineal**\n",
    "Es la ejecución de las instrucciones en el orden en que se escriben\n",
    "\n",
    "```python\n",
    "primero = 1\n",
    "segundo = 2\n",
    "tercero = 3\n",
    "```\n",
    "\n",
    "***\n",
    "El problema con la secuencialidad es que no siempre queremos que las instrucciones se ejecuten en el orden en el que se escriben\n",
    "\n",
    "Para eso existen las estructuras de control de selección y repetición\n",
    "***\n",
    "Hasta el momento hemos visto ejecución secuencial y condicionales\n",
    "***\n",
    "**Repetición o ciclos**\n",
    "\n",
    "Los ciclos son estructuras de control que permiten ejecutar un bloque de código varias veces de manera consecutiva\n",
    "***\n",
    "Permite a los programas ejecutar una secuencia de instrucciones varias veces\n",
    "***\n",
    "En Python existen dos tipos de ciclos\n",
    "\n",
    "* Ciclo `for`\n",
    "* Ciclo `While`\n",
    "***\n",
    "Crearemos un archivo con el nombre sesion13.py\n",
    "Empezaremos a escribir ciclos\n",
    "***\n",
    "**for**\n",
    "El ciclo `for` es un ciclo que se ejecuta un número determinado de veces\n",
    "\n",
    "En el caso de los for se recorre una secuencia de elementos\n",
    "\n",
    "Se puede recorrer un ranfo de números o listas, tuplas, diccionarios, etc.\n",
    "\n",
    "Visualmente\n",
    "\n",
    "![for](https://github.com/python-la-paz/python-study-group-fundamentals/raw/main/content/sesion13/img/FOR-W.gif)\n",
    "\n",
    "***\n",
    "Para utilizar rango de número primero veremos la función `range()`"
   ]
  },
  {
   "cell_type": "code",
   "execution_count": 1,
   "metadata": {},
   "outputs": [
    {
     "data": {
      "text/plain": [
       "range(0, 5)"
      ]
     },
     "execution_count": 1,
     "metadata": {},
     "output_type": "execute_result"
    }
   ],
   "source": [
    "range(5)"
   ]
  },
  {
   "cell_type": "markdown",
   "metadata": {},
   "source": [
    "***\n",
    "Range es una función que genera una secuencia inmutable de numeros\n",
    "```python\n",
    "range(5)\n",
    "\n",
    "0, 1, 2, 3, 4\n",
    "```\n",
    "***\n",
    "**Recibe tres argumentos**\n",
    "\n",
    "* Inicio (por defecto 0 e inclusivo)\n",
    "* Fin (Obligatorio y Exclusivo)\n",
    "* Paso (por defecto 1)\n",
    "\n",
    "```python\n",
    "range(1, 10, 2)\n",
    "\n",
    "1, 3, 5, 7, 9\n",
    "```\n",
    "***\n",
    "Puede haber rango negativos\n",
    "```python\n",
    "range(10, 0, -1)\n",
    "\n",
    "10, 9, 8, 7, 6, 5, 4, 3, 2, 1\n",
    "```\n",
    "Podemos convertir el rango de una lista"
   ]
  },
  {
   "cell_type": "code",
   "execution_count": 6,
   "metadata": {},
   "outputs": [
    {
     "name": "stdout",
     "output_type": "stream",
     "text": [
      "[0, 1, 2, 3, 4]\n"
     ]
    }
   ],
   "source": [
    "print(list(range(5)))\n"
   ]
  },
  {
   "cell_type": "markdown",
   "metadata": {},
   "source": [
    "No es necesario convertirlo a lista para usarlo en un ciclo `for`\n",
    "***\n",
    "Son útiles para iterar sobre una secuencia de números\n",
    "***\n",
    "Como se declara un `for` con `range()`\n",
    "`for` tiene la siguiente estructura\n",
    "```python\n",
    "for variable in range(inicio, fin, paso):\n",
    "    print(variable)\n",
    "```\n",
    "* `for` es la palabra reservada\n",
    "* `variable` es la vaiable que se usara para iterar\n",
    "* `in` es la palabra reservada de pertenencia\n",
    "* `range(inicio, fin, paso)` es la secuencia de números\n",
    "* `:` es el delimitador de inicio del ciclo\n",
    "* `print(variable)` es el codigo a ejecutar posee un nivel de indentación\n",
    "***\n",
    "Cuando iteramos el nombre de la variable puede ser cualquier nombre\n",
    "\n",
    "Es común usar `i` que es la abreviatura de índice o iterador\n",
    "\n",
    "Cuando se itera más de una lista se puede usar `i`, `j`, `k`\n",
    "***\n",
    "Las variables definidas en el ciclo `for` existen dentro del ciclo\n",
    "\n",
    "No se recomienda usarlas fuera del ciclo\n",
    "\n",
    "Es una mala práctica usar la variable del ciclo fuera del ciclo"
   ]
  },
  {
   "cell_type": "code",
   "execution_count": 7,
   "metadata": {},
   "outputs": [
    {
     "name": "stdout",
     "output_type": "stream",
     "text": [
      "0\n",
      "1\n",
      "2\n",
      "3\n",
      "4\n",
      "4\n"
     ]
    }
   ],
   "source": [
    "for i in range(5):\n",
    "    print(i)\n",
    "print(i)"
   ]
  },
  {
   "cell_type": "markdown",
   "metadata": {},
   "source": [
    "*** \n",
    "En Python la estructura de control `for` es la siguiente"
   ]
  },
  {
   "cell_type": "code",
   "execution_count": 8,
   "metadata": {},
   "outputs": [
    {
     "name": "stdout",
     "output_type": "stream",
     "text": [
      "Inicio\n",
      "0\n",
      "1\n",
      "2\n",
      "3\n",
      "4\n",
      "Fin\n"
     ]
    }
   ],
   "source": [
    "print (\"Inicio\")\n",
    "for i in range(5): # rango (0,5,1)\n",
    "    print(i)\n",
    "print (\"Fin\")"
   ]
  },
  {
   "cell_type": "markdown",
   "metadata": {},
   "source": [
    "***\n",
    "Ejemplo 1, sumar los números del 1 al 10 de 2 en 2"
   ]
  },
  {
   "cell_type": "code",
   "execution_count": 9,
   "metadata": {},
   "outputs": [
    {
     "name": "stdout",
     "output_type": "stream",
     "text": [
      "Ejemplo 1\n",
      "25\n"
     ]
    }
   ],
   "source": [
    "print (\"Ejemplo 1\")\n",
    "suma = 0\n",
    "for i in range(1, 11, 2): # 1, 3, 5, 7, 9\n",
    "    suma = suma + i #suma += i\n",
    "print(suma)"
   ]
  },
  {
   "cell_type": "markdown",
   "metadata": {},
   "source": [
    "***\n",
    "Ejemplo 2, crear un árbol de navidad de 6 niveles"
   ]
  },
  {
   "cell_type": "code",
   "execution_count": 10,
   "metadata": {},
   "outputs": [
    {
     "name": "stdout",
     "output_type": "stream",
     "text": [
      "Ejemplo 2\n",
      "     *\n",
      "    ***\n",
      "   *****\n",
      "  *******\n",
      " *********\n",
      "***********\n"
     ]
    }
   ],
   "source": [
    "print (\"Ejemplo 2\")\n",
    "for i in range(0, 6):\n",
    "    print(\" \"*(5-i) + \"*\"*i*2+\"*\")"
   ]
  },
  {
   "cell_type": "markdown",
   "metadata": {},
   "source": [
    "***\n",
    "Ejemplo 3, crar una serie de números cuadrados del 1 al 10"
   ]
  },
  {
   "cell_type": "code",
   "execution_count": 11,
   "metadata": {},
   "outputs": [
    {
     "name": "stdout",
     "output_type": "stream",
     "text": [
      "Ejemplo 3\n",
      "1 4 9 16 25 36 49 64 81 100 "
     ]
    }
   ],
   "source": [
    "print (\"Ejemplo 3\")\n",
    "for i in range(1, 11):\n",
    "    print(i**2, end=\" \")"
   ]
  },
  {
   "cell_type": "markdown",
   "metadata": {},
   "source": [
    "***\n",
    "Ejemplo 4, crar una lista de números pares del 1 al 10"
   ]
  },
  {
   "cell_type": "code",
   "execution_count": 14,
   "metadata": {},
   "outputs": [
    {
     "name": "stdout",
     "output_type": "stream",
     "text": [
      "Ejemplo 4\n",
      "[0, 2, 4, 6, 8, 10]\n"
     ]
    }
   ],
   "source": [
    "print (\"Ejemplo 4\")\n",
    "pares = []\n",
    "for i in range(0, 11, 2):\n",
    "    pares.append(i)\n",
    "print(pares)"
   ]
  },
  {
   "cell_type": "markdown",
   "metadata": {},
   "source": [
    "***\n",
    "Visualmente\n",
    "<iframe width=\"850\" height=\"450\" frameborder=\"0\" src=\"https://pythontutor.com/iframe-embed.html#code=print%20%28%22Ejemplo%204%22%29%0Apares%20%3D%20%5B%5D%0Afor%20i%20in%20range%280,%2011,%202%29%3A%0A%20%20%20%20pares.append%28i%29%0Aprint%28pares%29&codeDivHeight=400&codeDivWidth=350&cumulative=false&curInstr=1&heapPrimitives=nevernest&origin=opt-frontend.js&py=3&rawInputLstJSON=%5B%5D&textReferences=false\"> </iframe> \n",
    "\n",
    "***\n",
    "Ejercio 1, imprimir los 10 números de la serie de números cubicos\n",
    "\n",
    "<iframe src=\"https://time-stuff.com/embed.html\" frameborder=\"0\" scrolling=\"no\" width=\"391\" height=\"140\"></iframe> \n",
    "\n",
    "***"
   ]
  },
  {
   "cell_type": "code",
   "execution_count": 15,
   "metadata": {},
   "outputs": [
    {
     "name": "stdout",
     "output_type": "stream",
     "text": [
      "Ejercicio 1\n",
      "1 8 27 64 125 216 343 512 729 1000 "
     ]
    }
   ],
   "source": [
    "print (\"Ejercicio 1\")\n",
    "for i in range(1, 11):\n",
    "    print(i**3, end=\" \")"
   ]
  },
  {
   "cell_type": "markdown",
   "metadata": {},
   "source": [
    "***\n",
    "Como se declara un `for` con secuencias\n",
    "\n",
    "La estructura de contro `for` también puede iterar sobre secuencias\n",
    "\n",
    "* Listas\n",
    "* Tuplas\n",
    "* Diccionarios\n",
    "* Cadenas de texto\n",
    "***\n",
    "`for` tiene la siguiente estructura\n",
    "\n",
    "```python\n",
    "for variable in secuencia:\n",
    "    print(variable)\n",
    "```\n",
    "* `for` es la palabra reservada\n",
    "* `variable` es el nombre de la variable que se usará para iterar\n",
    "* `in` es la palabra reservada de pertenencia\n",
    "* `secuencia` es la secuencia de elementos\n",
    "* `:` es el delimitador de inicio del ciclo\n",
    "* `print(variable)` es el código a ejecutar posee un nivel de indentación\n",
    "***\n",
    "Cuando se itera sobre una secuencia es común nombrar las variables con nombres que representen el elemento."
   ]
  },
  {
   "cell_type": "code",
   "execution_count": 16,
   "metadata": {},
   "outputs": [
    {
     "name": "stdout",
     "output_type": "stream",
     "text": [
      "🍎\n",
      "🍌\n",
      "🍇\n",
      "🍉\n"
     ]
    }
   ],
   "source": [
    "for fruta in ['🍎','🍌','🍇','🍉']:\n",
    "    print(fruta)"
   ]
  },
  {
   "cell_type": "markdown",
   "metadata": {},
   "source": [
    "***\n",
    "Ejemplo 5, imprimir los elementos de una lista fiestas"
   ]
  },
  {
   "cell_type": "code",
   "execution_count": 17,
   "metadata": {},
   "outputs": [
    {
     "name": "stdout",
     "output_type": "stream",
     "text": [
      "Ejemplo 5\n",
      "🎄\n",
      "🎆\n",
      "🎁\n",
      "🎊\n",
      "✨\n",
      "🧨\n"
     ]
    }
   ],
   "source": [
    "print (\"Ejemplo 5\")\n",
    "fiesta = ['🎄','🎆','🎁','🎊','✨','🧨']\n",
    "for objeto in fiesta:\n",
    "    print(objeto)"
   ]
  },
  {
   "cell_type": "markdown",
   "metadata": {},
   "source": [
    "Al iterar una lista se obtiene los elementos de la lista\n",
    "***\n",
    "Ejemplo 6, imprimir los elementos de una tupla de frutas separados por coma"
   ]
  },
  {
   "cell_type": "code",
   "execution_count": 18,
   "metadata": {},
   "outputs": [
    {
     "name": "stdout",
     "output_type": "stream",
     "text": [
      "Ejemplo 6\n",
      "🍅, 🍇, 🍈, 🍉, 🍊, "
     ]
    }
   ],
   "source": [
    "print (\"Ejemplo 6\")\n",
    "frutas =  ('🍅','🍇','🍈','🍉','🍊')\n",
    "for fruta in frutas:\n",
    "    print(fruta, end=\", \")"
   ]
  },
  {
   "cell_type": "markdown",
   "metadata": {},
   "source": [
    "Al iterar una tupla se obtiene los elementos\n",
    "***\n",
    "Ejemplo 7, imprimir los elementos de un diccionario"
   ]
  },
  {
   "cell_type": "code",
   "execution_count": 19,
   "metadata": {},
   "outputs": [
    {
     "name": "stdout",
     "output_type": "stream",
     "text": [
      "Ejemplo 7\n",
      "🍅 Tomate\n",
      "🍇 Uva\n",
      "🍈 Melón\n",
      "🍉 Sandía\n",
      "🍊 Naranja\n"
     ]
    }
   ],
   "source": [
    "print (\"Ejemplo 7\")\n",
    "frutas = {'🍅':'Tomate','🍇':'Uva','🍈':'Melón','🍉':'Sandía','🍊':'Naranja'}\n",
    "for clave in frutas:\n",
    "    print(clave, frutas[clave])"
   ]
  },
  {
   "cell_type": "markdown",
   "metadata": {},
   "source": [
    "Al iterar un diccionario devuelve las claves\n",
    "***\n",
    "Ejemplo 8, imprimir los elementos del ciclo de vida de un pollo con flechas"
   ]
  },
  {
   "cell_type": "code",
   "execution_count": 20,
   "metadata": {},
   "outputs": [
    {
     "name": "stdout",
     "output_type": "stream",
     "text": [
      "Ejemplo 8\n",
      "🥚->🐣->🐥->🐤->🐔->🍗->"
     ]
    }
   ],
   "source": [
    "print (\"Ejemplo 8\")\n",
    "ciclo_vida = '🥚🐣🐥🐤🐔🍗'\n",
    "for etapa in ciclo_vida:\n",
    "    print(etapa, end=\"->\")"
   ]
  },
  {
   "cell_type": "markdown",
   "metadata": {},
   "source": [
    "***\n",
    "Se puede recorrer elementos con idexación como listas  tuplas de 3 formas\n",
    "\n",
    "* Mediante `in` como pertenencia\n",
    "* Mediante `len()` y `range()`\n",
    "* Mediante `enumerate()`\n",
    "***\n",
    "Mediante `in`\n",
    "\n",
    "Ejemplo 9, listar los elementos de la siguiente serie"
   ]
  },
  {
   "cell_type": "code",
   "execution_count": 21,
   "metadata": {},
   "outputs": [
    {
     "name": "stdout",
     "output_type": "stream",
     "text": [
      "Ejemplo 9\n",
      "🐶\n",
      "🐱\n",
      "🐰\n",
      "🐭\n"
     ]
    }
   ],
   "source": [
    "print (\"Ejemplo 9\")\n",
    "animales = ['🐶','🐱','🐰','🐭']\n",
    "for animal in animales:\n",
    "    print(animal)"
   ]
  },
  {
   "cell_type": "markdown",
   "metadata": {},
   "source": [
    "***\n",
    "Mediante `len()` y `range()`\n",
    "\n",
    "Ejemplo 10, Listar los elementos de la siguiente serie\n",
    "\n",
    "```python\n",
    "['🐶','🐱','🐰','🐭']\n",
    "```"
   ]
  },
  {
   "cell_type": "code",
   "execution_count": 22,
   "metadata": {},
   "outputs": [
    {
     "name": "stdout",
     "output_type": "stream",
     "text": [
      "Ejemplo 10\n",
      "🐶\n",
      "🐱\n",
      "🐰\n",
      "🐭\n"
     ]
    }
   ],
   "source": [
    "print (\"Ejemplo 10\")\n",
    "animales = ['🐶','🐱','🐰','🐭']\n",
    "for i in range(len(animales)):\n",
    "    print(animales[i])"
   ]
  },
  {
   "cell_type": "markdown",
   "metadata": {},
   "source": [
    "***\n",
    "Mediante `enumerate()`\n",
    "\n",
    "Primero veremos la función `enumerate()`\n",
    "\n",
    "Es una función que devuelve un objeto enumerado que contiene pares de índices y valores como tuplas\n",
    "\n",
    "```python\n",
    "enumetate(['🐶','🐱','🐰','🐭'])\n",
    "\n",
    "(0, '🐶'), (1, '🐱'), (2, '🐰'), (3, '🐭')\n",
    "```\n",
    "Nos permite recorrer una secuencia y obtener el índice y el valor en cada iteración\n",
    "\n",
    "***\n",
    "Ejemplo 11, listar los elementos de la siguiente serie\n",
    "\n",
    "```python\n",
    "['🐶','🐱','🐰','🐭']\n",
    "```"
   ]
  },
  {
   "cell_type": "code",
   "execution_count": 24,
   "metadata": {},
   "outputs": [
    {
     "name": "stdout",
     "output_type": "stream",
     "text": [
      "Ejemplo 11\n",
      "0 🐶 🐶\n",
      "1 🐱 🐱\n",
      "2 🐰 🐰\n",
      "3 🐭 🐭\n"
     ]
    }
   ],
   "source": [
    "print (\"Ejemplo 11\")\n",
    "animales = ['🐶','🐱','🐰','🐭']\n",
    "for i, animal in enumerate(animales):\n",
    "    print(i, animal, animales[i])"
   ]
  },
  {
   "cell_type": "markdown",
   "metadata": {},
   "source": [
    "***\n",
    "Ejercicio 2, imprimir la cantidad de veces los elementos de la cadena `⚽🏀🏐🎱` de acuerdo a su posición más 1\n",
    "\n",
    "```python\n",
    "⚽\n",
    "🏀🏀\n",
    "🏐🏐🏐\n",
    "🎱🎱🎱🎱\n",
    "```\n",
    "3 minutos\n",
    "\n",
    "<iframe src=\"https://time-stuff.com/embed.html\" frameborder=\"0\" scrolling=\"no\" width=\"391\" height=\"140\"></iframe> \n",
    "\n",
    "***"
   ]
  },
  {
   "cell_type": "code",
   "execution_count": 25,
   "metadata": {},
   "outputs": [
    {
     "name": "stdout",
     "output_type": "stream",
     "text": [
      "Ejercicio 2\n",
      "⚽\n",
      "🏀🏀\n",
      "🏐🏐🏐\n",
      "🎱🎱🎱🎱\n"
     ]
    }
   ],
   "source": [
    "print (\"Ejercicio 2\")\n",
    "esferas = '⚽🏀🏐🎱'\n",
    "for i, esfera in enumerate(esferas):\n",
    "    print(esfera*(i+1))"
   ]
  },
  {
   "cell_type": "markdown",
   "metadata": {},
   "source": [
    "***\n",
    "**while**\n",
    "\n",
    "EL ciclo `while` es un cclo que se ejecuta mientras una condición sea verdadera\n",
    "\n",
    "Es como un ciclo `for` pero no se sabe cuantas veces se ejecutara\n",
    "\n",
    "Similar a un `if` pero se ejecuta varias veces\n",
    "\n",
    "***\n",
    "Visualmente\n",
    "\n",
    "![while](https://github.com/python-la-paz/python-study-group-fundamentals/raw/main/content/sesion13/img/WHILE-W.gif)\n",
    "\n",
    "***\n",
    "La estructura de control `while` es la siguiente\n",
    "\n",
    "```python\n",
    "while condicion:\n",
    "    print(\"Código que se ejecutara\")\n",
    "```\n",
    "* `while` es la palabra reservada\n",
    "* `condicion` es la expresión que se evaluara tiene que ser `True` o `False`\n",
    "* `:` es el delimitador de inicio del ciclo\n",
    "* `print(\"Código a ejecutar\")` es el código a ejecutar posee un nivel de indentación\n",
    "* `condicion` se evalua en cada iteracion\n",
    "***\n",
    "Ejemplo 12, imprimir los numeros mientras sean menores o igual a 5 empezando desde 0 "
   ]
  },
  {
   "cell_type": "code",
   "execution_count": 26,
   "metadata": {},
   "outputs": [
    {
     "name": "stdout",
     "output_type": "stream",
     "text": [
      "Ejemplo 12\n",
      "0\n",
      "1\n",
      "2\n",
      "3\n",
      "4\n",
      "5\n"
     ]
    }
   ],
   "source": [
    "print (\"Ejemplo 12\")\n",
    "i = 0\n",
    "while i <= 5:\n",
    "    print(i)\n",
    "    i += 1"
   ]
  },
  {
   "cell_type": "markdown",
   "metadata": {},
   "source": [
    "***\n",
    "Ejemplo 13, sumar los números mientras no se ingrese por teclado el número 0\n"
   ]
  },
  {
   "cell_type": "code",
   "execution_count": 33,
   "metadata": {},
   "outputs": [
    {
     "name": "stdout",
     "output_type": "stream",
     "text": [
      "Ejemplo 13\n",
      "10\n"
     ]
    }
   ],
   "source": [
    "print (\"Ejemplo 13\")\n",
    "suma = 0\n",
    "numero = int(input(\"Ingrese un número: \"))\n",
    "while numero != 0:\n",
    "    suma += numero\n",
    "    numero = int(input(\"Ingrese un número: \"))\n",
    "print(suma)"
   ]
  },
  {
   "cell_type": "markdown",
   "metadata": {},
   "source": [
    "***\n",
    "Ejercicio 3, ingresa un número por teclado y genera un contador hasta 0, si el número es negativo no hace nada\n",
    "\n",
    "2 minutos\n",
    "\n",
    "<iframe src=\"https://time-stuff.com/embed.html\" frameborder=\"0\" scrolling=\"no\" width=\"391\" height=\"140\"></iframe> \n",
    "\n",
    "***"
   ]
  },
  {
   "cell_type": "code",
   "execution_count": 35,
   "metadata": {},
   "outputs": [
    {
     "name": "stdout",
     "output_type": "stream",
     "text": [
      "Ejercicio 3\n",
      "5\n",
      "4\n",
      "3\n",
      "2\n",
      "1\n",
      "0\n"
     ]
    }
   ],
   "source": [
    "print (\"Ejercicio 13\")\n",
    "numero = int(input(\"Ingrese un número: \"))\n",
    "while numero >= 0:\n",
    "    print(numero)\n",
    "    numero -= 1"
   ]
  },
  {
   "cell_type": "markdown",
   "metadata": {},
   "source": [
    "***\n",
    "**Break**\n",
    "La sentencia `break` es una palabra reservada que se usa para salir de un ciclo\n",
    "***\n",
    "Termina el ciclo actual y ejecuta la siguiente instrucción después del ciclo\n",
    "\n",
    "Es útil para salir de un ciclo cuando se cumple una condición antes de que termine el ciclo\n",
    "***\n",
    "Ejemplo 14, de la siguiente lista de frutas imprimir los elelmentos hasta qu ese encuentre un gusano `🐛` con `for`"
   ]
  },
  {
   "cell_type": "code",
   "execution_count": 36,
   "metadata": {},
   "outputs": [
    {
     "name": "stdout",
     "output_type": "stream",
     "text": [
      "Ejemplo 14\n",
      "🍎\n",
      "🍌\n",
      "🍇\n",
      "🍉\n",
      "🍊\n",
      "Fin\n"
     ]
    }
   ],
   "source": [
    "frutas = ['🍎','🍌','🍇','🍉','🍊','🐛','🍋','🍍']\n",
    "print (\"Ejemplo 14\")\n",
    "for fruta in frutas:\n",
    "    if fruta == '🐛':\n",
    "        break\n",
    "    print(fruta)\n",
    "print (\"Fin\")"
   ]
  },
  {
   "cell_type": "markdown",
   "metadata": {},
   "source": [
    "***\n",
    "Con `while`"
   ]
  },
  {
   "cell_type": "code",
   "execution_count": 37,
   "metadata": {},
   "outputs": [
    {
     "name": "stdout",
     "output_type": "stream",
     "text": [
      "Ejemplo 14\n",
      "🍎\n",
      "🍌\n",
      "🍇\n",
      "🍉\n",
      "🍊\n",
      "🐛\n",
      "Fin\n"
     ]
    }
   ],
   "source": [
    "frutas = ['🍎','🍌','🍇','🍉','🍊','🐛','🍋','🍍']\n",
    "print (\"Ejemplo 14\")\n",
    "i = \"\"\n",
    "while i != '🐛':\n",
    "    i = frutas.pop(0)\n",
    "    print(i)\n",
    "print (\"Fin\")"
   ]
  },
  {
   "cell_type": "markdown",
   "metadata": {},
   "source": [
    "***\n",
    "**Ciclos infinitos**\n",
    "\n",
    "Un ciclo ininito es un ciclo que no tiene una condición de salida\n",
    "\n",
    "Se ejecuta indefinidamente hasta qu ese detiene manualmente con `Ctrl+C`\n",
    "\n",
    "o mediante un `break`\n",
    "\n",
    "***\n",
    "Se puede usar para ejecutar tareas en segundo plano \n",
    "\n",
    "Un mal uso de un ciclo infinito puede hacer que el programa se bloquee\n",
    "\n",
    "***\n",
    "Ejemplo 15, crear un ciclo infinito que imprima un contador incremental"
   ]
  },
  {
   "cell_type": "code",
   "execution_count": null,
   "metadata": {},
   "outputs": [],
   "source": [
    "print (\"Ejemplo 15\")\n",
    "contador = 0\n",
    "while True:\n",
    "    print(contador)\n",
    "    contador += 1"
   ]
  },
  {
   "cell_type": "markdown",
   "metadata": {},
   "source": [
    "***\n",
    "Ejemplo 16, crear un ciclo infinito que pida una cadena de texto la ponga en mayúscula y la imprima hasta que se ingrese la palabra `salir`"
   ]
  },
  {
   "cell_type": "code",
   "execution_count": 2,
   "metadata": {},
   "outputs": [
    {
     "name": "stdout",
     "output_type": "stream",
     "text": [
      "Ejemplo 16\n",
      "PYTHON\n",
      "LA PAZ\n",
      "Fin\n"
     ]
    }
   ],
   "source": [
    "print (\"Ejemplo 16\")\n",
    "while True:\n",
    "    texto = input(\"Ingrese un texto: \")\n",
    "    if texto == 'salir':\n",
    "        break\n",
    "    print(texto.upper())\n",
    "print (\"Fin\")"
   ]
  },
  {
   "cell_type": "markdown",
   "metadata": {},
   "source": [
    "*** \n",
    "Ejercicio 4, crear un ciclo infinito que reciba un número por teclado y verifique si es par o impar hasta que se ingrese el número 0\n",
    "\n",
    "3 minutos \n",
    "\n",
    "<iframe src=\"https://time-stuff.com/embed.html\" frameborder=\"0\" scrolling=\"no\" width=\"391\" height=\"140\"></iframe> "
   ]
  },
  {
   "cell_type": "code",
   "execution_count": 3,
   "metadata": {},
   "outputs": [
    {
     "name": "stdout",
     "output_type": "stream",
     "text": [
      "Ejercicio 4\n",
      "Impar\n",
      "Par\n"
     ]
    }
   ],
   "source": [
    "print (\"Ejercicio 4\")\n",
    "while True:\n",
    "    numero = int(input(\"Ingrese un número: \"))\n",
    "    if numero == 0:\n",
    "        break\n",
    "    print (\"Par\" if numero % 2 == 0 else \"Impar\")"
   ]
  },
  {
   "cell_type": "markdown",
   "metadata": {},
   "source": [
    "***\n",
    "**Estructuras por comprensión**\n",
    "\n",
    "Las estructuras por comprensión son una forma de crear estructuras de manera concisa utilizando una sola línea de código\n",
    "\n",
    "Utiliza la estructura de un ciclo `for` y se puede agregar condicionales\n",
    "\n",
    "Se puede crear listas, tuplas, diccionarios y conjuntos\n",
    "***\n",
    "Estructura de una lista por comprensión\n",
    "\n",
    "```python\n",
    "[expresion for variable in secuencia]\n",
    "```\n",
    "* `expresion` es la expresion que se evaluará\n",
    "* `for` es la palabra reservada\n",
    "* `variable` es el nombre de la variable que se usará para iterar\n",
    "* `in` es la palabra reservada de pertenencia\n",
    "* `secuencia` es la secuencia de elementos\n",
    "* `[]` son los delimitadores de la lista\n",
    "***\n",
    "Estructura de una lista por comprensión y condicional\n",
    "\n",
    "```python\n",
    "[expresion for variable in secuencia if condicion]\n",
    "```\n",
    "* `expresion` es la expresion que se evaluara\n",
    "* `for` es la palabra reservada\n",
    "* `variable` es el nombre de la variable que se usará para iterar\n",
    "* `in` es la palabra reservada de pertenencia\n",
    "* `secuencia` es la secuencia de elementos\n",
    "* `if` es la palabra reservada de condición\n",
    "* `condicion` es la expresión que se evaluará\n",
    "* `[]` son los delimitadores de la lista\n",
    "***\n",
    "Ejemplo 17, crear una lista de los números pares del 2 al 10"
   ]
  },
  {
   "cell_type": "code",
   "execution_count": 4,
   "metadata": {},
   "outputs": [
    {
     "name": "stdout",
     "output_type": "stream",
     "text": [
      "Ejemplo 17\n",
      "[2, 4, 6, 8, 10]\n"
     ]
    }
   ],
   "source": [
    "print (\"Ejemplo 17\")\n",
    "pares = [i for i in range(2, 11, 2)]\n",
    "print(pares)"
   ]
  },
  {
   "cell_type": "markdown",
   "metadata": {},
   "source": [
    "***\n",
    "Ejemplo 18, crear una lisata de los números pares del 2 al 10 con condicional"
   ]
  },
  {
   "cell_type": "code",
   "execution_count": 5,
   "metadata": {},
   "outputs": [
    {
     "name": "stdout",
     "output_type": "stream",
     "text": [
      "Ejemplo 18\n",
      "[2, 4, 6, 8, 10]\n"
     ]
    }
   ],
   "source": [
    "print (\"Ejemplo 18\")\n",
    "pares = [i for i in range(2, 11) if i % 2 == 0]\n",
    "print(pares)"
   ]
  },
  {
   "cell_type": "markdown",
   "metadata": {},
   "source": [
    "***\n",
    "Ejemplo 19, crear un diccionario números 2 al 10 donde si es par vale \"Par\" y si es impar valga \"Impar\""
   ]
  },
  {
   "cell_type": "code",
   "execution_count": 6,
   "metadata": {},
   "outputs": [
    {
     "name": "stdout",
     "output_type": "stream",
     "text": [
      "Ejemplo 19\n",
      "{2: 'Par', 3: 'Impar', 4: 'Par', 5: 'Impar', 6: 'Par', 7: 'Impar', 8: 'Par', 9: 'Impar', 10: 'Par'}\n"
     ]
    }
   ],
   "source": [
    "print (\"Ejemplo 19\")\n",
    "pares = {i: \"Par\" if i % 2 == 0 else \"Impar\" for i in range(2, 11)}\n",
    "print(pares)"
   ]
  },
  {
   "cell_type": "markdown",
   "metadata": {},
   "source": [
    "***\n",
    "Ejercicio 5, crear una tupla de los número simpares del 1 al 10 usando una tupla por comprensión\n",
    "\n",
    "2 minutos\n",
    "\n",
    "<iframe src=\"https://time-stuff.com/embed.html\" frameborder=\"0\" scrolling=\"no\" width=\"391\" height=\"140\"></iframe> \n",
    "***"
   ]
  },
  {
   "cell_type": "code",
   "execution_count": 7,
   "metadata": {},
   "outputs": [
    {
     "name": "stdout",
     "output_type": "stream",
     "text": [
      "Ejercicio 5\n",
      "(1, 3, 5, 7, 9)\n"
     ]
    }
   ],
   "source": [
    "print (\"Ejercicio 5\")\n",
    "impares = tuple(i for i in range(1, 11) if i % 2 != 0)\n",
    "print(impares)"
   ]
  },
  {
   "cell_type": "markdown",
   "metadata": {},
   "source": [
    "***\n",
    "**Ciclos anidados**\n",
    "\n",
    "Son ciclos dentro de otros ciclos\n",
    "\n",
    "Se pueden anidar ciclos `for` y `while`\n",
    "\n",
    "***\n",
    "Visualmente\n",
    "\n",
    "![ciclo anidado](https://github.com/python-la-paz/python-study-group-fundamentals/raw/main/content/sesion13/img/ANIDADO-W.gif)\n",
    "\n",
    "***\n",
    "Ejemplo 20, imprimir las tablas de multiplicar del 1 y 2"
   ]
  },
  {
   "cell_type": "code",
   "execution_count": 8,
   "metadata": {},
   "outputs": [
    {
     "name": "stdout",
     "output_type": "stream",
     "text": [
      "Ejemplo 20\n",
      "Tabla del 1\n",
      "1 x 1 = 1\n",
      "1 x 2 = 2\n",
      "1 x 3 = 3\n",
      "1 x 4 = 4\n",
      "1 x 5 = 5\n",
      "1 x 6 = 6\n",
      "1 x 7 = 7\n",
      "1 x 8 = 8\n",
      "1 x 9 = 9\n",
      "1 x 10 = 10\n",
      "Tabla del 2\n",
      "2 x 1 = 2\n",
      "2 x 2 = 4\n",
      "2 x 3 = 6\n",
      "2 x 4 = 8\n",
      "2 x 5 = 10\n",
      "2 x 6 = 12\n",
      "2 x 7 = 14\n",
      "2 x 8 = 16\n",
      "2 x 9 = 18\n",
      "2 x 10 = 20\n"
     ]
    }
   ],
   "source": [
    "print (\"Ejemplo 20\")\n",
    "for i in range(1, 3):\n",
    "    print(f\"Tabla del {i}\")\n",
    "    for j in range(1, 11):\n",
    "        print(f\"{i} x {j} = {i*j}\")"
   ]
  },
  {
   "cell_type": "markdown",
   "metadata": {},
   "source": [
    "***\n",
    "Ejemplo 21, infroducir un número por teclado y crear una tabla de multiplicar de ese número del 1 al 10, si se ingresa 0 termina el programa"
   ]
  },
  {
   "cell_type": "code",
   "execution_count": 10,
   "metadata": {},
   "outputs": [
    {
     "name": "stdout",
     "output_type": "stream",
     "text": [
      "Ejemplo 21\n",
      "Tabla del 5\n",
      "5 x 1 = 5\n",
      "5 x 2 = 10\n",
      "5 x 3 = 15\n",
      "5 x 4 = 20\n",
      "5 x 5 = 25\n",
      "5 x 6 = 30\n",
      "5 x 7 = 35\n",
      "5 x 8 = 40\n",
      "5 x 9 = 45\n",
      "5 x 10 = 50\n",
      "Fin\n"
     ]
    }
   ],
   "source": [
    "print (\"Ejemplo 21\")\n",
    "while True:\n",
    "    numero = int(input(\"Ingrese un número: \"))\n",
    "    if numero == 0:\n",
    "        break\n",
    "    print(f\"Tabla del {numero}\")\n",
    "    for i in range(1, 11):\n",
    "        print(f\"{numero} x {i} = {numero*i}\")\n",
    "print (\"Fin\")"
   ]
  },
  {
   "cell_type": "markdown",
   "metadata": {},
   "source": [
    "***\n",
    "Una matriz es una lista de listas que se puede recorrer con ciclos anidados\n",
    "\n",
    "Las matrices nos sirven para representar datos en dos dimensiones\n",
    "\n",
    "Son útiles para representar tablas, imagenes, mapas, etc\n",
    "***"
   ]
  },
  {
   "cell_type": "code",
   "execution_count": 11,
   "metadata": {},
   "outputs": [
    {
     "name": "stdout",
     "output_type": "stream",
     "text": [
      "1 2 3 \n",
      "4 5 6 \n",
      "7 8 9 \n"
     ]
    }
   ],
   "source": [
    "matriz = [[1, 2, 3], [4, 5, 6], [7, 8, 9]]\n",
    "for fila in matriz:\n",
    "    for columna in fila:\n",
    "        print(columna, end=\" \")\n",
    "    print()"
   ]
  },
  {
   "cell_type": "markdown",
   "metadata": {},
   "source": [
    "***\n",
    "Ejemplo 22, introducir un número por teclado y crear una matriz nxn con la letra X"
   ]
  },
  {
   "cell_type": "code",
   "execution_count": 13,
   "metadata": {},
   "outputs": [
    {
     "name": "stdout",
     "output_type": "stream",
     "text": [
      "Ejemplo 22\n",
      "X X X X X \n",
      "X X X X X \n",
      "X X X X X \n",
      "X X X X X \n",
      "X X X X X \n",
      "[['X', 'X', 'X', 'X', 'X'], ['X', 'X', 'X', 'X', 'X'], ['X', 'X', 'X', 'X', 'X'], ['X', 'X', 'X', 'X', 'X'], ['X', 'X', 'X', 'X', 'X']]\n"
     ]
    }
   ],
   "source": [
    "print (\"Ejemplo 22\")\n",
    "n = int(input(\"Ingrese un número: \"))\n",
    "matriz = [['X' for i in range(n)] for j in range(n)]\n",
    "for fila in matriz:\n",
    "    for columna in fila:\n",
    "        print(columna, end=\" \")\n",
    "    print()\n",
    "print (matriz)"
   ]
  },
  {
   "cell_type": "markdown",
   "metadata": {},
   "source": [
    "***\n",
    "Ejercicio 6, crear una matriz ingresando un número por teclado para el tamaño de la matriz y en cada posición colocar una tupla con (i, j)\n",
    "\n",
    "4 minutos\n",
    "\n",
    "<iframe src=\"https://time-stuff.com/embed.html\" frameborder=\"0\" scrolling=\"no\" width=\"391\" height=\"140\"></iframe> \n",
    "\n",
    "***"
   ]
  },
  {
   "cell_type": "code",
   "execution_count": 14,
   "metadata": {},
   "outputs": [
    {
     "name": "stdout",
     "output_type": "stream",
     "text": [
      "Ejercicio 6\n",
      "(0, 0) (0, 1) (0, 2) (0, 3) \n",
      "(1, 0) (1, 1) (1, 2) (1, 3) \n",
      "(2, 0) (2, 1) (2, 2) (2, 3) \n",
      "(3, 0) (3, 1) (3, 2) (3, 3) \n",
      "[[(0, 0), (0, 1), (0, 2), (0, 3)], [(1, 0), (1, 1), (1, 2), (1, 3)], [(2, 0), (2, 1), (2, 2), (2, 3)], [(3, 0), (3, 1), (3, 2), (3, 3)]]\n"
     ]
    }
   ],
   "source": [
    "print (\"Ejercicio 6\")\n",
    "n = int(input(\"Ingrese un número: \"))\n",
    "matriz = [[(j, i) for i in range(n)] for j in range(n)]\n",
    "for fila in matriz:\n",
    "    for columna in fila:\n",
    "        print(columna, end=\" \")\n",
    "    print()\n",
    "print (matriz)"
   ]
  },
  {
   "cell_type": "markdown",
   "metadata": {},
   "source": [
    "***\n",
    "**Resumen de Sentencias iterativas**\n",
    "\n",
    "* Las estructuras de control permiten tomar decisiones o repetir instrucciones\n",
    "* Las sentencias iterativas son ciclos que permiten repetir instrucciones\n",
    "* Los ciclos `for` se utilizan para recorrer secuencias\n",
    "* Los ciclos `while` se utilizan para repetir instrucciones mientras una condición sea verdadera\n",
    "***\n",
    "* La sentencia `break` se utiliza para salir de un ciclo\n",
    "* `range()` se utliza para generar una secuencia de números\n",
    "* Se puede recorrer mediante rangos o secuencias\n",
    "* Las listas por comprensión son una forma de crear listas de manera concisa\n",
    "***\n",
    "* `enumetate()` se utiliza para obtener el índice y el valor de una secuencia\n",
    "* `enumerate()` devuelve un objeto enumerado que contiene pares de índices y valores como tuplas\n",
    "***\n",
    "* Los ciclos anidados son ciclos dentro de otros ciclos\n",
    "* Las matrices son listas de lista que se pueden recorrer on ciclos anidados\n",
    "* Los ciclos infinitos son ciclos que no tienen una condición de salida\n",
    "* Los ciclos infinitos se pueden detener con `break` o `Ctrl+C`\n",
    "***\n",
    "* Las variables definidas en un ciclo existen dentro del ciclo\n",
    "* No se recomienda usar las variables del ciclo fuera del ciclo\n",
    "***\n",
    "![ciclo for](https://github.com/python-la-paz/python-study-group-fundamentals/raw/main/content/sesion13/img/FOR-W.gif)\n",
    "\n",
    "![ciclo while](https://github.com/python-la-paz/python-study-group-fundamentals/raw/main/content/sesion13/img/WHILE-W.gif)\n",
    "\n",
    "![ciclo anidado](https://github.com/python-la-paz/python-study-group-fundamentals/raw/main/content/sesion13/img/ANIDADO-W.gif)"
   ]
  }
 ],
 "metadata": {
  "kernelspec": {
   "display_name": "Python 3",
   "language": "python",
   "name": "python3"
  },
  "language_info": {
   "codemirror_mode": {
    "name": "ipython",
    "version": 3
   },
   "file_extension": ".py",
   "mimetype": "text/x-python",
   "name": "python",
   "nbconvert_exporter": "python",
   "pygments_lexer": "ipython3",
   "version": "3.12.3"
  }
 },
 "nbformat": 4,
 "nbformat_minor": 2
}
