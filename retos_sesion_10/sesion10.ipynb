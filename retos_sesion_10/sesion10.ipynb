{
 "cells": [
  {
   "cell_type": "markdown",
   "metadata": {},
   "source": [
    "# **Conjuntos**\n",
    "\n",
    "## **Estructura de datos**\n",
    "\n",
    "Una estructura de datos es una forma de organizar y almacenar datos\n",
    "\n",
    "De manera eficiente para su uso y manipulación\n",
    "\n",
    "Las más comunes son tuplas, listas, conjuntos y diccionario\n",
    "***\n",
    "|**Estructura**|Caracteristicas|Ejemplo|\n",
    "|:-|:-|:-:|\n",
    "|Tupla|Inmutable, ordenada, indexada|(1,2,3)|\n",
    "|Lista|Mutable, ordenada, indexada|[1,2,3]\n",
    "|Conjunto|Mutable, no ordenada, no indexada|{1,2,3}|\n",
    "|Diccionario|Mutable, ordenado, indexado|{'a':1,'b':2,'c':3}|\n",
    "***\n",
    "**¿Qué es un conjunto?**\n",
    "Un conjunto es una estructura de datos, al igual que una lista o una tupla\n",
    "\n",
    "Al igual que las listas almacena objetos o items que puede ser de a cualquier tipo\n",
    "***\n",
    "Se llaman conjuntos porque en matemáticas un conjunto es una colección de elementos únicos sin orden definido\n",
    "\n",
    "Python adopta la misma definición de conjunto de matemáticas\n",
    "***\n",
    "Un conjunto es una secuencia de objetos **MUTABLES**\n",
    "\n",
    "* **NO ordenados**\n",
    "* **NO indexados**\n",
    "* **NO duplicados**\n",
    "***\n",
    "**Mutable:** Los elementos de un conjunto pueden se modificados después de creación\n"
   ]
  },
  {
   "cell_type": "code",
   "execution_count": 1,
   "metadata": {},
   "outputs": [
    {
     "name": "stdout",
     "output_type": "stream",
     "text": [
      "{'🍔', '🍟', '🍕', '🌭'}\n",
      "{'🍔', '🌭', '🍕', '🥗', '🍟'}\n"
     ]
    }
   ],
   "source": [
    "conjunto = {'🍕','🍔','🍟','🌭'}\n",
    "print(conjunto) # {'🍔', '🌭', '🍕', '🍟'}\n",
    "conjunto.add('🥗')\n",
    "print(conjunto)  # {'🍔', '🍕', '🥗', '🍟', '🌭'}"
   ]
  },
  {
   "cell_type": "markdown",
   "metadata": {},
   "source": [
    "***\n",
    "**NO ordenados:** Los elementos de un conjunto no tienen un orden especifico"
   ]
  },
  {
   "cell_type": "code",
   "execution_count": 2,
   "metadata": {},
   "outputs": [
    {
     "name": "stdout",
     "output_type": "stream",
     "text": [
      "{'🍔', '🍟', '🍕', '🌭'}\n"
     ]
    }
   ],
   "source": [
    "conjunto = {'🍕','🍔','🍟','🌭'}\n",
    "print(conjunto) # {'🍔', '🌭', '🍕', '🍟'}"
   ]
  },
  {
   "cell_type": "markdown",
   "metadata": {},
   "source": [
    "***\n",
    "**NO indexados:** Los elementos de un conjunto no pueden ser accedidos por índice"
   ]
  },
  {
   "cell_type": "code",
   "execution_count": 3,
   "metadata": {},
   "outputs": [
    {
     "ename": "TypeError",
     "evalue": "'set' object is not subscriptable",
     "output_type": "error",
     "traceback": [
      "\u001b[1;31m---------------------------------------------------------------------------\u001b[0m",
      "\u001b[1;31mTypeError\u001b[0m                                 Traceback (most recent call last)",
      "Cell \u001b[1;32mIn[3], line 2\u001b[0m\n\u001b[0;32m      1\u001b[0m conjunto \u001b[38;5;241m=\u001b[39m {\u001b[38;5;124m'\u001b[39m\u001b[38;5;124m🍕\u001b[39m\u001b[38;5;124m'\u001b[39m,\u001b[38;5;124m'\u001b[39m\u001b[38;5;124m🍔\u001b[39m\u001b[38;5;124m'\u001b[39m,\u001b[38;5;124m'\u001b[39m\u001b[38;5;124m🍟\u001b[39m\u001b[38;5;124m'\u001b[39m,\u001b[38;5;124m'\u001b[39m\u001b[38;5;124m🌭\u001b[39m\u001b[38;5;124m'\u001b[39m}\n\u001b[1;32m----> 2\u001b[0m \u001b[38;5;28mprint\u001b[39m(\u001b[43mconjunto\u001b[49m\u001b[43m[\u001b[49m\u001b[38;5;241;43m0\u001b[39;49m\u001b[43m]\u001b[49m) \u001b[38;5;66;03m# TypeError: 'set' object is not subscriptable\u001b[39;00m\n",
      "\u001b[1;31mTypeError\u001b[0m: 'set' object is not subscriptable"
     ]
    }
   ],
   "source": [
    "conjunto = {'🍕','🍔','🍟','🌭'}\n",
    "print(conjunto[0]) # TypeError: 'set' object is not subscriptable"
   ]
  },
  {
   "cell_type": "markdown",
   "metadata": {},
   "source": [
    "***\n",
    "**NO duplicados:** Los elementos de un conjunto no pueden ser duplicados"
   ]
  },
  {
   "cell_type": "code",
   "execution_count": 4,
   "metadata": {},
   "outputs": [
    {
     "name": "stdout",
     "output_type": "stream",
     "text": [
      "{'🍔', '🍟', '🍕', '🌭'}\n"
     ]
    }
   ],
   "source": [
    "conjunto = {'🍕','🍔','🍟','🌭','🍕','🍟'}\n",
    "print(conjunto) # {'🍕', '🍟', '🌭', '🍔'}"
   ]
  },
  {
   "cell_type": "markdown",
   "metadata": {},
   "source": [
    "***\n",
    "Uso de los conjuntos\n",
    "\n",
    "* Análisis de texto eliminando palabras repetidas\n",
    "* Gestión de inventarios\n",
    "* Control de usuarios\n",
    "* Control de permisos\n",
    "***\n",
    "**¿Cómo declarar un conjunto?**\n",
    "\n",
    "En Python se declara un conjunto utilizando llaves `{}` y separando los elementos con comas `,`\n",
    "\n",
    "```mi_conjunto = {elemento1, elemento2, elemento3, ....}```\n",
    "\n",
    "* mi_conjunto: es el nombre del conjunto\n",
    "* elemento1, elemento2, elemento3. Son los elementos del conjunto\n",
    "***\n",
    "También se puede declarar un conjunto utilizando la función `set()` y declarar conjuntos utilizando conjuntos por comprensión\n",
    "***\n",
    "Crearemos un archivo con el nombre sesion10.py y empezaremos a crear conjuntos\n",
    "***\n",
    "Conjunto de enteros"
   ]
  },
  {
   "cell_type": "code",
   "execution_count": 5,
   "metadata": {},
   "outputs": [
    {
     "name": "stdout",
     "output_type": "stream",
     "text": [
      "Conjunto de enteros\n",
      "{1, 2, 3, 4, 5}\n",
      "<class 'set'>\n"
     ]
    }
   ],
   "source": [
    "print (\"Conjunto de enteros\")\n",
    "conjunto = {1, 2, 3, 4, 5}\n",
    "print(conjunto) \n",
    "print(type(conjunto))"
   ]
  },
  {
   "cell_type": "markdown",
   "metadata": {},
   "source": [
    "***\n",
    "**Conjunto de cadenas**"
   ]
  },
  {
   "cell_type": "code",
   "execution_count": 6,
   "metadata": {},
   "outputs": [
    {
     "name": "stdout",
     "output_type": "stream",
     "text": [
      "Conjunto de cadenas\n",
      "{'🍔', '🍟', '🍕', '🌭'}\n",
      "<class 'set'>\n"
     ]
    }
   ],
   "source": [
    "print (\"Conjunto de cadenas\")\n",
    "conjunto = {'🍕','🍔','🍟','🌭'}\n",
    "print(conjunto)\n",
    "print(type(conjunto))"
   ]
  },
  {
   "cell_type": "markdown",
   "metadata": {},
   "source": [
    "***\n",
    "Conjunto mixto"
   ]
  },
  {
   "cell_type": "code",
   "execution_count": 7,
   "metadata": {},
   "outputs": [
    {
     "name": "stdout",
     "output_type": "stream",
     "text": [
      "Conjunto mixto\n",
      "{1, 3.14, '☕'}\n",
      "<class 'set'>\n"
     ]
    }
   ],
   "source": [
    "print (\"Conjunto mixto\")\n",
    "conjunto = {1, True, 3.14, '☕'}\n",
    "print(conjunto)\n",
    "print(type(conjunto))"
   ]
  },
  {
   "cell_type": "markdown",
   "metadata": {},
   "source": [
    "***\n",
    "Se utiliza la función `set()` para crear conjuntos vacíos o a partir de una secuencia\n",
    "\n",
    "Permite convertir secuencias como listas, tuplas, cadenas en conjuntos\n",
    "***"
   ]
  },
  {
   "cell_type": "markdown",
   "metadata": {},
   "source": [
    "Conjunto vacío"
   ]
  },
  {
   "cell_type": "code",
   "execution_count": 8,
   "metadata": {},
   "outputs": [
    {
     "name": "stdout",
     "output_type": "stream",
     "text": [
      "Conjunto vacío\n",
      "set()\n",
      "<class 'set'>\n"
     ]
    }
   ],
   "source": [
    "print (\"Conjunto vacío\")\n",
    "conjunto = set()\n",
    "print(conjunto)\n",
    "print(type(conjunto))"
   ]
  },
  {
   "cell_type": "markdown",
   "metadata": {},
   "source": [
    "***\n",
    "Conjunto a partir de la cadena"
   ]
  },
  {
   "cell_type": "code",
   "execution_count": 9,
   "metadata": {},
   "outputs": [
    {
     "name": "stdout",
     "output_type": "stream",
     "text": [
      "Conjunto a partir de la cadena\n",
      "{' ', 'd', 'a', 'n', 'M', 'o', 'l', 'u', 'H'}\n",
      "<class 'set'>\n"
     ]
    }
   ],
   "source": [
    "print (\"Conjunto a partir de la cadena\")\n",
    "cadena = 'Hola Mundo'\n",
    "conjunto = set(cadena)\n",
    "print(conjunto)\n",
    "print(type(conjunto))"
   ]
  },
  {
   "cell_type": "markdown",
   "metadata": {},
   "source": [
    "***\n",
    "Conjunto a partir de una tupla"
   ]
  },
  {
   "cell_type": "code",
   "execution_count": 10,
   "metadata": {},
   "outputs": [
    {
     "name": "stdout",
     "output_type": "stream",
     "text": [
      "Conjunto a partir de una tupla\n",
      "{1, 2, 3, 4, 5}\n",
      "<class 'set'>\n"
     ]
    }
   ],
   "source": [
    "print (\"Conjunto a partir de una tupla\")\n",
    "tupla = (1, 2, 3, 4, 5, 5)\n",
    "conjunto = set(tupla)\n",
    "print(conjunto)\n",
    "print(type(conjunto))"
   ]
  },
  {
   "cell_type": "markdown",
   "metadata": {},
   "source": [
    "***\n",
    "**Conjunto a partir de una lista**"
   ]
  },
  {
   "cell_type": "code",
   "execution_count": 11,
   "metadata": {},
   "outputs": [
    {
     "name": "stdout",
     "output_type": "stream",
     "text": [
      "Conjunto a partir de una lista\n",
      "{False, True}\n",
      "<class 'set'>\n"
     ]
    }
   ],
   "source": [
    "print (\"Conjunto a partir de una lista\")\n",
    "lista = [True, False, 0, 1]\n",
    "conjunto = set(lista)\n",
    "print(conjunto)\n",
    "print(type(conjunto))"
   ]
  },
  {
   "cell_type": "markdown",
   "metadata": {},
   "source": [
    "***\n",
    "**Conjunto por comprensión**"
   ]
  },
  {
   "cell_type": "code",
   "execution_count": 12,
   "metadata": {},
   "outputs": [
    {
     "name": "stdout",
     "output_type": "stream",
     "text": [
      "Conjunto por comprensión\n",
      "{'🍔', '🍕', '🍟'}\n",
      "<class 'set'>\n"
     ]
    }
   ],
   "source": [
    "print (\"Conjunto por comprensión\")\n",
    "conjunto = {x for x in '🍕🍔🍟🍕🍔🍟🍔🍟'}\n",
    "print(conjunto)\n",
    "print(type(conjunto))"
   ]
  },
  {
   "cell_type": "markdown",
   "metadata": {},
   "source": [
    "***\n",
    "**Indexación y slicing**\n",
    "\n",
    "Los conjuntos no osportan indexacion ni slicing\n",
    "\n",
    "porque no son ordenados  ni indexados"
   ]
  },
  {
   "cell_type": "code",
   "execution_count": 13,
   "metadata": {},
   "outputs": [
    {
     "ename": "TypeError",
     "evalue": "'set' object is not subscriptable",
     "output_type": "error",
     "traceback": [
      "\u001b[1;31m---------------------------------------------------------------------------\u001b[0m",
      "\u001b[1;31mTypeError\u001b[0m                                 Traceback (most recent call last)",
      "Cell \u001b[1;32mIn[13], line 2\u001b[0m\n\u001b[0;32m      1\u001b[0m conjunto \u001b[38;5;241m=\u001b[39m {\u001b[38;5;241m1\u001b[39m, \u001b[38;5;241m2\u001b[39m, \u001b[38;5;241m3\u001b[39m, \u001b[38;5;241m4\u001b[39m, \u001b[38;5;241m5\u001b[39m}\n\u001b[1;32m----> 2\u001b[0m \u001b[38;5;28mprint\u001b[39m(\u001b[43mconjunto\u001b[49m\u001b[43m[\u001b[49m\u001b[38;5;241;43m0\u001b[39;49m\u001b[43m]\u001b[49m) \u001b[38;5;66;03m# TypeError: 'set' object is not subscriptable\u001b[39;00m\n",
      "\u001b[1;31mTypeError\u001b[0m: 'set' object is not subscriptable"
     ]
    }
   ],
   "source": [
    "conjunto = {1, 2, 3, 4, 5}\n",
    "print(conjunto[0]) # TypeError: 'set' object is not subscriptable"
   ]
  },
  {
   "cell_type": "code",
   "execution_count": 14,
   "metadata": {},
   "outputs": [
    {
     "ename": "TypeError",
     "evalue": "'set' object is not subscriptable",
     "output_type": "error",
     "traceback": [
      "\u001b[1;31m---------------------------------------------------------------------------\u001b[0m",
      "\u001b[1;31mTypeError\u001b[0m                                 Traceback (most recent call last)",
      "Cell \u001b[1;32mIn[14], line 2\u001b[0m\n\u001b[0;32m      1\u001b[0m conjunto \u001b[38;5;241m=\u001b[39m {\u001b[38;5;241m1\u001b[39m, \u001b[38;5;241m2\u001b[39m, \u001b[38;5;241m3\u001b[39m, \u001b[38;5;241m4\u001b[39m, \u001b[38;5;241m5\u001b[39m}\n\u001b[1;32m----> 2\u001b[0m \u001b[38;5;28mprint\u001b[39m(\u001b[43mconjunto\u001b[49m\u001b[43m[\u001b[49m\u001b[38;5;241;43m0\u001b[39;49m\u001b[43m:\u001b[49m\u001b[38;5;241;43m3\u001b[39;49m\u001b[43m]\u001b[49m) \u001b[38;5;66;03m# TypeError: 'set' object is not subscriptable\u001b[39;00m\n",
      "\u001b[1;31mTypeError\u001b[0m: 'set' object is not subscriptable"
     ]
    }
   ],
   "source": [
    "conjunto = {1, 2, 3, 4, 5}\n",
    "print(conjunto[0:3]) # TypeError: 'set' object is not subscriptable"
   ]
  },
  {
   "cell_type": "markdown",
   "metadata": {},
   "source": [
    "***\n",
    "**Concatenación de conjuntos**\n",
    "\n",
    "Los conjuntos no soportan la concatenación con el operador `+`"
   ]
  },
  {
   "cell_type": "code",
   "execution_count": 15,
   "metadata": {},
   "outputs": [
    {
     "ename": "TypeError",
     "evalue": "unsupported operand type(s) for +: 'set' and 'set'",
     "output_type": "error",
     "traceback": [
      "\u001b[1;31m---------------------------------------------------------------------------\u001b[0m",
      "\u001b[1;31mTypeError\u001b[0m                                 Traceback (most recent call last)",
      "Cell \u001b[1;32mIn[15], line 3\u001b[0m\n\u001b[0;32m      1\u001b[0m conjunto1 \u001b[38;5;241m=\u001b[39m {\u001b[38;5;241m1\u001b[39m, \u001b[38;5;241m2\u001b[39m, \u001b[38;5;241m3\u001b[39m}\n\u001b[0;32m      2\u001b[0m conjunto2 \u001b[38;5;241m=\u001b[39m {\u001b[38;5;241m4\u001b[39m, \u001b[38;5;241m5\u001b[39m, \u001b[38;5;241m6\u001b[39m}\n\u001b[1;32m----> 3\u001b[0m \u001b[38;5;28mprint\u001b[39m(\u001b[43mconjunto1\u001b[49m\u001b[43m \u001b[49m\u001b[38;5;241;43m+\u001b[39;49m\u001b[43m \u001b[49m\u001b[43mconjunto2\u001b[49m)\n\u001b[0;32m      4\u001b[0m \u001b[38;5;66;03m# TypeError: unsupported operand type(s) for +: 'set' and 'set'\u001b[39;00m\n",
      "\u001b[1;31mTypeError\u001b[0m: unsupported operand type(s) for +: 'set' and 'set'"
     ]
    }
   ],
   "source": [
    "conjunto1 = {1, 2, 3}\n",
    "conjunto2 = {4, 5, 6}\n",
    "print(conjunto1 + conjunto2)\n",
    "# TypeError: unsupported operand type(s) for +: 'set' and 'set'"
   ]
  },
  {
   "cell_type": "markdown",
   "metadata": {},
   "source": [
    "**Repetición con conjuntos**\n",
    "\n",
    "Los conjuntos no soportan la repetición con el operador `*`"
   ]
  },
  {
   "cell_type": "code",
   "execution_count": 16,
   "metadata": {},
   "outputs": [
    {
     "ename": "TypeError",
     "evalue": "unsupported operand type(s) for *: 'set' and 'int'",
     "output_type": "error",
     "traceback": [
      "\u001b[1;31m---------------------------------------------------------------------------\u001b[0m",
      "\u001b[1;31mTypeError\u001b[0m                                 Traceback (most recent call last)",
      "Cell \u001b[1;32mIn[16], line 2\u001b[0m\n\u001b[0;32m      1\u001b[0m conjunto \u001b[38;5;241m=\u001b[39m {\u001b[38;5;241m1\u001b[39m, \u001b[38;5;241m2\u001b[39m, \u001b[38;5;241m3\u001b[39m}\n\u001b[1;32m----> 2\u001b[0m \u001b[38;5;28mprint\u001b[39m(\u001b[43mconjunto\u001b[49m\u001b[43m \u001b[49m\u001b[38;5;241;43m*\u001b[39;49m\u001b[43m \u001b[49m\u001b[38;5;241;43m3\u001b[39;49m)\n\u001b[0;32m      3\u001b[0m \u001b[38;5;66;03m# TypeError: unsupported operand type(s) for *: 'set' and 'int'\u001b[39;00m\n",
      "\u001b[1;31mTypeError\u001b[0m: unsupported operand type(s) for *: 'set' and 'int'"
     ]
    }
   ],
   "source": [
    "conjunto = {1, 2, 3}\n",
    "print(conjunto * 3)\n",
    "# TypeError: unsupported operand type(s) for *: 'set' and 'int'"
   ]
  },
  {
   "cell_type": "markdown",
   "metadata": {},
   "source": [
    "***\n",
    "**Métodos de los conjuntos**\n",
    "\n",
    "Los conjuntos soportan métodos como:\n",
    "\n",
    "* Métodos de adición\n",
    "* Métodos de eliminación\n",
    "* Métodos de operaciones con conjuntos\n",
    "* Métodos de asignación con operaciones\n",
    "* Métodos de búsqueda\n",
    "* Métodos de copia\n",
    "***\n",
    "Se utiliza la notación de punto `.`\n",
    "\n",
    "`conjunto.metodo()`\n",
    "\n",
    "`conjunto.metodo(valor)`\n",
    "***\n",
    "**Métodos de adición**\n",
    "\n",
    "Los métodos de adición permiten agregar elementos a un conjunto\n",
    "\n",
    "* `add()`\n",
    "* `update()`\n",
    "  \n",
    "No retorna ninún valor\n",
    "***\n",
    "`add(valor)` recibe un valor y lo agrega al conjunto si no existe"
   ]
  },
  {
   "cell_type": "code",
   "execution_count": 17,
   "metadata": {},
   "outputs": [
    {
     "name": "stdout",
     "output_type": "stream",
     "text": [
      "Método add()\n",
      "{'🍔', '🍟', '🍕', '🌭'}\n",
      "{'🍔', '🌭', '🍕', '🥗', '🍟'}\n"
     ]
    }
   ],
   "source": [
    "print (\"Método add()\")\n",
    "conjunto = {'🍕','🍔','🍟','🌭'}\n",
    "print (conjunto)\n",
    "conjunto.add('🥗')\n",
    "print(conjunto) "
   ]
  },
  {
   "cell_type": "markdown",
   "metadata": {},
   "source": [
    "***\n",
    "`update(valores)` recibe una secuencia de valores y los agrega al conjunto si no existen"
   ]
  },
  {
   "cell_type": "code",
   "execution_count": 18,
   "metadata": {},
   "outputs": [
    {
     "name": "stdout",
     "output_type": "stream",
     "text": [
      "Método update()\n",
      "{'🍔', '🍟', '🍕', '🌭'}\n",
      "{'🍔', '🥤', '🌭', '🍕', '🍦', '🍟'}\n",
      "{'🍔', '🥤', '🌭', '🍕', '🍪', '🍦', '🍩', '🍟'}\n",
      "{'🍔', '🥤', '🌭', '🍫', '🍕', '🍬', '🍪', '🍦', '🍩', '🍟'}\n",
      "{'🍔', '🥤', '🌭', '🍫', '🍭', '🍕', '🍬', '🍮', '🍪', '🍦', '🍩', '🍟'}\n"
     ]
    }
   ],
   "source": [
    "print (\"Método update()\")\n",
    "conjunto = {'🍕','🍔','🍟','🌭'}\n",
    "print (conjunto)\n",
    "conjunto.update(['🥤','🍦'])\n",
    "print(conjunto) \n",
    "conjunto.update('🍩🍪')\n",
    "print(conjunto) \n",
    "conjunto.update(('🍫','🍬'))\n",
    "print(conjunto)\n",
    "conjunto.update({'🍭','🍮'})\n",
    "print(conjunto)"
   ]
  },
  {
   "cell_type": "markdown",
   "metadata": {},
   "source": [
    "***\n",
    "## **Métodos de eliminación**\n",
    "\n",
    "Los metodos de eliminación permiten eliminar elementos de un conjunto\n",
    "\n",
    "* `remove()`\n",
    "* `discard()`\n",
    "* `pop()`\n",
    "* `clear()`\n",
    "  \n",
    "Solo `pop()` retorna el elemento eliminado\n",
    "***\n",
    "`remove(valor)` recibe un valor y lo elimina del conjunto si existe, si no existe lanza un error"
   ]
  },
  {
   "cell_type": "code",
   "execution_count": 19,
   "metadata": {},
   "outputs": [
    {
     "name": "stdout",
     "output_type": "stream",
     "text": [
      "Método remove()\n",
      "{'🍔', '🍟', '🍕', '🌭'}\n",
      "{'🍟', '🍕', '🌭'}\n"
     ]
    }
   ],
   "source": [
    "print (\"Método remove()\")\n",
    "conjunto = {'🍕','🍔','🍟','🌭'} \n",
    "print (conjunto)\n",
    "conjunto.remove('🍔')\n",
    "print(conjunto)\n",
    "# conjunto.remove('🍔')\n",
    "# print(conjunto)\n",
    "# Key Error: '🍔'"
   ]
  },
  {
   "cell_type": "markdown",
   "metadata": {},
   "source": [
    "***\n",
    "`discard(valor)` recibe un valor y lo elimina del conjunto si existe, si no existe no lanza un error"
   ]
  },
  {
   "cell_type": "code",
   "execution_count": 20,
   "metadata": {},
   "outputs": [
    {
     "name": "stdout",
     "output_type": "stream",
     "text": [
      "Método discard()\n",
      "{'🍔', '🍟', '🍕', '🌭'}\n",
      "{'🍟', '🍕', '🌭'}\n",
      "{'🍟', '🍕', '🌭'}\n"
     ]
    }
   ],
   "source": [
    "print (\"Método discard()\")\n",
    "conjunto = {'🍕','🍔','🍟','🌭'}\n",
    "print (conjunto)\n",
    "conjunto.discard('🍔')\n",
    "print(conjunto)\n",
    "conjunto.discard('🍔')\n",
    "print(conjunto)"
   ]
  },
  {
   "cell_type": "markdown",
   "metadata": {},
   "source": [
    "***\n",
    "`pop()` elimina un elemento **aleatorio** del conjunto y lo retorna"
   ]
  },
  {
   "cell_type": "code",
   "execution_count": 21,
   "metadata": {},
   "outputs": [
    {
     "name": "stdout",
     "output_type": "stream",
     "text": [
      "Método pop()\n",
      "{'🍔', '🍦', '🍟', '🌭', '🍕', '🥤'}\n",
      "🍔\n",
      "{'🍦', '🍟', '🌭', '🍕', '🥤'}\n",
      "🍦\n",
      "{'🍟', '🌭', '🍕', '🥤'}\n"
     ]
    }
   ],
   "source": [
    "print (\"Método pop()\")\n",
    "conjunto = {'🍕','🍔','🍟','🌭', '🥤','🍦'}\n",
    "print (conjunto)\n",
    "print(conjunto.pop())\n",
    "print(conjunto)\n",
    "print(conjunto.pop())\n",
    "print(conjunto)"
   ]
  },
  {
   "cell_type": "markdown",
   "metadata": {},
   "source": [
    "***\n",
    "`clear()` elimina todos los elementos del conjunto"
   ]
  },
  {
   "cell_type": "code",
   "execution_count": 22,
   "metadata": {},
   "outputs": [
    {
     "name": "stdout",
     "output_type": "stream",
     "text": [
      "Método clear()\n",
      "{'🍔', '🍟', '🍕', '🌭'}\n",
      "set()\n"
     ]
    }
   ],
   "source": [
    "print (\"Método clear()\")\n",
    "conjunto = {'🍕','🍔','🍟','🌭'}\n",
    "print (conjunto)\n",
    "conjunto.clear()\n",
    "print(conjunto)"
   ]
  },
  {
   "cell_type": "markdown",
   "metadata": {},
   "source": [
    "***\n",
    "**Métodos de operaciones con conjuntos**\n",
    "\n",
    "* `union()` Unión de conjuntos\n",
    "* `insersection` Intersección de conjuntos\n",
    "* `difference()` Diferencia de conjuntos\n",
    "* `simmetric_difference()` Diferencia simétrica de conjuntos\n",
    "\n",
    "Retornan un nuevo conjunto con el resultado de la operación\n",
    "***\n",
    "`union(conjunto)` recibe un conjunto y retorna la unión de ambos\n",
    "\n",
    "Contiene todos los elementos de ambos sin repetir\n",
    "\n",
    "$A \\cup B = \\{x | x \\in A \\lor x \\in B\\}$"
   ]
  },
  {
   "cell_type": "code",
   "execution_count": 23,
   "metadata": {},
   "outputs": [
    {
     "name": "stdout",
     "output_type": "stream",
     "text": [
      "Método union()\n",
      "{'🍔', '🍟', '🥤'} {'🍨', '🍕', '🥤'}\n",
      "{'🍔', '🥤', '🍨', '🍕', '🍟'}\n"
     ]
    }
   ],
   "source": [
    "print (\"Método union()\")\n",
    "conjunto1 = {'🍔','🍟', '🥤'}\n",
    "conjunto2 = {'🍕','🍨','🥤'}\n",
    "print (conjunto1, conjunto2)\n",
    "union = conjunto1.union(conjunto2)\n",
    "print(union)"
   ]
  },
  {
   "cell_type": "markdown",
   "metadata": {},
   "source": [
    "***\n",
    "`intersection(conjunto)` recibe un conjunto y retorna la intersección de ambos\n",
    "contiene los elementos que están en ambos conjuntos\n",
    "\n",
    "$A \\cap B = \\{x | x \\in A \\land x \\in B\\}$"
   ]
  },
  {
   "cell_type": "code",
   "execution_count": 24,
   "metadata": {},
   "outputs": [
    {
     "name": "stdout",
     "output_type": "stream",
     "text": [
      "Método intersection()\n",
      "{'🍔', '🍟', '🥤'} {'🍨', '🍕', '🥤'}\n",
      "{'🥤'}\n"
     ]
    }
   ],
   "source": [
    "print (\"Método intersection()\")\n",
    "conjunto1 = {'🍔','🍟', '🥤'}\n",
    "conjunto2 = {'🍕','🍨','🥤'}\n",
    "print (conjunto1, conjunto2)\n",
    "interseccion = conjunto1.intersection(conjunto2)\n",
    "print(interseccion) "
   ]
  },
  {
   "cell_type": "markdown",
   "metadata": {},
   "source": [
    "***\n",
    "`difference(conjunto)` recibe un conjunto y retorna la diferencia de ambos conjuntos\n",
    "\n",
    "Los que están en el 1er conjunto pero no en el 2do\n",
    "\n",
    "$A - B = \\{x | x \\in A \\land x \\notin B\\}$"
   ]
  },
  {
   "cell_type": "code",
   "execution_count": 25,
   "metadata": {},
   "outputs": [
    {
     "name": "stdout",
     "output_type": "stream",
     "text": [
      "Método difference()\n",
      "1: {'🍔', '🍟', '🥤'} 2: {'🍨', '🍕', '🥤'}\n",
      "1 y 2: {'🍔', '🍟'}\n",
      "2 y 1: {'🍨', '🍕'}\n"
     ]
    }
   ],
   "source": [
    "print (\"Método difference()\")\n",
    "conjunto1 = {'🍔','🍟', '🥤'}\n",
    "conjunto2 = {'🍕','🍨','🥤'}\n",
    "print (\"1:\",conjunto1, \"2:\",conjunto2)\n",
    "diferencia = conjunto1.difference(conjunto2)\n",
    "print(\"1 y 2:\",diferencia)\n",
    "diferencia = conjunto2.difference(conjunto1)\n",
    "print(\"2 y 1:\",diferencia)"
   ]
  },
  {
   "cell_type": "markdown",
   "metadata": {},
   "source": [
    "***\n",
    "`symetric_difference(conjunto)` recibe un conjunto y retorna la diferencia simética de ambos\n",
    "\n",
    "Contiene Los elementos que están en un conjunto o en el otro pero no en ambos\n",
    "\n",
    "$A\\bigtriangleup B=\\{x | x \\in A \\land x \\notin B \\lor x \\in B \\land x \\notin A\\}$"
   ]
  },
  {
   "cell_type": "code",
   "execution_count": 26,
   "metadata": {},
   "outputs": [
    {
     "name": "stdout",
     "output_type": "stream",
     "text": [
      "Método symmetric_difference()\n",
      "{'🍔', '🍟', '🥤'} {'🍨', '🍕', '🥤'}\n",
      "{'🍔', '🍨', '🍕', '🍟'}\n"
     ]
    }
   ],
   "source": [
    "print (\"Método symmetric_difference()\")\n",
    "conjunto1 = {'🍔','🍟', '🥤'}\n",
    "conjunto2 = {'🍕','🍨','🥤'}\n",
    "print (conjunto1, conjunto2)\n",
    "diferencia_simetrica = conjunto1.symmetric_difference(conjunto2)\n",
    "print(diferencia_simetrica)"
   ]
  },
  {
   "cell_type": "markdown",
   "metadata": {},
   "source": [
    "**Métodos de asignación con operaciones**\n",
    "\n",
    "Permiten realizar operaciones con conjuntos y asignar el resultado al conjunto inicíal\n",
    "\n",
    "* `intersection_update()`: Intersección\n",
    "* `difference_update()`: Diferencia\n",
    "* `symetric_difference_update`: Diferencia simétrica\n",
    "***\n",
    "`intersection_update()` recibe un conjunto y asigna al conjunto inicial la intersección de ambos conjuntos"
   ]
  },
  {
   "cell_type": "code",
   "execution_count": 27,
   "metadata": {},
   "outputs": [
    {
     "name": "stdout",
     "output_type": "stream",
     "text": [
      "Método intersection_update()\n",
      "{'🍔', '🍟', '🥤'} {'🍨', '🍕', '🥤'}\n",
      "{'🥤'}\n"
     ]
    }
   ],
   "source": [
    "print (\"Método intersection_update()\")\n",
    "conjunto1 = {'🍔','🍟', '🥤'}\n",
    "conjunto2 = {'🍕','🍨','🥤'}\n",
    "print (conjunto1, conjunto2)\n",
    "conjunto1.intersection_update(conjunto2)\n",
    "print(conjunto1)"
   ]
  },
  {
   "cell_type": "markdown",
   "metadata": {},
   "source": [
    "***\n",
    "`difference_update(conjunto)` recibe un conjunto y asigna al conjunto inicial la diferencia de ambos conjuntos"
   ]
  },
  {
   "cell_type": "code",
   "execution_count": 28,
   "metadata": {},
   "outputs": [
    {
     "name": "stdout",
     "output_type": "stream",
     "text": [
      "Método difference_update()\n",
      "1: {'🍔', '🍟', '🥤'} 2: {'🍨', '🍕', '🥤'}\n",
      "1: {'🍔', '🍟'} 2: {'🍨', '🍕', '🥤'}\n"
     ]
    }
   ],
   "source": [
    "print (\"Método difference_update()\")\n",
    "conjunto1 = {'🍔','🍟', '🥤'}\n",
    "conjunto2 = {'🍕','🍨','🥤'}\n",
    "print (\"1:\",conjunto1, \"2:\",conjunto2)\n",
    "conjunto1.difference_update(conjunto2)\n",
    "print (\"1:\",conjunto1, \"2:\",conjunto2)"
   ]
  },
  {
   "cell_type": "markdown",
   "metadata": {},
   "source": [
    "***\n",
    "**Métodos de búsqueda**\n",
    "\n",
    "Los métodos de búsqueda permiten buscar elementos en un conjunto \n",
    "\n",
    "* `issubset()`: Subconjunto\n",
    "* `ìssuperset()`: Superconjunto\n",
    "* `isdisjoint()`: Disjunto\n",
    "\n",
    "Retornan un valor boooleano\n",
    "***\n",
    "`issubset(conjunto)` recibe una secuencia y retorna `True` si el conjunto es subconjunto del conjunto recibido"
   ]
  },
  {
   "cell_type": "code",
   "execution_count": 29,
   "metadata": {},
   "outputs": [
    {
     "name": "stdout",
     "output_type": "stream",
     "text": [
      "Método issubset()\n",
      "{'🍔', '🍟', '🥤'} {'🍨', '🍕', '🥤'} {'🍔', '🍟'}\n",
      "False\n",
      "True\n"
     ]
    }
   ],
   "source": [
    "print (\"Método issubset()\")\n",
    "conjunto1 = {'🍔','🍟', '🥤'}\n",
    "conjunto2 = {'🍕','🍨','🥤'}\n",
    "conjunto3 = {'🍔','🍟'}\n",
    "print (conjunto1, conjunto2,conjunto3)\n",
    "# ¿El conjunto1 es subconjunto del conjunto2?\n",
    "print(conjunto1.issubset(conjunto2))\n",
    "# ¿El conjunto3 es subconjunto del conjunto1?\n",
    "print(conjunto3.issubset(conjunto1))"
   ]
  },
  {
   "cell_type": "markdown",
   "metadata": {},
   "source": [
    "***\n",
    "`issuperset(conjunto)` recibe una secuencia y retorna `True` si el conjunto es superconjunto del conjunto recibido"
   ]
  },
  {
   "cell_type": "code",
   "execution_count": 30,
   "metadata": {},
   "outputs": [
    {
     "name": "stdout",
     "output_type": "stream",
     "text": [
      "Método issuperset()\n",
      "{'🍔', '🍟', '🥤'} {'🍨', '🍕', '🥤'} {'🍔', '🍟'}\n",
      "False\n",
      "True\n"
     ]
    }
   ],
   "source": [
    "print (\"Método issuperset()\")\n",
    "conjunto1 = {'🍔','🍟', '🥤'}\n",
    "conjunto2 = {'🍕','🍨','🥤'}\n",
    "conjunto3 = {'🍔','🍟'}\n",
    "print (conjunto1, conjunto2,conjunto3)\n",
    "# ¿El conjunto1 es superconjunto del conjunto2?\n",
    "print(conjunto1.issuperset(conjunto2)) # C1 contiene a C2?\n",
    "# ¿El conjunto1 es superconjunto del conjunto2?\n",
    "print(conjunto1.issuperset(conjunto3)) # C1 contiene a C3?"
   ]
  },
  {
   "cell_type": "markdown",
   "metadata": {},
   "source": [
    "***\n",
    "`isdisjoint(conjunto)` recibe un secuencia y retorna `True` si el conjunto no tiene elementos en común con el conjunto recibido"
   ]
  },
  {
   "cell_type": "code",
   "execution_count": 31,
   "metadata": {},
   "outputs": [
    {
     "name": "stdout",
     "output_type": "stream",
     "text": [
      "Método isdisjoint()\n",
      "{'🍔', '🍟', '🥤'} {'🍨', '🍕'} {'🍔', '🍟'}\n",
      "True\n",
      "False\n"
     ]
    }
   ],
   "source": [
    "print (\"Método isdisjoint()\")\n",
    "conjunto1 = {'🍔','🍟', '🥤'}\n",
    "conjunto2 = {'🍕','🍨'}\n",
    "conjunto3 = {'🍔','🍟'}\n",
    "print (conjunto1, conjunto2,conjunto3)\n",
    "# ¿El conjunto1 no tiene elementos en común con el conjunto2?\n",
    "print(conjunto1.isdisjoint(conjunto2))\n",
    "# ¿El conjunto1 no tiene elementos en común con el conjunto3?\n",
    "print(conjunto1.isdisjoint(conjunto3))"
   ]
  },
  {
   "cell_type": "markdown",
   "metadata": {},
   "source": [
    "***\n",
    "**Métodos de copia**\n",
    "\n",
    "Los metodos de copia permiten copiar un conjunto \n",
    "* `copy()`\n",
    "\n",
    "Retorna un nuevo conjunto con los mismos elementos\n",
    "***\n",
    "Cuando se asigna un conjunto a una variable se asigan por referencia\n",
    "\n",
    "NO se crea una copia del conjunto sino una referencia al conjunto original"
   ]
  },
  {
   "cell_type": "code",
   "execution_count": 32,
   "metadata": {},
   "outputs": [
    {
     "name": "stdout",
     "output_type": "stream",
     "text": [
      "Asignación por referencia\n",
      "{'🍔', '🍟', '🍕', '🌭'}\n",
      "{'🍔', '🌭', '🍕', '🥗', '🍟'}\n",
      "{'🍔', '🌭', '🍕', '🥗', '🍟'}\n"
     ]
    }
   ],
   "source": [
    "print (\"Asignación por referencia\")\n",
    "conjunto = {'🍕','🍔','🍟','🌭'}\n",
    "print (conjunto)\n",
    "copia = conjunto\n",
    "copia.add('🥗')\n",
    "print(conjunto)\n",
    "print(copia)"
   ]
  },
  {
   "cell_type": "markdown",
   "metadata": {},
   "source": [
    "***\n",
    "Para crear una copia de un conjunto se utiliza el método `copy()`"
   ]
  },
  {
   "cell_type": "code",
   "execution_count": 33,
   "metadata": {},
   "outputs": [
    {
     "name": "stdout",
     "output_type": "stream",
     "text": [
      "Método copy()\n",
      "{'🍔', '🍟', '🍕', '🌭'}\n",
      "{'🍔', '🍟', '🍕', '🌭'}\n",
      "{'🍔', '🌭', '🍕', '🥗', '🍟'}\n"
     ]
    }
   ],
   "source": [
    "print (\"Método copy()\")\n",
    "conjunto = {'🍕','🍔','🍟','🌭'}\n",
    "print (conjunto)\n",
    "copia = conjunto.copy()\n",
    "copia.add('🥗')\n",
    "print(conjunto)\n",
    "print(copia)"
   ]
  },
  {
   "cell_type": "markdown",
   "metadata": {},
   "source": [
    "***\n",
    "**Funciones con conjuntos**\n",
    "\n",
    "Los conjunto interactúan con funciones propias de python que permiten secuencias\n",
    "\n",
    "* `len()`\n",
    "* `max()`\n",
    "* `min()`\n",
    "* `sum()`\n",
    "\n",
    "Existen otras funciones pueden encontrarse en la [documentación](https://docs.python.org/3/library/stdtypes.html#set) y [funciones incorporadas](https://python-reference.readthedocs.io/en/latest/docs/sets/#functions)\n",
    "***\n",
    "`len(conjuntos)` retorna la cantidad de elementos del conjunto"
   ]
  },
  {
   "cell_type": "code",
   "execution_count": 34,
   "metadata": {},
   "outputs": [
    {
     "name": "stdout",
     "output_type": "stream",
     "text": [
      "Función len()\n",
      "{'🍔', '🍟', '🍕', '🌭'}\n",
      "4\n"
     ]
    }
   ],
   "source": [
    "print (\"Función len()\")\n",
    "conjunto = {'🍕','🍔','🍟','🌭'}\n",
    "print (conjunto)\n",
    "print(len(conjunto))"
   ]
  },
  {
   "cell_type": "markdown",
   "metadata": {},
   "source": [
    "***\n",
    "`max(conjunto)` retorna el elemento mayor del conjunto\n",
    "\n",
    "Si el conjunto contiene cadenas retorna el elemento mayor en orden lexicográfico\n",
    "\n",
    "Si el conjunto contiene número retorna el valor mayor\n",
    "***\n",
    "`max(conjunto)`"
   ]
  },
  {
   "cell_type": "code",
   "execution_count": 35,
   "metadata": {},
   "outputs": [
    {
     "name": "stdout",
     "output_type": "stream",
     "text": [
      "Función max()\n",
      "{1, 2, 3, 4, 5}\n",
      "5\n",
      "{'🍔', '🍟', '🍕', '🌭'}\n",
      "🍟\n"
     ]
    }
   ],
   "source": [
    "print (\"Función max()\")\n",
    "conjunto = {1, 2, 3, 4, 5}\n",
    "print (conjunto)\n",
    "print (max(conjunto))\n",
    "conjunto = {'🍕','🍔','🍟','🌭'}\n",
    "print (conjunto)\n",
    "print(max(conjunto))"
   ]
  },
  {
   "cell_type": "markdown",
   "metadata": {},
   "source": [
    "***\n",
    "`min(conjunto)` retorna el elemento menor del conjunto\n",
    "\n",
    "Si el conjunto contiene cadenas retorna el elemento menor en orden lexicográfico\n",
    "\n",
    "Si el conjunto contiene números retorna el valor menor\n",
    "***\n",
    "`min(conjunto)`"
   ]
  },
  {
   "cell_type": "code",
   "execution_count": 36,
   "metadata": {},
   "outputs": [
    {
     "name": "stdout",
     "output_type": "stream",
     "text": [
      "Función min()\n",
      "{1, 2, 3, 4, 5}\n",
      "1\n",
      "{'🍔', '🍨', '🍕', '🍟'}\n",
      "🍔\n"
     ]
    }
   ],
   "source": [
    "print (\"Función min()\")\n",
    "conjunto = {1, 2, 3, 4, 5}\n",
    "print (conjunto)\n",
    "print (min(conjunto))\n",
    "conjunto = {'🍨','🍔','🍟','🍕'}\n",
    "print (conjunto)\n",
    "print(min(conjunto))"
   ]
  },
  {
   "cell_type": "markdown",
   "metadata": {},
   "source": [
    "***\n",
    "`sum(conjunto)` retorna la suma de los elementos del conjunto\n",
    "\n",
    "Solo si el conjunto contiene números"
   ]
  },
  {
   "cell_type": "code",
   "execution_count": 37,
   "metadata": {},
   "outputs": [
    {
     "name": "stdout",
     "output_type": "stream",
     "text": [
      "Función sum()\n",
      "{1, 2, 3, 4, 5}\n",
      "15\n"
     ]
    }
   ],
   "source": [
    "print (\"Función sum()\")\n",
    "conjunto = {1, 2, 3, 4, 5}\n",
    "print (conjunto)\n",
    "print (sum(conjunto))"
   ]
  },
  {
   "cell_type": "markdown",
   "metadata": {},
   "source": [
    "***\n",
    "**Operadores con conjuntos**\n",
    "\n",
    "Los conjuntos soportan operadores que perimten realizar operaciones\n",
    "\n",
    "* Operadores de adición\n",
    "* Operadores de comparación\n",
    "* Operadores para operaciones con conjuntos\n",
    "* Operadores para asignación con operaciones\n",
    "***\n",
    "**Operadores de adición**\n",
    "\n",
    "Los operadores de adición permiten agregar elementos a un conjunto\n",
    "\n",
    "Similar al método `add()`\n",
    "\n",
    "* `|=`: Update\n",
    "*** \n",
    "* `|=`recibe un conjunto y agrega al conjunto inicial los elementos del conjunto recibido"
   ]
  },
  {
   "cell_type": "code",
   "execution_count": 38,
   "metadata": {},
   "outputs": [
    {
     "name": "stdout",
     "output_type": "stream",
     "text": [
      "Operador |=\n",
      "{'🍔', '🍟', '🥤'} {'🍨', '🍕'}\n",
      "{'🍔', '🥤', '🍨', '🍕', '🍟'}\n"
     ]
    }
   ],
   "source": [
    "print (\"Operador |=\")\n",
    "conjunto1 = {'🍔','🍟', '🥤'}\n",
    "conjunto2 = {'🍕','🍨'}\n",
    "print (conjunto1, conjunto2)\n",
    "conjunto1 |= conjunto2\n",
    "print(conjunto1)"
   ]
  },
  {
   "cell_type": "markdown",
   "metadata": {},
   "source": [
    "***\n",
    "**Operadores de comparación**\n",
    "\n",
    "Los operadores de comparación permiten comparar conjuntos\n",
    "\n",
    "* `==`: Igualdad\n",
    "* `!=`: Desigualdad\n",
    "* `<`: Es subconjunto y no igual\n",
    "* `>`: Es subconjunto y no igual\n",
    "* `<=`: Es subconjunto o igual\n",
    "* `>=`: Es superconjunto o igual\n",
    "***\n",
    "`==` compara si dos conjuntos son iguales"
   ]
  },
  {
   "cell_type": "code",
   "execution_count": 39,
   "metadata": {},
   "outputs": [
    {
     "name": "stdout",
     "output_type": "stream",
     "text": [
      "Operador ==\n",
      "{'🍔', '🍟', '🥤'} {'🍔', '🍟', '🥤'} {'🍨', '🍕'}\n",
      "True\n",
      "False\n"
     ]
    }
   ],
   "source": [
    "print (\"Operador ==\")\n",
    "conjunto1 = {'🍔','🍟', '🥤'}\n",
    "conjunto2 = {'🍔','🍟', '🥤'}\n",
    "conjunto3 = {'🍕','🍨'}\n",
    "print (conjunto1, conjunto2, conjunto3)\n",
    "print(conjunto1 == conjunto2)\n",
    "print(conjunto1 == conjunto3)"
   ]
  },
  {
   "cell_type": "markdown",
   "metadata": {},
   "source": [
    "***\n",
    "`!=` compara si dos conjuntos son diferentes"
   ]
  },
  {
   "cell_type": "code",
   "execution_count": 40,
   "metadata": {},
   "outputs": [
    {
     "name": "stdout",
     "output_type": "stream",
     "text": [
      "Operador !=\n",
      "{'🍔', '🍟', '🥤'} {'🍔', '🍟', '🥤'} {'🍨', '🍕'}\n",
      "False\n",
      "True\n"
     ]
    }
   ],
   "source": [
    "print (\"Operador !=\")\n",
    "conjunto1 = {'🍔','🍟', '🥤'}\n",
    "conjunto2 = {'🍔','🍟', '🥤'}\n",
    "conjunto3 = {'🍕','🍨'}\n",
    "print (conjunto1, conjunto2, conjunto3)\n",
    "print(conjunto1 != conjunto2)\n",
    "print(conjunto1 != conjunto3)"
   ]
  },
  {
   "cell_type": "markdown",
   "metadata": {},
   "source": [
    "***\n",
    "`<` compara si un conjunto es subconjunto y no igual a otro"
   ]
  },
  {
   "cell_type": "code",
   "execution_count": 41,
   "metadata": {},
   "outputs": [
    {
     "name": "stdout",
     "output_type": "stream",
     "text": [
      "Operador <\n",
      "{'🍔', '🍟'} {'🍔', '🍟', '🥤'} {'🍨', '🍕'}\n",
      "True\n",
      "False\n"
     ]
    }
   ],
   "source": [
    "print (\"Operador <\")\n",
    "conjunto1 = {'🍔','🍟'}\n",
    "conjunto2 = {'🍔','🍟', '🥤'}\n",
    "conjunto3 = {'🍕','🍨'}\n",
    "print (conjunto1, conjunto2, conjunto3)\n",
    "print(conjunto1 < conjunto2)\n",
    "print(conjunto1 < conjunto3)"
   ]
  },
  {
   "cell_type": "markdown",
   "metadata": {},
   "source": [
    "***\n",
    "\n",
    "`>` compara si un conjunto es superconjunto y no igual a otro"
   ]
  },
  {
   "cell_type": "code",
   "execution_count": 42,
   "metadata": {},
   "outputs": [
    {
     "name": "stdout",
     "output_type": "stream",
     "text": [
      "Operador >\n",
      "{'🍔', '🍟', '🍕', '🥤'} {'🍔', '🍟', '🥤'} {'🍨', '🍕'}\n",
      "True\n",
      "False\n"
     ]
    }
   ],
   "source": [
    "print (\"Operador >\")\n",
    "conjunto1 = {'🍔','🍟','🥤','🍕'}\n",
    "conjunto2 = {'🍔','🍟', '🥤'}\n",
    "conjunto3 = {'🍕','🍨'}\n",
    "print (conjunto1, conjunto2, conjunto3)\n",
    "print(conjunto1 > conjunto2)\n",
    "print(conjunto1 > conjunto3)"
   ]
  },
  {
   "cell_type": "markdown",
   "metadata": {},
   "source": [
    "***\n",
    "\n",
    "`<=` compara si un conjunto es subconjunto o igual a otro"
   ]
  },
  {
   "cell_type": "code",
   "execution_count": 43,
   "metadata": {},
   "outputs": [
    {
     "name": "stdout",
     "output_type": "stream",
     "text": [
      "Operador <=\n",
      "{'🍔', '🍟'} {'🍔', '🍟'} {'🍨', '🍕'}\n",
      "True\n",
      "False\n"
     ]
    }
   ],
   "source": [
    "print (\"Operador <=\")\n",
    "conjunto1 = {'🍔','🍟'}\n",
    "conjunto2 = {'🍔','🍟'}\n",
    "conjunto3 = {'🍕','🍨'}\n",
    "print (conjunto1, conjunto2, conjunto3)\n",
    "print(conjunto1 <= conjunto2)\n",
    "print(conjunto1 <= conjunto3)"
   ]
  },
  {
   "cell_type": "markdown",
   "metadata": {},
   "source": [
    "***\n",
    "`>=` compara si un conjunto es superconjunto o igual a otro"
   ]
  },
  {
   "cell_type": "code",
   "execution_count": 44,
   "metadata": {},
   "outputs": [
    {
     "name": "stdout",
     "output_type": "stream",
     "text": [
      "Operador >=\n",
      "{'🍔', '🍟'} {'🍔', '🍟'} {'🍨', '🍕'}\n",
      "True\n",
      "False\n"
     ]
    }
   ],
   "source": [
    "print (\"Operador >=\")\n",
    "conjunto1 = {'🍔','🍟'}\n",
    "conjunto2 = {'🍔','🍟'}\n",
    "conjunto3 = {'🍕','🍨'}\n",
    "print (conjunto1, conjunto2, conjunto3)\n",
    "print(conjunto1 >= conjunto2)\n",
    "print(conjunto1 >= conjunto3)"
   ]
  },
  {
   "cell_type": "markdown",
   "metadata": {},
   "source": [
    "***\n",
    "\n",
    "**Operadores para operaciones con conjuntos**\n",
    "\n",
    "Los operadores para operaciones con cojuntos permiten realizar operaciones con conjuntos\n",
    "\n",
    "* `|`: Unión\n",
    "* `&`: Intersección\n",
    "* `-`: Diferencia\n",
    "* `^`: Diferencia simétrica\n",
    "\n",
    "***\n",
    "\n",
    "`|` retorna la unión de dos conjuntos"
   ]
  },
  {
   "cell_type": "code",
   "execution_count": 45,
   "metadata": {},
   "outputs": [
    {
     "name": "stdout",
     "output_type": "stream",
     "text": [
      "Operador |\n",
      "{'🍔', '🍟', '🥤'} {'🍨', '🍕', '🥤'}\n",
      "{'🍔', '🥤', '🍨', '🍕', '🍟'}\n"
     ]
    }
   ],
   "source": [
    "print (\"Operador |\")\n",
    "conjunto1 = {'🍔','🍟', '🥤'}\n",
    "conjunto2 = {'🍕','🍨','🥤'}\n",
    "print (conjunto1, conjunto2)\n",
    "union = conjunto1 | conjunto2\n",
    "print(union)"
   ]
  },
  {
   "cell_type": "markdown",
   "metadata": {},
   "source": [
    "***\n",
    "`&` retorna la intersección de dos conjuntos"
   ]
  },
  {
   "cell_type": "code",
   "execution_count": 46,
   "metadata": {},
   "outputs": [
    {
     "name": "stdout",
     "output_type": "stream",
     "text": [
      "Operador &\n",
      "{'🍔', '🍟', '🥤'} {'🍨', '🍕', '🥤'}\n",
      "{'🥤'}\n"
     ]
    }
   ],
   "source": [
    "print (\"Operador &\")\n",
    "conjunto1 = {'🍔','🍟', '🥤'}\n",
    "conjunto2 = {'🍕','🍨','🥤'}\n",
    "print (conjunto1, conjunto2)\n",
    "interseccion = conjunto1 & conjunto2\n",
    "print(interseccion)"
   ]
  },
  {
   "cell_type": "markdown",
   "metadata": {},
   "source": [
    "***\n",
    "\n",
    "`-` retorna la diferencia de dos conjuntos"
   ]
  },
  {
   "cell_type": "code",
   "execution_count": 47,
   "metadata": {},
   "outputs": [
    {
     "name": "stdout",
     "output_type": "stream",
     "text": [
      "Operador -\n",
      "1: {'🍔', '🍟', '🥤'} 2: {'🍨', '🍕', '🥤'}\n",
      "1 - 2: {'🍔', '🍟'}\n",
      "2 - 1: {'🍨', '🍕'}\n"
     ]
    }
   ],
   "source": [
    "print (\"Operador -\")\n",
    "conjunto1 = {'🍔','🍟', '🥤'}\n",
    "conjunto2 = {'🍕','🍨','🥤'}\n",
    "print (\"1:\",conjunto1, \"2:\",conjunto2)\n",
    "diferencia = conjunto1 - conjunto2\n",
    "print(\"1 - 2:\",diferencia)\n",
    "diferencia = conjunto2 - conjunto1\n",
    "print(\"2 - 1:\",diferencia)"
   ]
  },
  {
   "cell_type": "markdown",
   "metadata": {},
   "source": [
    "***\n",
    "\n",
    "`^` retorna la diferencia simétrica de dos conjuntos"
   ]
  },
  {
   "cell_type": "code",
   "execution_count": 48,
   "metadata": {},
   "outputs": [
    {
     "name": "stdout",
     "output_type": "stream",
     "text": [
      "Operador ^\n",
      "{'🍔', '🍟', '🥤'} {'🍨', '🍕', '🥤'}\n",
      "{'🍔', '🍨', '🍕', '🍟'}\n"
     ]
    }
   ],
   "source": [
    "print (\"Operador ^\")\n",
    "conjunto1 = {'🍔','🍟', '🥤'}\n",
    "conjunto2 = {'🍕','🍨','🥤'}\n",
    "print (conjunto1, conjunto2)\n",
    "diferencia_simetrica = conjunto1 ^ conjunto2\n",
    "print(diferencia_simetrica)"
   ]
  },
  {
   "cell_type": "markdown",
   "metadata": {},
   "source": [
    "***\n",
    "\n",
    "**Operadores para asignación con operaciones**\n",
    "\n",
    "Los operadores para asignación con operaciones permiten realizar operaciones con conjuntos y asignar el resultado al conjunto inicial\n",
    "\n",
    "* `|=`: Unión\n",
    "* `&=`: Intersección\n",
    "* `-=`: Diferencia\n",
    "* `^=`: Diferencia simétrica\n",
    "\n",
    "***\n",
    "\n",
    "`|=` recibe un conjunto y agrega al conjunto inicial los elementos del conjunto recibido"
   ]
  },
  {
   "cell_type": "code",
   "execution_count": 49,
   "metadata": {},
   "outputs": [
    {
     "name": "stdout",
     "output_type": "stream",
     "text": [
      "Operador |= Unión\n",
      "{'🍔', '🍟', '🥤'} {'🍨', '🍕', '🥤'}\n",
      "{'🍔', '🥤', '🍨', '🍕', '🍟'}\n"
     ]
    }
   ],
   "source": [
    "print (\"Operador |= Unión\")\n",
    "conjunto1 = {'🍔','🍟', '🥤'}\n",
    "conjunto2 = {'🍕','🍨','🥤'}\n",
    "print (conjunto1, conjunto2)\n",
    "conjunto1 |= conjunto2\n",
    "print(conjunto1)"
   ]
  },
  {
   "cell_type": "markdown",
   "metadata": {},
   "source": [
    "***\n",
    "\n",
    "`&=` recibe un conjunto y asigna al conjunto inicial la intersección de ambos conjuntos"
   ]
  },
  {
   "cell_type": "code",
   "execution_count": 50,
   "metadata": {},
   "outputs": [
    {
     "name": "stdout",
     "output_type": "stream",
     "text": [
      "Operador &= Intersección\n",
      "{'🍔', '🍟', '🥤'} {'🍨', '🍕', '🥤'}\n",
      "{'🥤'}\n"
     ]
    }
   ],
   "source": [
    "print (\"Operador &= Intersección\")\n",
    "conjunto1 = {'🍔','🍟', '🥤'}\n",
    "conjunto2 = {'🍕','🍨','🥤'}\n",
    "print (conjunto1, conjunto2)\n",
    "conjunto1 &= conjunto2\n",
    "print(conjunto1)"
   ]
  },
  {
   "cell_type": "markdown",
   "metadata": {},
   "source": [
    "***\n",
    "\n",
    "`-=` recibe un conjunto y asigna al conjunto inicial la diferencia de ambos conjuntos"
   ]
  },
  {
   "cell_type": "code",
   "execution_count": 51,
   "metadata": {},
   "outputs": [
    {
     "name": "stdout",
     "output_type": "stream",
     "text": [
      "Operador -= Diferencia\n",
      "1: {'🍔', '🍟', '🥤'} 2: {'🍨', '🍕', '🥤'}\n",
      "1 - 2: {'🍔', '🍟'}\n",
      "2 - 1: {'🍨', '🍕'}\n"
     ]
    }
   ],
   "source": [
    "print (\"Operador -= Diferencia\")\n",
    "conjunto1 = {'🍔','🍟', '🥤'}\n",
    "conjunto2 = {'🍕','🍨','🥤'}\n",
    "print (\"1:\",conjunto1, \"2:\",conjunto2)\n",
    "conjunto1 -= conjunto2\n",
    "print(\"1 - 2:\",conjunto1)\n",
    "conjunto1 = {'🍔','🍟', '🥤'}\n",
    "conjunto2 -= conjunto1\n",
    "print(\"2 - 1:\",conjunto2)"
   ]
  },
  {
   "cell_type": "markdown",
   "metadata": {},
   "source": [
    "***\n",
    "\n",
    "`^=` recibe un conjunto y asigna al conjunto inicial la diferencia simétrica de ambos conjuntos"
   ]
  },
  {
   "cell_type": "code",
   "execution_count": 52,
   "metadata": {},
   "outputs": [
    {
     "name": "stdout",
     "output_type": "stream",
     "text": [
      "Operador ^= Diferencia simétrica\n",
      "{'🍔', '🍟', '🥤'} {'🍨', '🍕', '🥤'}\n",
      "{'🍔', '🍨', '🍕', '🍟'}\n"
     ]
    }
   ],
   "source": [
    "print (\"Operador ^= Diferencia simétrica\")\n",
    "conjunto1 = {'🍔','🍟', '🥤'}\n",
    "conjunto2 = {'🍕','🍨','🥤'}\n",
    "print (conjunto1, conjunto2)\n",
    "conjunto1 ^= conjunto2\n",
    "print(conjunto1)"
   ]
  },
  {
   "cell_type": "markdown",
   "metadata": {},
   "source": [
    "***\n",
    "\n",
    "**Conjuntos inmutables**\n",
    "\n",
    "Los conjuntos inmutables son conjuntos que no pueden ser modificados después de su creación\n",
    "\n",
    "En Python se declaran utilizando la función `frozenset()`"
   ]
  },
  {
   "cell_type": "code",
   "execution_count": 53,
   "metadata": {},
   "outputs": [
    {
     "name": "stdout",
     "output_type": "stream",
     "text": [
      "frozenset({'🍔', '🥗', '🌭', '🍕', '🍟'})\n",
      "<class 'frozenset'>\n"
     ]
    }
   ],
   "source": [
    "conjunto = frozenset({'🍔','🍕','🥗','🍟','🌭'})\n",
    "print(conjunto)\n",
    "print(type(conjunto))"
   ]
  },
  {
   "cell_type": "markdown",
   "metadata": {},
   "source": [
    "***\n",
    "\n",
    "Poseen los mismos métodos que los conjuntos mutables pero no poseen los métodos de adición, eliminación y asignaciones con operaciones"
   ]
  },
  {
   "cell_type": "code",
   "execution_count": 54,
   "metadata": {},
   "outputs": [
    {
     "ename": "SyntaxError",
     "evalue": "invalid syntax (3116406244.py, line 5)",
     "output_type": "error",
     "traceback": [
      "\u001b[1;36m  Cell \u001b[1;32mIn[54], line 5\u001b[1;36m\u001b[0m\n\u001b[1;33m    print(conjunto |= {6}) # SyntaxError: invalid syntax\u001b[0m\n\u001b[1;37m                   ^\u001b[0m\n\u001b[1;31mSyntaxError\u001b[0m\u001b[1;31m:\u001b[0m invalid syntax\n"
     ]
    }
   ],
   "source": [
    "conjunto = frozenset({1, 2, 3, 4, 5})\n",
    "print(conjunto)\n",
    "print(conjunto.add(6)) # AttributeError: 'frozenset' object has no attribute 'add'\n",
    "print(conjunto.remove(1)) # AttributeError: 'frozenset' object has no attribute 'remove'\n",
    "print(conjunto |= {6}) # SyntaxError: invalid syntax"
   ]
  },
  {
   "cell_type": "markdown",
   "metadata": {},
   "source": [
    "***\n",
    "\n",
    "**Conjuntos anidados**\n",
    "\n",
    "Los conjuntos anidados son cojuntos qu econtiene otros conjuntos pero tienen que ser inmutables para ser anidados"
   ]
  },
  {
   "cell_type": "code",
   "execution_count": 55,
   "metadata": {},
   "outputs": [
    {
     "name": "stdout",
     "output_type": "stream",
     "text": [
      "Conjunto de conjuntos\n",
      "{frozenset({'🍎', '🍓', '🍅'}), frozenset({'🍐', '🍈', '🍏'})}\n",
      "<class 'set'>\n"
     ]
    }
   ],
   "source": [
    "print (\"Conjunto de conjuntos\")\n",
    "conjunto = {frozenset({'🍅','🍓','🍎'}), frozenset({'🍈','🍐','🍏'})}\n",
    "print(conjunto)\n",
    "print(type(conjunto))"
   ]
  },
  {
   "cell_type": "markdown",
   "metadata": {},
   "source": [
    "***\n",
    "\n",
    "Si se intenta anidar un conjunto mutable se lanza un error"
   ]
  },
  {
   "cell_type": "code",
   "execution_count": 56,
   "metadata": {},
   "outputs": [
    {
     "name": "stdout",
     "output_type": "stream",
     "text": [
      "Conjunto de conjuntos\n"
     ]
    },
    {
     "ename": "TypeError",
     "evalue": "unhashable type: 'set'",
     "output_type": "error",
     "traceback": [
      "\u001b[1;31m---------------------------------------------------------------------------\u001b[0m",
      "\u001b[1;31mTypeError\u001b[0m                                 Traceback (most recent call last)",
      "Cell \u001b[1;32mIn[56], line 2\u001b[0m\n\u001b[0;32m      1\u001b[0m \u001b[38;5;28mprint\u001b[39m (\u001b[38;5;124m\"\u001b[39m\u001b[38;5;124mConjunto de conjuntos\u001b[39m\u001b[38;5;124m\"\u001b[39m)\n\u001b[1;32m----> 2\u001b[0m conjunto \u001b[38;5;241m=\u001b[39m {{\u001b[38;5;124m'\u001b[39m\u001b[38;5;124m🍅\u001b[39m\u001b[38;5;124m'\u001b[39m,\u001b[38;5;124m'\u001b[39m\u001b[38;5;124m🍓\u001b[39m\u001b[38;5;124m'\u001b[39m,\u001b[38;5;124m'\u001b[39m\u001b[38;5;124m🍎\u001b[39m\u001b[38;5;124m'\u001b[39m}, {\u001b[38;5;124m'\u001b[39m\u001b[38;5;124m🍈\u001b[39m\u001b[38;5;124m'\u001b[39m,\u001b[38;5;124m'\u001b[39m\u001b[38;5;124m🍐\u001b[39m\u001b[38;5;124m'\u001b[39m,\u001b[38;5;124m'\u001b[39m\u001b[38;5;124m🍏\u001b[39m\u001b[38;5;124m'\u001b[39m}} \u001b[38;5;66;03m#TypeError: unhashable type: 'set'\u001b[39;00m\n\u001b[0;32m      3\u001b[0m \u001b[38;5;28mprint\u001b[39m(conjunto)\n\u001b[0;32m      4\u001b[0m \u001b[38;5;28mprint\u001b[39m(\u001b[38;5;28mtype\u001b[39m(conjunto))\n",
      "\u001b[1;31mTypeError\u001b[0m: unhashable type: 'set'"
     ]
    }
   ],
   "source": [
    "print (\"Conjunto de conjuntos\")\n",
    "conjunto = {{'🍅','🍓','🍎'}, {'🍈','🍐','🍏'}} #TypeError: unhashable type: 'set'\n",
    "print(conjunto)\n",
    "print(type(conjunto))"
   ]
  }
 ],
 "metadata": {
  "kernelspec": {
   "display_name": "Python 3",
   "language": "python",
   "name": "python3"
  },
  "language_info": {
   "codemirror_mode": {
    "name": "ipython",
    "version": 3
   },
   "file_extension": ".py",
   "mimetype": "text/x-python",
   "name": "python",
   "nbconvert_exporter": "python",
   "pygments_lexer": "ipython3",
   "version": "3.12.3"
  }
 },
 "nbformat": 4,
 "nbformat_minor": 2
}
